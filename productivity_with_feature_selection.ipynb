{
  "nbformat": 4,
  "nbformat_minor": 0,
  "metadata": {
    "colab": {
      "provenance": [],
      "include_colab_link": true
    },
    "kernelspec": {
      "name": "python3",
      "display_name": "Python 3"
    },
    "language_info": {
      "name": "python"
    }
  },
  "cells": [
    {
      "cell_type": "markdown",
      "metadata": {
        "id": "view-in-github",
        "colab_type": "text"
      },
      "source": [
        "<a href=\"https://colab.research.google.com/github/yanarkpanjaitan/Portofolio/blob/main/productivity_with_feature_selection.ipynb\" target=\"_parent\"><img src=\"https://colab.research.google.com/assets/colab-badge.svg\" alt=\"Open In Colab\"/></a>"
      ]
    },
    {
      "cell_type": "code",
      "execution_count": null,
      "metadata": {
        "id": "ylxt657vemjX"
      },
      "outputs": [],
      "source": [
        "import seaborn as sns\n",
        "import numpy as np # linear algebra\n",
        "import pandas as pd # data processing, CSV file I/O (e.g. pd.read_csv)\n",
        "import matplotlib.pyplot as plt"
      ]
    },
    {
      "cell_type": "code",
      "source": [
        "data = pd.read_csv('garments_worker_productivity.csv')\n",
        "data"
      ],
      "metadata": {
        "colab": {
          "base_uri": "https://localhost:8080/",
          "height": 488
        },
        "id": "geM53aehmqn9",
        "outputId": "de0b0042-dc32-49f6-b16c-601455fd95de"
      },
      "execution_count": null,
      "outputs": [
        {
          "output_type": "execute_result",
          "data": {
            "text/plain": [
              "           date   quarter  department        day  team  targeted_productivity  \\\n",
              "0      1/1/2015  Quarter1      sweing   Thursday     8                   0.80   \n",
              "1      1/1/2015  Quarter1  finishing    Thursday     1                   0.75   \n",
              "2      1/1/2015  Quarter1      sweing   Thursday    11                   0.80   \n",
              "3      1/1/2015  Quarter1      sweing   Thursday    12                   0.80   \n",
              "4      1/1/2015  Quarter1      sweing   Thursday     6                   0.80   \n",
              "...         ...       ...         ...        ...   ...                    ...   \n",
              "1192  3/11/2015  Quarter2   finishing  Wednesday    10                   0.75   \n",
              "1193  3/11/2015  Quarter2   finishing  Wednesday     8                   0.70   \n",
              "1194  3/11/2015  Quarter2   finishing  Wednesday     7                   0.65   \n",
              "1195  3/11/2015  Quarter2   finishing  Wednesday     9                   0.75   \n",
              "1196  3/11/2015  Quarter2   finishing  Wednesday     6                   0.70   \n",
              "\n",
              "        smv     wip  over_time  incentive  idle_time  idle_men  \\\n",
              "0     26.16  1108.0       7080         98        0.0         0   \n",
              "1      3.94     NaN        960          0        0.0         0   \n",
              "2     11.41   968.0       3660         50        0.0         0   \n",
              "3     11.41   968.0       3660         50        0.0         0   \n",
              "4     25.90  1170.0       1920         50        0.0         0   \n",
              "...     ...     ...        ...        ...        ...       ...   \n",
              "1192   2.90     NaN        960          0        0.0         0   \n",
              "1193   3.90     NaN        960          0        0.0         0   \n",
              "1194   3.90     NaN        960          0        0.0         0   \n",
              "1195   2.90     NaN       1800          0        0.0         0   \n",
              "1196   2.90     NaN        720          0        0.0         0   \n",
              "\n",
              "      no_of_style_change  no_of_workers  actual_productivity  \n",
              "0                      0           59.0             0.940725  \n",
              "1                      0            8.0             0.886500  \n",
              "2                      0           30.5             0.800570  \n",
              "3                      0           30.5             0.800570  \n",
              "4                      0           56.0             0.800382  \n",
              "...                  ...            ...                  ...  \n",
              "1192                   0            8.0             0.628333  \n",
              "1193                   0            8.0             0.625625  \n",
              "1194                   0            8.0             0.625625  \n",
              "1195                   0           15.0             0.505889  \n",
              "1196                   0            6.0             0.394722  \n",
              "\n",
              "[1197 rows x 15 columns]"
            ],
            "text/html": [
              "\n",
              "  <div id=\"df-7529c877-775e-423f-b2f8-8d758c7064d9\">\n",
              "    <div class=\"colab-df-container\">\n",
              "      <div>\n",
              "<style scoped>\n",
              "    .dataframe tbody tr th:only-of-type {\n",
              "        vertical-align: middle;\n",
              "    }\n",
              "\n",
              "    .dataframe tbody tr th {\n",
              "        vertical-align: top;\n",
              "    }\n",
              "\n",
              "    .dataframe thead th {\n",
              "        text-align: right;\n",
              "    }\n",
              "</style>\n",
              "<table border=\"1\" class=\"dataframe\">\n",
              "  <thead>\n",
              "    <tr style=\"text-align: right;\">\n",
              "      <th></th>\n",
              "      <th>date</th>\n",
              "      <th>quarter</th>\n",
              "      <th>department</th>\n",
              "      <th>day</th>\n",
              "      <th>team</th>\n",
              "      <th>targeted_productivity</th>\n",
              "      <th>smv</th>\n",
              "      <th>wip</th>\n",
              "      <th>over_time</th>\n",
              "      <th>incentive</th>\n",
              "      <th>idle_time</th>\n",
              "      <th>idle_men</th>\n",
              "      <th>no_of_style_change</th>\n",
              "      <th>no_of_workers</th>\n",
              "      <th>actual_productivity</th>\n",
              "    </tr>\n",
              "  </thead>\n",
              "  <tbody>\n",
              "    <tr>\n",
              "      <th>0</th>\n",
              "      <td>1/1/2015</td>\n",
              "      <td>Quarter1</td>\n",
              "      <td>sweing</td>\n",
              "      <td>Thursday</td>\n",
              "      <td>8</td>\n",
              "      <td>0.80</td>\n",
              "      <td>26.16</td>\n",
              "      <td>1108.0</td>\n",
              "      <td>7080</td>\n",
              "      <td>98</td>\n",
              "      <td>0.0</td>\n",
              "      <td>0</td>\n",
              "      <td>0</td>\n",
              "      <td>59.0</td>\n",
              "      <td>0.940725</td>\n",
              "    </tr>\n",
              "    <tr>\n",
              "      <th>1</th>\n",
              "      <td>1/1/2015</td>\n",
              "      <td>Quarter1</td>\n",
              "      <td>finishing</td>\n",
              "      <td>Thursday</td>\n",
              "      <td>1</td>\n",
              "      <td>0.75</td>\n",
              "      <td>3.94</td>\n",
              "      <td>NaN</td>\n",
              "      <td>960</td>\n",
              "      <td>0</td>\n",
              "      <td>0.0</td>\n",
              "      <td>0</td>\n",
              "      <td>0</td>\n",
              "      <td>8.0</td>\n",
              "      <td>0.886500</td>\n",
              "    </tr>\n",
              "    <tr>\n",
              "      <th>2</th>\n",
              "      <td>1/1/2015</td>\n",
              "      <td>Quarter1</td>\n",
              "      <td>sweing</td>\n",
              "      <td>Thursday</td>\n",
              "      <td>11</td>\n",
              "      <td>0.80</td>\n",
              "      <td>11.41</td>\n",
              "      <td>968.0</td>\n",
              "      <td>3660</td>\n",
              "      <td>50</td>\n",
              "      <td>0.0</td>\n",
              "      <td>0</td>\n",
              "      <td>0</td>\n",
              "      <td>30.5</td>\n",
              "      <td>0.800570</td>\n",
              "    </tr>\n",
              "    <tr>\n",
              "      <th>3</th>\n",
              "      <td>1/1/2015</td>\n",
              "      <td>Quarter1</td>\n",
              "      <td>sweing</td>\n",
              "      <td>Thursday</td>\n",
              "      <td>12</td>\n",
              "      <td>0.80</td>\n",
              "      <td>11.41</td>\n",
              "      <td>968.0</td>\n",
              "      <td>3660</td>\n",
              "      <td>50</td>\n",
              "      <td>0.0</td>\n",
              "      <td>0</td>\n",
              "      <td>0</td>\n",
              "      <td>30.5</td>\n",
              "      <td>0.800570</td>\n",
              "    </tr>\n",
              "    <tr>\n",
              "      <th>4</th>\n",
              "      <td>1/1/2015</td>\n",
              "      <td>Quarter1</td>\n",
              "      <td>sweing</td>\n",
              "      <td>Thursday</td>\n",
              "      <td>6</td>\n",
              "      <td>0.80</td>\n",
              "      <td>25.90</td>\n",
              "      <td>1170.0</td>\n",
              "      <td>1920</td>\n",
              "      <td>50</td>\n",
              "      <td>0.0</td>\n",
              "      <td>0</td>\n",
              "      <td>0</td>\n",
              "      <td>56.0</td>\n",
              "      <td>0.800382</td>\n",
              "    </tr>\n",
              "    <tr>\n",
              "      <th>...</th>\n",
              "      <td>...</td>\n",
              "      <td>...</td>\n",
              "      <td>...</td>\n",
              "      <td>...</td>\n",
              "      <td>...</td>\n",
              "      <td>...</td>\n",
              "      <td>...</td>\n",
              "      <td>...</td>\n",
              "      <td>...</td>\n",
              "      <td>...</td>\n",
              "      <td>...</td>\n",
              "      <td>...</td>\n",
              "      <td>...</td>\n",
              "      <td>...</td>\n",
              "      <td>...</td>\n",
              "    </tr>\n",
              "    <tr>\n",
              "      <th>1192</th>\n",
              "      <td>3/11/2015</td>\n",
              "      <td>Quarter2</td>\n",
              "      <td>finishing</td>\n",
              "      <td>Wednesday</td>\n",
              "      <td>10</td>\n",
              "      <td>0.75</td>\n",
              "      <td>2.90</td>\n",
              "      <td>NaN</td>\n",
              "      <td>960</td>\n",
              "      <td>0</td>\n",
              "      <td>0.0</td>\n",
              "      <td>0</td>\n",
              "      <td>0</td>\n",
              "      <td>8.0</td>\n",
              "      <td>0.628333</td>\n",
              "    </tr>\n",
              "    <tr>\n",
              "      <th>1193</th>\n",
              "      <td>3/11/2015</td>\n",
              "      <td>Quarter2</td>\n",
              "      <td>finishing</td>\n",
              "      <td>Wednesday</td>\n",
              "      <td>8</td>\n",
              "      <td>0.70</td>\n",
              "      <td>3.90</td>\n",
              "      <td>NaN</td>\n",
              "      <td>960</td>\n",
              "      <td>0</td>\n",
              "      <td>0.0</td>\n",
              "      <td>0</td>\n",
              "      <td>0</td>\n",
              "      <td>8.0</td>\n",
              "      <td>0.625625</td>\n",
              "    </tr>\n",
              "    <tr>\n",
              "      <th>1194</th>\n",
              "      <td>3/11/2015</td>\n",
              "      <td>Quarter2</td>\n",
              "      <td>finishing</td>\n",
              "      <td>Wednesday</td>\n",
              "      <td>7</td>\n",
              "      <td>0.65</td>\n",
              "      <td>3.90</td>\n",
              "      <td>NaN</td>\n",
              "      <td>960</td>\n",
              "      <td>0</td>\n",
              "      <td>0.0</td>\n",
              "      <td>0</td>\n",
              "      <td>0</td>\n",
              "      <td>8.0</td>\n",
              "      <td>0.625625</td>\n",
              "    </tr>\n",
              "    <tr>\n",
              "      <th>1195</th>\n",
              "      <td>3/11/2015</td>\n",
              "      <td>Quarter2</td>\n",
              "      <td>finishing</td>\n",
              "      <td>Wednesday</td>\n",
              "      <td>9</td>\n",
              "      <td>0.75</td>\n",
              "      <td>2.90</td>\n",
              "      <td>NaN</td>\n",
              "      <td>1800</td>\n",
              "      <td>0</td>\n",
              "      <td>0.0</td>\n",
              "      <td>0</td>\n",
              "      <td>0</td>\n",
              "      <td>15.0</td>\n",
              "      <td>0.505889</td>\n",
              "    </tr>\n",
              "    <tr>\n",
              "      <th>1196</th>\n",
              "      <td>3/11/2015</td>\n",
              "      <td>Quarter2</td>\n",
              "      <td>finishing</td>\n",
              "      <td>Wednesday</td>\n",
              "      <td>6</td>\n",
              "      <td>0.70</td>\n",
              "      <td>2.90</td>\n",
              "      <td>NaN</td>\n",
              "      <td>720</td>\n",
              "      <td>0</td>\n",
              "      <td>0.0</td>\n",
              "      <td>0</td>\n",
              "      <td>0</td>\n",
              "      <td>6.0</td>\n",
              "      <td>0.394722</td>\n",
              "    </tr>\n",
              "  </tbody>\n",
              "</table>\n",
              "<p>1197 rows × 15 columns</p>\n",
              "</div>\n",
              "      <button class=\"colab-df-convert\" onclick=\"convertToInteractive('df-7529c877-775e-423f-b2f8-8d758c7064d9')\"\n",
              "              title=\"Convert this dataframe to an interactive table.\"\n",
              "              style=\"display:none;\">\n",
              "        \n",
              "  <svg xmlns=\"http://www.w3.org/2000/svg\" height=\"24px\"viewBox=\"0 0 24 24\"\n",
              "       width=\"24px\">\n",
              "    <path d=\"M0 0h24v24H0V0z\" fill=\"none\"/>\n",
              "    <path d=\"M18.56 5.44l.94 2.06.94-2.06 2.06-.94-2.06-.94-.94-2.06-.94 2.06-2.06.94zm-11 1L8.5 8.5l.94-2.06 2.06-.94-2.06-.94L8.5 2.5l-.94 2.06-2.06.94zm10 10l.94 2.06.94-2.06 2.06-.94-2.06-.94-.94-2.06-.94 2.06-2.06.94z\"/><path d=\"M17.41 7.96l-1.37-1.37c-.4-.4-.92-.59-1.43-.59-.52 0-1.04.2-1.43.59L10.3 9.45l-7.72 7.72c-.78.78-.78 2.05 0 2.83L4 21.41c.39.39.9.59 1.41.59.51 0 1.02-.2 1.41-.59l7.78-7.78 2.81-2.81c.8-.78.8-2.07 0-2.86zM5.41 20L4 18.59l7.72-7.72 1.47 1.35L5.41 20z\"/>\n",
              "  </svg>\n",
              "      </button>\n",
              "      \n",
              "  <style>\n",
              "    .colab-df-container {\n",
              "      display:flex;\n",
              "      flex-wrap:wrap;\n",
              "      gap: 12px;\n",
              "    }\n",
              "\n",
              "    .colab-df-convert {\n",
              "      background-color: #E8F0FE;\n",
              "      border: none;\n",
              "      border-radius: 50%;\n",
              "      cursor: pointer;\n",
              "      display: none;\n",
              "      fill: #1967D2;\n",
              "      height: 32px;\n",
              "      padding: 0 0 0 0;\n",
              "      width: 32px;\n",
              "    }\n",
              "\n",
              "    .colab-df-convert:hover {\n",
              "      background-color: #E2EBFA;\n",
              "      box-shadow: 0px 1px 2px rgba(60, 64, 67, 0.3), 0px 1px 3px 1px rgba(60, 64, 67, 0.15);\n",
              "      fill: #174EA6;\n",
              "    }\n",
              "\n",
              "    [theme=dark] .colab-df-convert {\n",
              "      background-color: #3B4455;\n",
              "      fill: #D2E3FC;\n",
              "    }\n",
              "\n",
              "    [theme=dark] .colab-df-convert:hover {\n",
              "      background-color: #434B5C;\n",
              "      box-shadow: 0px 1px 3px 1px rgba(0, 0, 0, 0.15);\n",
              "      filter: drop-shadow(0px 1px 2px rgba(0, 0, 0, 0.3));\n",
              "      fill: #FFFFFF;\n",
              "    }\n",
              "  </style>\n",
              "\n",
              "      <script>\n",
              "        const buttonEl =\n",
              "          document.querySelector('#df-7529c877-775e-423f-b2f8-8d758c7064d9 button.colab-df-convert');\n",
              "        buttonEl.style.display =\n",
              "          google.colab.kernel.accessAllowed ? 'block' : 'none';\n",
              "\n",
              "        async function convertToInteractive(key) {\n",
              "          const element = document.querySelector('#df-7529c877-775e-423f-b2f8-8d758c7064d9');\n",
              "          const dataTable =\n",
              "            await google.colab.kernel.invokeFunction('convertToInteractive',\n",
              "                                                     [key], {});\n",
              "          if (!dataTable) return;\n",
              "\n",
              "          const docLinkHtml = 'Like what you see? Visit the ' +\n",
              "            '<a target=\"_blank\" href=https://colab.research.google.com/notebooks/data_table.ipynb>data table notebook</a>'\n",
              "            + ' to learn more about interactive tables.';\n",
              "          element.innerHTML = '';\n",
              "          dataTable['output_type'] = 'display_data';\n",
              "          await google.colab.output.renderOutput(dataTable, element);\n",
              "          const docLink = document.createElement('div');\n",
              "          docLink.innerHTML = docLinkHtml;\n",
              "          element.appendChild(docLink);\n",
              "        }\n",
              "      </script>\n",
              "    </div>\n",
              "  </div>\n",
              "  "
            ]
          },
          "metadata": {},
          "execution_count": 72
        }
      ]
    },
    {
      "cell_type": "code",
      "source": [
        "# changing error in sweing\n",
        "data['department'] = data['department'].replace(['sweing'],['sewing'])"
      ],
      "metadata": {
        "id": "g22qQTHyz-2I"
      },
      "execution_count": null,
      "outputs": []
    },
    {
      "cell_type": "code",
      "source": [
        "import pandas as pd\n",
        "data.date = pd.to_datetime(data.date,dayfirst = False)"
      ],
      "metadata": {
        "id": "zm3VIanS0HSx"
      },
      "execution_count": null,
      "outputs": []
    },
    {
      "cell_type": "code",
      "source": [
        "data[['month']] = pd.DataFrame(data.date.dt.month)\n",
        "# data[['day']] = pd.DataFrame(data.date.dt.day)\n",
        "data[['year']] = pd.DataFrame(data.date.dt.year)"
      ],
      "metadata": {
        "id": "CHybkOMi0JRQ"
      },
      "execution_count": null,
      "outputs": []
    },
    {
      "cell_type": "code",
      "source": [
        "data.dtypes"
      ],
      "metadata": {
        "colab": {
          "base_uri": "https://localhost:8080/"
        },
        "id": "LVHjB8900KSB",
        "outputId": "0a90bcc3-77a9-41d2-99a1-29bd7f51c2a8"
      },
      "execution_count": null,
      "outputs": [
        {
          "output_type": "execute_result",
          "data": {
            "text/plain": [
              "date                     datetime64[ns]\n",
              "quarter                          object\n",
              "department                       object\n",
              "day                              object\n",
              "team                              int64\n",
              "targeted_productivity           float64\n",
              "smv                             float64\n",
              "wip                             float64\n",
              "over_time                         int64\n",
              "incentive                         int64\n",
              "idle_time                       float64\n",
              "idle_men                          int64\n",
              "no_of_style_change                int64\n",
              "no_of_workers                   float64\n",
              "actual_productivity             float64\n",
              "month                             int64\n",
              "year                              int64\n",
              "dtype: object"
            ]
          },
          "metadata": {},
          "execution_count": 76
        }
      ]
    },
    {
      "cell_type": "code",
      "source": [
        "data.isnull().sum()"
      ],
      "metadata": {
        "colab": {
          "base_uri": "https://localhost:8080/"
        },
        "id": "yaKwjX3gnTto",
        "outputId": "94430877-0601-4b59-da63-b6c564fdf8ed"
      },
      "execution_count": null,
      "outputs": [
        {
          "output_type": "execute_result",
          "data": {
            "text/plain": [
              "date                       0\n",
              "quarter                    0\n",
              "department                 0\n",
              "day                        0\n",
              "team                       0\n",
              "targeted_productivity      0\n",
              "smv                        0\n",
              "wip                      506\n",
              "over_time                  0\n",
              "incentive                  0\n",
              "idle_time                  0\n",
              "idle_men                   0\n",
              "no_of_style_change         0\n",
              "no_of_workers              0\n",
              "actual_productivity        0\n",
              "month                      0\n",
              "year                       0\n",
              "dtype: int64"
            ]
          },
          "metadata": {},
          "execution_count": 77
        }
      ]
    },
    {
      "cell_type": "code",
      "source": [
        "np.sum(data.isnull())/len(data)*100"
      ],
      "metadata": {
        "colab": {
          "base_uri": "https://localhost:8080/"
        },
        "id": "wp-EWsbPnXiV",
        "outputId": "3398057b-bdc4-4469-adea-7808683f4496"
      },
      "execution_count": null,
      "outputs": [
        {
          "output_type": "execute_result",
          "data": {
            "text/plain": [
              "date                      0.000000\n",
              "quarter                   0.000000\n",
              "department                0.000000\n",
              "day                       0.000000\n",
              "team                      0.000000\n",
              "targeted_productivity     0.000000\n",
              "smv                       0.000000\n",
              "wip                      42.272348\n",
              "over_time                 0.000000\n",
              "incentive                 0.000000\n",
              "idle_time                 0.000000\n",
              "idle_men                  0.000000\n",
              "no_of_style_change        0.000000\n",
              "no_of_workers             0.000000\n",
              "actual_productivity       0.000000\n",
              "month                     0.000000\n",
              "year                      0.000000\n",
              "dtype: float64"
            ]
          },
          "metadata": {},
          "execution_count": 78
        }
      ]
    },
    {
      "cell_type": "code",
      "source": [
        "datanew = data.drop(columns = ['wip'])\n",
        "datanew"
      ],
      "metadata": {
        "id": "OpdXFZ3Fn5Yx",
        "colab": {
          "base_uri": "https://localhost:8080/",
          "height": 661
        },
        "outputId": "b32f2edc-8cc9-4e61-939a-a5a5ca3368f0"
      },
      "execution_count": null,
      "outputs": [
        {
          "output_type": "execute_result",
          "data": {
            "text/plain": [
              "           date   quarter  department        day  team  targeted_productivity  \\\n",
              "0    2015-01-01  Quarter1      sewing   Thursday     8                   0.80   \n",
              "1    2015-01-01  Quarter1  finishing    Thursday     1                   0.75   \n",
              "2    2015-01-01  Quarter1      sewing   Thursday    11                   0.80   \n",
              "3    2015-01-01  Quarter1      sewing   Thursday    12                   0.80   \n",
              "4    2015-01-01  Quarter1      sewing   Thursday     6                   0.80   \n",
              "...         ...       ...         ...        ...   ...                    ...   \n",
              "1192 2015-03-11  Quarter2   finishing  Wednesday    10                   0.75   \n",
              "1193 2015-03-11  Quarter2   finishing  Wednesday     8                   0.70   \n",
              "1194 2015-03-11  Quarter2   finishing  Wednesday     7                   0.65   \n",
              "1195 2015-03-11  Quarter2   finishing  Wednesday     9                   0.75   \n",
              "1196 2015-03-11  Quarter2   finishing  Wednesday     6                   0.70   \n",
              "\n",
              "        smv  over_time  incentive  idle_time  idle_men  no_of_style_change  \\\n",
              "0     26.16       7080         98        0.0         0                   0   \n",
              "1      3.94        960          0        0.0         0                   0   \n",
              "2     11.41       3660         50        0.0         0                   0   \n",
              "3     11.41       3660         50        0.0         0                   0   \n",
              "4     25.90       1920         50        0.0         0                   0   \n",
              "...     ...        ...        ...        ...       ...                 ...   \n",
              "1192   2.90        960          0        0.0         0                   0   \n",
              "1193   3.90        960          0        0.0         0                   0   \n",
              "1194   3.90        960          0        0.0         0                   0   \n",
              "1195   2.90       1800          0        0.0         0                   0   \n",
              "1196   2.90        720          0        0.0         0                   0   \n",
              "\n",
              "      no_of_workers  actual_productivity  month  year  \n",
              "0              59.0             0.940725      1  2015  \n",
              "1               8.0             0.886500      1  2015  \n",
              "2              30.5             0.800570      1  2015  \n",
              "3              30.5             0.800570      1  2015  \n",
              "4              56.0             0.800382      1  2015  \n",
              "...             ...                  ...    ...   ...  \n",
              "1192            8.0             0.628333      3  2015  \n",
              "1193            8.0             0.625625      3  2015  \n",
              "1194            8.0             0.625625      3  2015  \n",
              "1195           15.0             0.505889      3  2015  \n",
              "1196            6.0             0.394722      3  2015  \n",
              "\n",
              "[1197 rows x 16 columns]"
            ],
            "text/html": [
              "\n",
              "  <div id=\"df-73b923de-21c7-444e-a026-c93fe803cc4c\">\n",
              "    <div class=\"colab-df-container\">\n",
              "      <div>\n",
              "<style scoped>\n",
              "    .dataframe tbody tr th:only-of-type {\n",
              "        vertical-align: middle;\n",
              "    }\n",
              "\n",
              "    .dataframe tbody tr th {\n",
              "        vertical-align: top;\n",
              "    }\n",
              "\n",
              "    .dataframe thead th {\n",
              "        text-align: right;\n",
              "    }\n",
              "</style>\n",
              "<table border=\"1\" class=\"dataframe\">\n",
              "  <thead>\n",
              "    <tr style=\"text-align: right;\">\n",
              "      <th></th>\n",
              "      <th>date</th>\n",
              "      <th>quarter</th>\n",
              "      <th>department</th>\n",
              "      <th>day</th>\n",
              "      <th>team</th>\n",
              "      <th>targeted_productivity</th>\n",
              "      <th>smv</th>\n",
              "      <th>over_time</th>\n",
              "      <th>incentive</th>\n",
              "      <th>idle_time</th>\n",
              "      <th>idle_men</th>\n",
              "      <th>no_of_style_change</th>\n",
              "      <th>no_of_workers</th>\n",
              "      <th>actual_productivity</th>\n",
              "      <th>month</th>\n",
              "      <th>year</th>\n",
              "    </tr>\n",
              "  </thead>\n",
              "  <tbody>\n",
              "    <tr>\n",
              "      <th>0</th>\n",
              "      <td>2015-01-01</td>\n",
              "      <td>Quarter1</td>\n",
              "      <td>sewing</td>\n",
              "      <td>Thursday</td>\n",
              "      <td>8</td>\n",
              "      <td>0.80</td>\n",
              "      <td>26.16</td>\n",
              "      <td>7080</td>\n",
              "      <td>98</td>\n",
              "      <td>0.0</td>\n",
              "      <td>0</td>\n",
              "      <td>0</td>\n",
              "      <td>59.0</td>\n",
              "      <td>0.940725</td>\n",
              "      <td>1</td>\n",
              "      <td>2015</td>\n",
              "    </tr>\n",
              "    <tr>\n",
              "      <th>1</th>\n",
              "      <td>2015-01-01</td>\n",
              "      <td>Quarter1</td>\n",
              "      <td>finishing</td>\n",
              "      <td>Thursday</td>\n",
              "      <td>1</td>\n",
              "      <td>0.75</td>\n",
              "      <td>3.94</td>\n",
              "      <td>960</td>\n",
              "      <td>0</td>\n",
              "      <td>0.0</td>\n",
              "      <td>0</td>\n",
              "      <td>0</td>\n",
              "      <td>8.0</td>\n",
              "      <td>0.886500</td>\n",
              "      <td>1</td>\n",
              "      <td>2015</td>\n",
              "    </tr>\n",
              "    <tr>\n",
              "      <th>2</th>\n",
              "      <td>2015-01-01</td>\n",
              "      <td>Quarter1</td>\n",
              "      <td>sewing</td>\n",
              "      <td>Thursday</td>\n",
              "      <td>11</td>\n",
              "      <td>0.80</td>\n",
              "      <td>11.41</td>\n",
              "      <td>3660</td>\n",
              "      <td>50</td>\n",
              "      <td>0.0</td>\n",
              "      <td>0</td>\n",
              "      <td>0</td>\n",
              "      <td>30.5</td>\n",
              "      <td>0.800570</td>\n",
              "      <td>1</td>\n",
              "      <td>2015</td>\n",
              "    </tr>\n",
              "    <tr>\n",
              "      <th>3</th>\n",
              "      <td>2015-01-01</td>\n",
              "      <td>Quarter1</td>\n",
              "      <td>sewing</td>\n",
              "      <td>Thursday</td>\n",
              "      <td>12</td>\n",
              "      <td>0.80</td>\n",
              "      <td>11.41</td>\n",
              "      <td>3660</td>\n",
              "      <td>50</td>\n",
              "      <td>0.0</td>\n",
              "      <td>0</td>\n",
              "      <td>0</td>\n",
              "      <td>30.5</td>\n",
              "      <td>0.800570</td>\n",
              "      <td>1</td>\n",
              "      <td>2015</td>\n",
              "    </tr>\n",
              "    <tr>\n",
              "      <th>4</th>\n",
              "      <td>2015-01-01</td>\n",
              "      <td>Quarter1</td>\n",
              "      <td>sewing</td>\n",
              "      <td>Thursday</td>\n",
              "      <td>6</td>\n",
              "      <td>0.80</td>\n",
              "      <td>25.90</td>\n",
              "      <td>1920</td>\n",
              "      <td>50</td>\n",
              "      <td>0.0</td>\n",
              "      <td>0</td>\n",
              "      <td>0</td>\n",
              "      <td>56.0</td>\n",
              "      <td>0.800382</td>\n",
              "      <td>1</td>\n",
              "      <td>2015</td>\n",
              "    </tr>\n",
              "    <tr>\n",
              "      <th>...</th>\n",
              "      <td>...</td>\n",
              "      <td>...</td>\n",
              "      <td>...</td>\n",
              "      <td>...</td>\n",
              "      <td>...</td>\n",
              "      <td>...</td>\n",
              "      <td>...</td>\n",
              "      <td>...</td>\n",
              "      <td>...</td>\n",
              "      <td>...</td>\n",
              "      <td>...</td>\n",
              "      <td>...</td>\n",
              "      <td>...</td>\n",
              "      <td>...</td>\n",
              "      <td>...</td>\n",
              "      <td>...</td>\n",
              "    </tr>\n",
              "    <tr>\n",
              "      <th>1192</th>\n",
              "      <td>2015-03-11</td>\n",
              "      <td>Quarter2</td>\n",
              "      <td>finishing</td>\n",
              "      <td>Wednesday</td>\n",
              "      <td>10</td>\n",
              "      <td>0.75</td>\n",
              "      <td>2.90</td>\n",
              "      <td>960</td>\n",
              "      <td>0</td>\n",
              "      <td>0.0</td>\n",
              "      <td>0</td>\n",
              "      <td>0</td>\n",
              "      <td>8.0</td>\n",
              "      <td>0.628333</td>\n",
              "      <td>3</td>\n",
              "      <td>2015</td>\n",
              "    </tr>\n",
              "    <tr>\n",
              "      <th>1193</th>\n",
              "      <td>2015-03-11</td>\n",
              "      <td>Quarter2</td>\n",
              "      <td>finishing</td>\n",
              "      <td>Wednesday</td>\n",
              "      <td>8</td>\n",
              "      <td>0.70</td>\n",
              "      <td>3.90</td>\n",
              "      <td>960</td>\n",
              "      <td>0</td>\n",
              "      <td>0.0</td>\n",
              "      <td>0</td>\n",
              "      <td>0</td>\n",
              "      <td>8.0</td>\n",
              "      <td>0.625625</td>\n",
              "      <td>3</td>\n",
              "      <td>2015</td>\n",
              "    </tr>\n",
              "    <tr>\n",
              "      <th>1194</th>\n",
              "      <td>2015-03-11</td>\n",
              "      <td>Quarter2</td>\n",
              "      <td>finishing</td>\n",
              "      <td>Wednesday</td>\n",
              "      <td>7</td>\n",
              "      <td>0.65</td>\n",
              "      <td>3.90</td>\n",
              "      <td>960</td>\n",
              "      <td>0</td>\n",
              "      <td>0.0</td>\n",
              "      <td>0</td>\n",
              "      <td>0</td>\n",
              "      <td>8.0</td>\n",
              "      <td>0.625625</td>\n",
              "      <td>3</td>\n",
              "      <td>2015</td>\n",
              "    </tr>\n",
              "    <tr>\n",
              "      <th>1195</th>\n",
              "      <td>2015-03-11</td>\n",
              "      <td>Quarter2</td>\n",
              "      <td>finishing</td>\n",
              "      <td>Wednesday</td>\n",
              "      <td>9</td>\n",
              "      <td>0.75</td>\n",
              "      <td>2.90</td>\n",
              "      <td>1800</td>\n",
              "      <td>0</td>\n",
              "      <td>0.0</td>\n",
              "      <td>0</td>\n",
              "      <td>0</td>\n",
              "      <td>15.0</td>\n",
              "      <td>0.505889</td>\n",
              "      <td>3</td>\n",
              "      <td>2015</td>\n",
              "    </tr>\n",
              "    <tr>\n",
              "      <th>1196</th>\n",
              "      <td>2015-03-11</td>\n",
              "      <td>Quarter2</td>\n",
              "      <td>finishing</td>\n",
              "      <td>Wednesday</td>\n",
              "      <td>6</td>\n",
              "      <td>0.70</td>\n",
              "      <td>2.90</td>\n",
              "      <td>720</td>\n",
              "      <td>0</td>\n",
              "      <td>0.0</td>\n",
              "      <td>0</td>\n",
              "      <td>0</td>\n",
              "      <td>6.0</td>\n",
              "      <td>0.394722</td>\n",
              "      <td>3</td>\n",
              "      <td>2015</td>\n",
              "    </tr>\n",
              "  </tbody>\n",
              "</table>\n",
              "<p>1197 rows × 16 columns</p>\n",
              "</div>\n",
              "      <button class=\"colab-df-convert\" onclick=\"convertToInteractive('df-73b923de-21c7-444e-a026-c93fe803cc4c')\"\n",
              "              title=\"Convert this dataframe to an interactive table.\"\n",
              "              style=\"display:none;\">\n",
              "        \n",
              "  <svg xmlns=\"http://www.w3.org/2000/svg\" height=\"24px\"viewBox=\"0 0 24 24\"\n",
              "       width=\"24px\">\n",
              "    <path d=\"M0 0h24v24H0V0z\" fill=\"none\"/>\n",
              "    <path d=\"M18.56 5.44l.94 2.06.94-2.06 2.06-.94-2.06-.94-.94-2.06-.94 2.06-2.06.94zm-11 1L8.5 8.5l.94-2.06 2.06-.94-2.06-.94L8.5 2.5l-.94 2.06-2.06.94zm10 10l.94 2.06.94-2.06 2.06-.94-2.06-.94-.94-2.06-.94 2.06-2.06.94z\"/><path d=\"M17.41 7.96l-1.37-1.37c-.4-.4-.92-.59-1.43-.59-.52 0-1.04.2-1.43.59L10.3 9.45l-7.72 7.72c-.78.78-.78 2.05 0 2.83L4 21.41c.39.39.9.59 1.41.59.51 0 1.02-.2 1.41-.59l7.78-7.78 2.81-2.81c.8-.78.8-2.07 0-2.86zM5.41 20L4 18.59l7.72-7.72 1.47 1.35L5.41 20z\"/>\n",
              "  </svg>\n",
              "      </button>\n",
              "      \n",
              "  <style>\n",
              "    .colab-df-container {\n",
              "      display:flex;\n",
              "      flex-wrap:wrap;\n",
              "      gap: 12px;\n",
              "    }\n",
              "\n",
              "    .colab-df-convert {\n",
              "      background-color: #E8F0FE;\n",
              "      border: none;\n",
              "      border-radius: 50%;\n",
              "      cursor: pointer;\n",
              "      display: none;\n",
              "      fill: #1967D2;\n",
              "      height: 32px;\n",
              "      padding: 0 0 0 0;\n",
              "      width: 32px;\n",
              "    }\n",
              "\n",
              "    .colab-df-convert:hover {\n",
              "      background-color: #E2EBFA;\n",
              "      box-shadow: 0px 1px 2px rgba(60, 64, 67, 0.3), 0px 1px 3px 1px rgba(60, 64, 67, 0.15);\n",
              "      fill: #174EA6;\n",
              "    }\n",
              "\n",
              "    [theme=dark] .colab-df-convert {\n",
              "      background-color: #3B4455;\n",
              "      fill: #D2E3FC;\n",
              "    }\n",
              "\n",
              "    [theme=dark] .colab-df-convert:hover {\n",
              "      background-color: #434B5C;\n",
              "      box-shadow: 0px 1px 3px 1px rgba(0, 0, 0, 0.15);\n",
              "      filter: drop-shadow(0px 1px 2px rgba(0, 0, 0, 0.3));\n",
              "      fill: #FFFFFF;\n",
              "    }\n",
              "  </style>\n",
              "\n",
              "      <script>\n",
              "        const buttonEl =\n",
              "          document.querySelector('#df-73b923de-21c7-444e-a026-c93fe803cc4c button.colab-df-convert');\n",
              "        buttonEl.style.display =\n",
              "          google.colab.kernel.accessAllowed ? 'block' : 'none';\n",
              "\n",
              "        async function convertToInteractive(key) {\n",
              "          const element = document.querySelector('#df-73b923de-21c7-444e-a026-c93fe803cc4c');\n",
              "          const dataTable =\n",
              "            await google.colab.kernel.invokeFunction('convertToInteractive',\n",
              "                                                     [key], {});\n",
              "          if (!dataTable) return;\n",
              "\n",
              "          const docLinkHtml = 'Like what you see? Visit the ' +\n",
              "            '<a target=\"_blank\" href=https://colab.research.google.com/notebooks/data_table.ipynb>data table notebook</a>'\n",
              "            + ' to learn more about interactive tables.';\n",
              "          element.innerHTML = '';\n",
              "          dataTable['output_type'] = 'display_data';\n",
              "          await google.colab.output.renderOutput(dataTable, element);\n",
              "          const docLink = document.createElement('div');\n",
              "          docLink.innerHTML = docLinkHtml;\n",
              "          element.appendChild(docLink);\n",
              "        }\n",
              "      </script>\n",
              "    </div>\n",
              "  </div>\n",
              "  "
            ]
          },
          "metadata": {},
          "execution_count": 79
        }
      ]
    },
    {
      "cell_type": "code",
      "source": [
        "import seaborn as sns\n",
        "sns.distplot(data.actual_productivity)"
      ],
      "metadata": {
        "colab": {
          "base_uri": "https://localhost:8080/",
          "height": 357
        },
        "id": "nF1M07fz4h01",
        "outputId": "a3b104f4-8e7c-4afc-941e-17b893dec834"
      },
      "execution_count": null,
      "outputs": [
        {
          "output_type": "stream",
          "name": "stderr",
          "text": [
            "/usr/local/lib/python3.7/dist-packages/seaborn/distributions.py:2619: FutureWarning: `distplot` is a deprecated function and will be removed in a future version. Please adapt your code to use either `displot` (a figure-level function with similar flexibility) or `histplot` (an axes-level function for histograms).\n",
            "  warnings.warn(msg, FutureWarning)\n"
          ]
        },
        {
          "output_type": "execute_result",
          "data": {
            "text/plain": [
              "<matplotlib.axes._subplots.AxesSubplot at 0x7f0f0b276690>"
            ]
          },
          "metadata": {},
          "execution_count": 80
        },
        {
          "output_type": "display_data",
          "data": {
            "text/plain": [
              "<Figure size 432x288 with 1 Axes>"
            ],
            "image/png": "[encoded data removed]"
          },
          "metadata": {}
        }
      ]
    },
    {
      "cell_type": "code",
      "source": [
        "#set seaborn plotting aesthetics as default\n",
        "sns.set()\n",
        "\n",
        "fig, axes = plt.subplots(2,5,figsize=(15, 15))\n",
        "#plt.subplot(551)\n",
        "sns.boxplot(datanew['targeted_productivity'],ax=axes[0,0])\n",
        "#plt.subplot(552)\n",
        "sns.boxplot(datanew['smv'],ax=axes[0,1])\n",
        "#plt.subplot(553)\n",
        "sns.boxplot(datanew['over_time'],ax=axes[0,2])\n",
        "#plt.subplot(554)\n",
        "sns.boxplot(datanew['incentive'],ax=axes[0,3])\n",
        "#plt.subplot(555)\n",
        "sns.boxplot(datanew['idle_time'],ax=axes[0,4])\n",
        "#plt.subplot(556)\n",
        "sns.boxplot(datanew['idle_men'],ax=axes[1,0])\n",
        "#plt.subplot(557)\n",
        "sns.boxplot(datanew['no_of_style_change'],ax=axes[1,1])\n",
        "#plt.subplot(558)\n",
        "sns.boxplot(datanew['no_of_workers'],ax=axes[1,2])\n",
        "#plt.subplot(559)\n",
        "sns.boxplot(datanew['actual_productivity'],ax=axes[1,3])"
      ],
      "metadata": {
        "colab": {
          "base_uri": "https://localhost:8080/",
          "height": 1000
        },
        "id": "vxU7Tuifn7p0",
        "outputId": "eff1b3bd-894c-49e7-9ebf-46c2bc258855"
      },
      "execution_count": null,
      "outputs": [
        {
          "output_type": "stream",
          "name": "stderr",
          "text": [
            "/usr/local/lib/python3.7/dist-packages/seaborn/_decorators.py:43: FutureWarning: Pass the following variable as a keyword arg: x. From version 0.12, the only valid positional argument will be `data`, and passing other arguments without an explicit keyword will result in an error or misinterpretation.\n",
            "  FutureWarning\n",
            "/usr/local/lib/python3.7/dist-packages/seaborn/_decorators.py:43: FutureWarning: Pass the following variable as a keyword arg: x. From version 0.12, the only valid positional argument will be `data`, and passing other arguments without an explicit keyword will result in an error or misinterpretation.\n",
            "  FutureWarning\n",
            "/usr/local/lib/python3.7/dist-packages/seaborn/_decorators.py:43: FutureWarning: Pass the following variable as a keyword arg: x. From version 0.12, the only valid positional argument will be `data`, and passing other arguments without an explicit keyword will result in an error or misinterpretation.\n",
            "  FutureWarning\n",
            "/usr/local/lib/python3.7/dist-packages/seaborn/_decorators.py:43: FutureWarning: Pass the following variable as a keyword arg: x. From version 0.12, the only valid positional argument will be `data`, and passing other arguments without an explicit keyword will result in an error or misinterpretation.\n",
            "  FutureWarning\n",
            "/usr/local/lib/python3.7/dist-packages/seaborn/_decorators.py:43: FutureWarning: Pass the following variable as a keyword arg: x. From version 0.12, the only valid positional argument will be `data`, and passing other arguments without an explicit keyword will result in an error or misinterpretation.\n",
            "  FutureWarning\n",
            "/usr/local/lib/python3.7/dist-packages/seaborn/_decorators.py:43: FutureWarning: Pass the following variable as a keyword arg: x. From version 0.12, the only valid positional argument will be `data`, and passing other arguments without an explicit keyword will result in an error or misinterpretation.\n",
            "  FutureWarning\n",
            "/usr/local/lib/python3.7/dist-packages/seaborn/_decorators.py:43: FutureWarning: Pass the following variable as a keyword arg: x. From version 0.12, the only valid positional argument will be `data`, and passing other arguments without an explicit keyword will result in an error or misinterpretation.\n",
            "  FutureWarning\n",
            "/usr/local/lib/python3.7/dist-packages/seaborn/_decorators.py:43: FutureWarning: Pass the following variable as a keyword arg: x. From version 0.12, the only valid positional argument will be `data`, and passing other arguments without an explicit keyword will result in an error or misinterpretation.\n",
            "  FutureWarning\n",
            "/usr/local/lib/python3.7/dist-packages/seaborn/_decorators.py:43: FutureWarning: Pass the following variable as a keyword arg: x. From version 0.12, the only valid positional argument will be `data`, and passing other arguments without an explicit keyword will result in an error or misinterpretation.\n",
            "  FutureWarning\n"
          ]
        },
        {
          "output_type": "execute_result",
          "data": {
            "text/plain": [
              "<matplotlib.axes._subplots.AxesSubplot at 0x7f0f0b0bb1d0>"
            ]
          },
          "metadata": {},
          "execution_count": 81
        },
        {
          "output_type": "display_data",
          "data": {
            "text/plain": [
              "<Figure size 1080x1080 with 10 Axes>"
            ],
            "image/png": "[encoded data removed]"
          },
          "metadata": {}
        }
      ]
    },
    {
      "cell_type": "code",
      "source": [
        "def find_outlier(data=None, feature=None, mode='z-score'):\n",
        "    \"Parameters\"\n",
        "    \"----------\"\n",
        "    \"data : <pandas DataFrame>\"\n",
        "    \"mode : <option> (z-score, std, iqr)\"\n",
        "\n",
        "    if mode == 'z-score':\n",
        "        data['z_score'] = (data[feature] - data[feature].mean()) / data[feature].std()\n",
        "        return data['z_score']\n",
        "    elif mode == 'std':\n",
        "        upper_limit = data[feature].mean() + 3 * data[feature].std()\n",
        "        lower_limit = data[feature].mean() - 3 * data[feature].std()\n",
        "        outlier = {'upper':upper_limit, 'lower':lower_limit}\n",
        "        return outlier\n",
        "    elif mode == 'iqr':\n",
        "        q1= data[feature].quantile(0.25)\n",
        "        q3 = data[feature].quantile(0.75)\n",
        "        iqr = q3 - q1\n",
        "        upper_limit = q3 + 1.5 * iqr\n",
        "        lower_limit = q1 - 1.5 * iqr\n",
        "        outlier = {'upper':upper_limit, 'lower':lower_limit}\n",
        "        return outlier\n",
        "    else:\n",
        "        print('[WARNING] please select mode (z-score, std or iqr) !!!')\n",
        "        return None"
      ],
      "metadata": {
        "id": "1TsGniXR0Kcj"
      },
      "execution_count": null,
      "outputs": []
    },
    {
      "cell_type": "code",
      "source": [
        "num_vars_2=datanew.iloc[:,[5,6,7,8,9,10,11,12,13]]\n",
        "num_vars_2=num_vars_2.columns.values.tolist()\n",
        "num_vars_2"
      ],
      "metadata": {
        "colab": {
          "base_uri": "https://localhost:8080/"
        },
        "id": "ICcByvTS1DJz",
        "outputId": "fbae4a34-33ea-46bd-c0b9-37cd93a5c956"
      },
      "execution_count": null,
      "outputs": [
        {
          "output_type": "execute_result",
          "data": {
            "text/plain": [
              "['targeted_productivity',\n",
              " 'smv',\n",
              " 'over_time',\n",
              " 'incentive',\n",
              " 'idle_time',\n",
              " 'idle_men',\n",
              " 'no_of_style_change',\n",
              " 'no_of_workers',\n",
              " 'actual_productivity']"
            ]
          },
          "metadata": {},
          "execution_count": 83
        }
      ]
    },
    {
      "cell_type": "code",
      "source": [
        "result_cek = []\n",
        "for col in num_vars_2:\n",
        "    min_value = datanew[col].min()\n",
        "    max_value = datanew[col].max()\n",
        "\n",
        "    Q1 = np.percentile(datanew[col], 25, interpolation = 'midpoint')\n",
        "    Q3 = np.percentile(datanew[col], 75, interpolation = 'midpoint')\n",
        "    IQR = Q3 - Q1\n",
        "\n",
        "    limit_low = Q1 - 1.5*IQR\n",
        "    limit_up = Q3 + 1.5*IQR\n",
        "\n",
        "    if min_value < limit_low or max_value > limit_up:\n",
        "        result_cek.append('Exist')\n",
        "    else:\n",
        "        result_cek.append('Not Exist')\n",
        "\n",
        "df_cek_outlier = pd.DataFrame({\n",
        "    'Variable' : num_vars_2,\n",
        "    'Outlier Check' : result_cek\n",
        "}).sort_values(by='Outlier Check')\n",
        "\n",
        "df_cek_outlier"
      ],
      "metadata": {
        "colab": {
          "base_uri": "https://localhost:8080/",
          "height": 332
        },
        "id": "QiJ5J1AA00S5",
        "outputId": "39b494a9-c2e3-443c-f7f4-de719b6aedde"
      },
      "execution_count": null,
      "outputs": [
        {
          "output_type": "execute_result",
          "data": {
            "text/plain": [
              "                Variable Outlier Check\n",
              "0  targeted_productivity         Exist\n",
              "2              over_time         Exist\n",
              "3              incentive         Exist\n",
              "4              idle_time         Exist\n",
              "5               idle_men         Exist\n",
              "6     no_of_style_change         Exist\n",
              "8    actual_productivity         Exist\n",
              "1                    smv     Not Exist\n",
              "7          no_of_workers     Not Exist"
            ],
            "text/html": [
              "\n",
              "  <div id=\"df-7ce9fc2d-2c5a-4f70-a946-9cd66f0c50a0\">\n",
              "    <div class=\"colab-df-container\">\n",
              "      <div>\n",
              "<style scoped>\n",
              "    .dataframe tbody tr th:only-of-type {\n",
              "        vertical-align: middle;\n",
              "    }\n",
              "\n",
              "    .dataframe tbody tr th {\n",
              "        vertical-align: top;\n",
              "    }\n",
              "\n",
              "    .dataframe thead th {\n",
              "        text-align: right;\n",
              "    }\n",
              "</style>\n",
              "<table border=\"1\" class=\"dataframe\">\n",
              "  <thead>\n",
              "    <tr style=\"text-align: right;\">\n",
              "      <th></th>\n",
              "      <th>Variable</th>\n",
              "      <th>Outlier Check</th>\n",
              "    </tr>\n",
              "  </thead>\n",
              "  <tbody>\n",
              "    <tr>\n",
              "      <th>0</th>\n",
              "      <td>targeted_productivity</td>\n",
              "      <td>Exist</td>\n",
              "    </tr>\n",
              "    <tr>\n",
              "      <th>2</th>\n",
              "      <td>over_time</td>\n",
              "      <td>Exist</td>\n",
              "    </tr>\n",
              "    <tr>\n",
              "      <th>3</th>\n",
              "      <td>incentive</td>\n",
              "      <td>Exist</td>\n",
              "    </tr>\n",
              "    <tr>\n",
              "      <th>4</th>\n",
              "      <td>idle_time</td>\n",
              "      <td>Exist</td>\n",
              "    </tr>\n",
              "    <tr>\n",
              "      <th>5</th>\n",
              "      <td>idle_men</td>\n",
              "      <td>Exist</td>\n",
              "    </tr>\n",
              "    <tr>\n",
              "      <th>6</th>\n",
              "      <td>no_of_style_change</td>\n",
              "      <td>Exist</td>\n",
              "    </tr>\n",
              "    <tr>\n",
              "      <th>8</th>\n",
              "      <td>actual_productivity</td>\n",
              "      <td>Exist</td>\n",
              "    </tr>\n",
              "    <tr>\n",
              "      <th>1</th>\n",
              "      <td>smv</td>\n",
              "      <td>Not Exist</td>\n",
              "    </tr>\n",
              "    <tr>\n",
              "      <th>7</th>\n",
              "      <td>no_of_workers</td>\n",
              "      <td>Not Exist</td>\n",
              "    </tr>\n",
              "  </tbody>\n",
              "</table>\n",
              "</div>\n",
              "      <button class=\"colab-df-convert\" onclick=\"convertToInteractive('df-7ce9fc2d-2c5a-4f70-a946-9cd66f0c50a0')\"\n",
              "              title=\"Convert this dataframe to an interactive table.\"\n",
              "              style=\"display:none;\">\n",
              "        \n",
              "  <svg xmlns=\"http://www.w3.org/2000/svg\" height=\"24px\"viewBox=\"0 0 24 24\"\n",
              "       width=\"24px\">\n",
              "    <path d=\"M0 0h24v24H0V0z\" fill=\"none\"/>\n",
              "    <path d=\"M18.56 5.44l.94 2.06.94-2.06 2.06-.94-2.06-.94-.94-2.06-.94 2.06-2.06.94zm-11 1L8.5 8.5l.94-2.06 2.06-.94-2.06-.94L8.5 2.5l-.94 2.06-2.06.94zm10 10l.94 2.06.94-2.06 2.06-.94-2.06-.94-.94-2.06-.94 2.06-2.06.94z\"/><path d=\"M17.41 7.96l-1.37-1.37c-.4-.4-.92-.59-1.43-.59-.52 0-1.04.2-1.43.59L10.3 9.45l-7.72 7.72c-.78.78-.78 2.05 0 2.83L4 21.41c.39.39.9.59 1.41.59.51 0 1.02-.2 1.41-.59l7.78-7.78 2.81-2.81c.8-.78.8-2.07 0-2.86zM5.41 20L4 18.59l7.72-7.72 1.47 1.35L5.41 20z\"/>\n",
              "  </svg>\n",
              "      </button>\n",
              "      \n",
              "  <style>\n",
              "    .colab-df-container {\n",
              "      display:flex;\n",
              "      flex-wrap:wrap;\n",
              "      gap: 12px;\n",
              "    }\n",
              "\n",
              "    .colab-df-convert {\n",
              "      background-color: #E8F0FE;\n",
              "      border: none;\n",
              "      border-radius: 50%;\n",
              "      cursor: pointer;\n",
              "      display: none;\n",
              "      fill: #1967D2;\n",
              "      height: 32px;\n",
              "      padding: 0 0 0 0;\n",
              "      width: 32px;\n",
              "    }\n",
              "\n",
              "    .colab-df-convert:hover {\n",
              "      background-color: #E2EBFA;\n",
              "      box-shadow: 0px 1px 2px rgba(60, 64, 67, 0.3), 0px 1px 3px 1px rgba(60, 64, 67, 0.15);\n",
              "      fill: #174EA6;\n",
              "    }\n",
              "\n",
              "    [theme=dark] .colab-df-convert {\n",
              "      background-color: #3B4455;\n",
              "      fill: #D2E3FC;\n",
              "    }\n",
              "\n",
              "    [theme=dark] .colab-df-convert:hover {\n",
              "      background-color: #434B5C;\n",
              "      box-shadow: 0px 1px 3px 1px rgba(0, 0, 0, 0.15);\n",
              "      filter: drop-shadow(0px 1px 2px rgba(0, 0, 0, 0.3));\n",
              "      fill: #FFFFFF;\n",
              "    }\n",
              "  </style>\n",
              "\n",
              "      <script>\n",
              "        const buttonEl =\n",
              "          document.querySelector('#df-7ce9fc2d-2c5a-4f70-a946-9cd66f0c50a0 button.colab-df-convert');\n",
              "        buttonEl.style.display =\n",
              "          google.colab.kernel.accessAllowed ? 'block' : 'none';\n",
              "\n",
              "        async function convertToInteractive(key) {\n",
              "          const element = document.querySelector('#df-7ce9fc2d-2c5a-4f70-a946-9cd66f0c50a0');\n",
              "          const dataTable =\n",
              "            await google.colab.kernel.invokeFunction('convertToInteractive',\n",
              "                                                     [key], {});\n",
              "          if (!dataTable) return;\n",
              "\n",
              "          const docLinkHtml = 'Like what you see? Visit the ' +\n",
              "            '<a target=\"_blank\" href=https://colab.research.google.com/notebooks/data_table.ipynb>data table notebook</a>'\n",
              "            + ' to learn more about interactive tables.';\n",
              "          element.innerHTML = '';\n",
              "          dataTable['output_type'] = 'display_data';\n",
              "          await google.colab.output.renderOutput(dataTable, element);\n",
              "          const docLink = document.createElement('div');\n",
              "          docLink.innerHTML = docLinkHtml;\n",
              "          element.appendChild(docLink);\n",
              "        }\n",
              "      </script>\n",
              "    </div>\n",
              "  </div>\n",
              "  "
            ]
          },
          "metadata": {},
          "execution_count": 84
        }
      ]
    },
    {
      "cell_type": "code",
      "source": [
        "outlier_vars = df_cek_outlier[df_cek_outlier['Outlier Check'] == 'Exist']['Variable'].to_list()"
      ],
      "metadata": {
        "id": "RMEFl5GA3Qcl"
      },
      "execution_count": null,
      "outputs": []
    },
    {
      "cell_type": "code",
      "source": [
        "for col in outlier_vars:\n",
        "    outlier = find_outlier(datanew, col, 'iqr')\n",
        "    lower = outlier['lower']\n",
        "    upper = outlier['upper']\n",
        "    datanew[col] = np.where(datanew[col] < lower, lower, datanew[col])\n",
        "    datanew[col] = np.where(datanew[col] > upper, upper, datanew[col])\n"
      ],
      "metadata": {
        "id": "G-35n8LW3FE5"
      },
      "execution_count": null,
      "outputs": []
    },
    {
      "cell_type": "code",
      "source": [
        "datanew['targeted_productivity'].describe()"
      ],
      "metadata": {
        "colab": {
          "base_uri": "https://localhost:8080/"
        },
        "id": "C43XR3Nm3vZq",
        "outputId": "3840b9e1-5f88-46a4-ce85-64ef5ebda9de"
      },
      "execution_count": null,
      "outputs": [
        {
          "output_type": "execute_result",
          "data": {
            "text/plain": [
              "count    1197.000000\n",
              "mean        0.736842\n",
              "std         0.075515\n",
              "min         0.550000\n",
              "25%         0.700000\n",
              "50%         0.750000\n",
              "75%         0.800000\n",
              "max         0.800000\n",
              "Name: targeted_productivity, dtype: float64"
            ]
          },
          "metadata": {},
          "execution_count": 87
        }
      ]
    },
    {
      "cell_type": "code",
      "source": [
        "y = datanew[['actual_productivity']]"
      ],
      "metadata": {
        "id": "RzVjn5xR3_hP"
      },
      "execution_count": null,
      "outputs": []
    },
    {
      "cell_type": "code",
      "source": [
        "x = datanew.drop(columns = ['actual_productivity','date','quarter','department','day','month','year'])"
      ],
      "metadata": {
        "id": "7H729jQu4pkl"
      },
      "execution_count": null,
      "outputs": []
    },
    {
      "cell_type": "code",
      "source": [
        " from sklearn.model_selection import train_test_split\n",
        "x_train,x_test,y_train,y_test = train_test_split(x,y,test_size = 0.3)"
      ],
      "metadata": {
        "id": "W_HiILYm4vV2"
      },
      "execution_count": null,
      "outputs": []
    },
    {
      "cell_type": "code",
      "source": [
        "x.isnull().sum()"
      ],
      "metadata": {
        "colab": {
          "base_uri": "https://localhost:8080/"
        },
        "id": "P_1qGtQcFcom",
        "outputId": "aa97c745-a4fb-4fc1-90a5-91f17103a470"
      },
      "execution_count": null,
      "outputs": [
        {
          "output_type": "execute_result",
          "data": {
            "text/plain": [
              "team                     0\n",
              "targeted_productivity    0\n",
              "smv                      0\n",
              "over_time                0\n",
              "incentive                0\n",
              "idle_time                0\n",
              "idle_men                 0\n",
              "no_of_style_change       0\n",
              "no_of_workers            0\n",
              "dtype: int64"
            ]
          },
          "metadata": {},
          "execution_count": 91
        }
      ]
    },
    {
      "cell_type": "code",
      "source": [
        "# linear regression feature importance\n",
        "from sklearn.datasets import make_regression\n",
        "from sklearn.linear_model import LinearRegression\n",
        "from matplotlib import pyplot\n",
        "model = LinearRegression()\n",
        "# fit the model\n",
        "model.fit(x_train, y_train)\n",
        "# get importance\n",
        "importance = model.coef_\n",
        "model.coef_"
      ],
      "metadata": {
        "colab": {
          "base_uri": "https://localhost:8080/"
        },
        "id": "CkWMEBWbEq9v",
        "outputId": "12d4c3de-c2e0-41cb-d8d9-be95b16bbdb1"
      },
      "execution_count": null,
      "outputs": [
        {
          "output_type": "execute_result",
          "data": {
            "text/plain": [
              "array([[-9.35070817e-03,  8.31454375e-01, -6.40758352e-03,\n",
              "        -8.85806016e-07,  1.83920075e-03,  0.00000000e+00,\n",
              "         0.00000000e+00,  0.00000000e+00,  1.11897172e-03]])"
            ]
          },
          "metadata": {},
          "execution_count": 92
        }
      ]
    },
    {
      "cell_type": "code",
      "source": [
        "x = datanew.drop(columns = ['actual_productivity','date','quarter','department','day','month','year'])"
      ],
      "metadata": {
        "id": "OsxgAyhxGBuD"
      },
      "execution_count": null,
      "outputs": []
    },
    {
      "cell_type": "code",
      "source": [
        "features = {\n",
        "    \"f1\": u\"team\",\n",
        "    \"f2\": u\"targeted_productivity\",\n",
        "    \"f3\": u\"smv\",\n",
        "    \"f4\": u\"over_time\",\n",
        "    \"f5\": u\"incentive\",\n",
        "    \"f6\": u\"idle_time\",\n",
        "    \"f7\": u\"idle_men\",\n",
        "    \"f8\": u\"no_of_style_change\",\n",
        "    \"f9\": u\"no_of_workers\",\n",
        "}\n"
      ],
      "metadata": {
        "id": "7h-RThfoGmvu"
      },
      "execution_count": null,
      "outputs": []
    },
    {
      "cell_type": "code",
      "source": [
        "from sklearn.ensemble import RandomForestRegressor\n",
        "forest = RandomForestRegressor(n_estimators=1000, max_features=9, random_state=0)\n",
        "\n",
        "forest.fit(x, y)\n",
        "importances = forest.feature_importances_\n",
        "\n",
        "indices = np.argsort(importances)[::-1]\n",
        "# Plot the feature importancies of the forest\n",
        "num_to_plot = 9\n",
        "feature_indices = [ind + 1 for ind in indices[:num_to_plot]]\n",
        "\n",
        "# Print the feature ranking\n",
        "print(\"Feature ranking:\")\n",
        "\n",
        "for f in range(num_to_plot):\n",
        "    print(\n",
        "        \"%d. %s %f \"\n",
        "        % (f + 1, features[\"f\" + str(feature_indices[f])], importances[indices[f]])\n",
        "    )\n",
        "plt.figure(figsize=(15, 5))\n",
        "plt.title(u\"Feature Importance\")\n",
        "bars = plt.bar(\n",
        "    range(num_to_plot),\n",
        "    importances[indices[:num_to_plot]],\n",
        "    color=([str(i / float(num_to_plot + 1)) for i in range(num_to_plot)]),\n",
        "    align=\"center\",\n",
        ")\n",
        "ticks = plt.xticks(range(num_to_plot), feature_indices)\n",
        "plt.xlim([-1, num_to_plot])\n",
        "plt.legend(bars, [u\"\".join(features[\"f\" + str(i)]) for i in feature_indices]);"
      ],
      "metadata": {
        "colab": {
          "base_uri": "https://localhost:8080/",
          "height": 566
        },
        "id": "xlgmMgS5E0KW",
        "outputId": "aad421b6-761b-4e63-c236-0ed036ea6ca5"
      },
      "execution_count": null,
      "outputs": [
        {
          "output_type": "stream",
          "name": "stderr",
          "text": [
            "/usr/local/lib/python3.7/dist-packages/ipykernel_launcher.py:4: DataConversionWarning: A column-vector y was passed when a 1d array was expected. Please change the shape of y to (n_samples,), for example using ravel().\n",
            "  after removing the cwd from sys.path.\n"
          ]
        },
        {
          "output_type": "stream",
          "name": "stdout",
          "text": [
            "Feature ranking:\n",
            "1. targeted_productivity 0.275306 \n",
            "2. smv 0.180712 \n",
            "3. incentive 0.157343 \n",
            "4. over_time 0.134228 \n",
            "5. no_of_workers 0.128722 \n",
            "6. team 0.123689 \n",
            "7. no_of_style_change 0.000000 \n",
            "8. idle_men 0.000000 \n",
            "9. idle_time 0.000000 \n"
          ]
        },
        {
          "output_type": "display_data",
          "data": {
            "text/plain": [
              "<Figure size 1080x360 with 1 Axes>"
            ],
            "image/png": "[encoded data removed]"
          },
          "metadata": {}
        }
      ]
    },
    {
      "cell_type": "code",
      "source": [
        " from sklearn.model_selection import train_test_split\n",
        "x_train,x_test,y_train,y_test = train_test_split(x,y,test_size = 0.3)"
      ],
      "metadata": {
        "id": "hGvfixh_IQPx"
      },
      "execution_count": null,
      "outputs": []
    },
    {
      "cell_type": "code",
      "source": [
        "x.isnull().sum()"
      ],
      "metadata": {
        "colab": {
          "base_uri": "https://localhost:8080/"
        },
        "id": "7MLqK2SrIw68",
        "outputId": "8df3162d-6834-4d81-89fb-c3d8620c512a"
      },
      "execution_count": null,
      "outputs": [
        {
          "output_type": "execute_result",
          "data": {
            "text/plain": [
              "team                     0\n",
              "targeted_productivity    0\n",
              "smv                      0\n",
              "over_time                0\n",
              "incentive                0\n",
              "idle_time                0\n",
              "idle_men                 0\n",
              "no_of_style_change       0\n",
              "no_of_workers            0\n",
              "dtype: int64"
            ]
          },
          "metadata": {},
          "execution_count": 97
        }
      ]
    },
    {
      "cell_type": "code",
      "source": [
        "numeric_col = [0,1]\n",
        "KBins_col = [2]\n",
        "Bina_col = [3,4,8]"
      ],
      "metadata": {
        "id": "wv_O0FYNIQXZ"
      },
      "execution_count": null,
      "outputs": []
    },
    {
      "cell_type": "code",
      "source": [
        "from sklearn.preprocessing import OneHotEncoder,PowerTransformer,KBinsDiscretizer,Binarizer\n",
        "from sklearn.compose import make_column_transformer\n",
        "from sklearn.impute import SimpleImputer\n",
        "from sklearn import set_config\n",
        "trans = make_column_transformer((PowerTransformer(),numeric_col),\n",
        "                                (KBinsDiscretizer(),KBins_col),\n",
        "                                (Binarizer(threshold = 55),Bina_col),\n",
        "                                remainder = 'passthrough')\n",
        "set_config(display = 'diagram')\n",
        "trans"
      ],
      "metadata": {
        "colab": {
          "base_uri": "https://localhost:8080/",
          "height": 118
        },
        "id": "MuKoQE8cGM23",
        "outputId": "6e0d768f-0795-4a16-eec5-1315232f0ba3"
      },
      "execution_count": null,
      "outputs": [
        {
          "output_type": "execute_result",
          "data": {
            "text/plain": [
              "ColumnTransformer(remainder='passthrough',\n",
              "                  transformers=[('powertransformer', PowerTransformer(),\n",
              "                                 [0, 1]),\n",
              "                                ('kbinsdiscretizer', KBinsDiscretizer(), [2]),\n",
              "                                ('binarizer', Binarizer(threshold=55),\n",
              "                                 [3, 4, 8])])"
            ],
            "text/html": [
              "<style>#sk-e3febb53-f32b-489a-a5fb-40d2274acdfb {color: black;background-color: white;}#sk-e3febb53-f32b-489a-a5fb-40d2274acdfb pre{padding: 0;}#sk-e3febb53-f32b-489a-a5fb-40d2274acdfb div.sk-toggleable {background-color: white;}#sk-e3febb53-f32b-489a-a5fb-40d2274acdfb label.sk-toggleable__label {cursor: pointer;display: block;width: 100%;margin-bottom: 0;padding: 0.3em;box-sizing: border-box;text-align: center;}#sk-e3febb53-f32b-489a-a5fb-40d2274acdfb label.sk-toggleable__label-arrow:before {content: \"▸\";float: left;margin-right: 0.25em;color: #696969;}#sk-e3febb53-f32b-489a-a5fb-40d2274acdfb label.sk-toggleable__label-arrow:hover:before {color: black;}#sk-e3febb53-f32b-489a-a5fb-40d2274acdfb div.sk-estimator:hover label.sk-toggleable__label-arrow:before {color: black;}#sk-e3febb53-f32b-489a-a5fb-40d2274acdfb div.sk-toggleable__content {max-height: 0;max-width: 0;overflow: hidden;text-align: left;background-color: #f0f8ff;}#sk-e3febb53-f32b-489a-a5fb-40d2274acdfb div.sk-toggleable__content pre {margin: 0.2em;color: black;border-radius: 0.25em;background-color: #f0f8ff;}#sk-e3febb53-f32b-489a-a5fb-40d2274acdfb input.sk-toggleable__control:checked~div.sk-toggleable__content {max-height: 200px;max-width: 100%;overflow: auto;}#sk-e3febb53-f32b-489a-a5fb-40d2274acdfb input.sk-toggleable__control:checked~label.sk-toggleable__label-arrow:before {content: \"▾\";}#sk-e3febb53-f32b-489a-a5fb-40d2274acdfb div.sk-estimator input.sk-toggleable__control:checked~label.sk-toggleable__label {background-color: #d4ebff;}#sk-e3febb53-f32b-489a-a5fb-40d2274acdfb div.sk-label input.sk-toggleable__control:checked~label.sk-toggleable__label {background-color: #d4ebff;}#sk-e3febb53-f32b-489a-a5fb-40d2274acdfb input.sk-hidden--visually {border: 0;clip: rect(1px 1px 1px 1px);clip: rect(1px, 1px, 1px, 1px);height: 1px;margin: -1px;overflow: hidden;padding: 0;position: absolute;width: 1px;}#sk-e3febb53-f32b-489a-a5fb-40d2274acdfb div.sk-estimator {font-family: monospace;background-color: #f0f8ff;border: 1px dotted black;border-radius: 0.25em;box-sizing: border-box;margin-bottom: 0.5em;}#sk-e3febb53-f32b-489a-a5fb-40d2274acdfb div.sk-estimator:hover {background-color: #d4ebff;}#sk-e3febb53-f32b-489a-a5fb-40d2274acdfb div.sk-parallel-item::after {content: \"\";width: 100%;border-bottom: 1px solid gray;flex-grow: 1;}#sk-e3febb53-f32b-489a-a5fb-40d2274acdfb div.sk-label:hover label.sk-toggleable__label {background-color: #d4ebff;}#sk-e3febb53-f32b-489a-a5fb-40d2274acdfb div.sk-serial::before {content: \"\";position: absolute;border-left: 1px solid gray;box-sizing: border-box;top: 2em;bottom: 0;left: 50%;}#sk-e3febb53-f32b-489a-a5fb-40d2274acdfb div.sk-serial {display: flex;flex-direction: column;align-items: center;background-color: white;padding-right: 0.2em;padding-left: 0.2em;}#sk-e3febb53-f32b-489a-a5fb-40d2274acdfb div.sk-item {z-index: 1;}#sk-e3febb53-f32b-489a-a5fb-40d2274acdfb div.sk-parallel {display: flex;align-items: stretch;justify-content: center;background-color: white;}#sk-e3febb53-f32b-489a-a5fb-40d2274acdfb div.sk-parallel::before {content: \"\";position: absolute;border-left: 1px solid gray;box-sizing: border-box;top: 2em;bottom: 0;left: 50%;}#sk-e3febb53-f32b-489a-a5fb-40d2274acdfb div.sk-parallel-item {display: flex;flex-direction: column;position: relative;background-color: white;}#sk-e3febb53-f32b-489a-a5fb-40d2274acdfb div.sk-parallel-item:first-child::after {align-self: flex-end;width: 50%;}#sk-e3febb53-f32b-489a-a5fb-40d2274acdfb div.sk-parallel-item:last-child::after {align-self: flex-start;width: 50%;}#sk-e3febb53-f32b-489a-a5fb-40d2274acdfb div.sk-parallel-item:only-child::after {width: 0;}#sk-e3febb53-f32b-489a-a5fb-40d2274acdfb div.sk-dashed-wrapped {border: 1px dashed gray;margin: 0 0.4em 0.5em 0.4em;box-sizing: border-box;padding-bottom: 0.4em;background-color: white;position: relative;}#sk-e3febb53-f32b-489a-a5fb-40d2274acdfb div.sk-label label {font-family: monospace;font-weight: bold;background-color: white;display: inline-block;line-height: 1.2em;}#sk-e3febb53-f32b-489a-a5fb-40d2274acdfb div.sk-label-container {position: relative;z-index: 2;text-align: center;}#sk-e3febb53-f32b-489a-a5fb-40d2274acdfb div.sk-container {/* jupyter's `normalize.less` sets `[hidden] { display: none; }` but bootstrap.min.css set `[hidden] { display: none !important; }` so we also need the `!important` here to be able to override the default hidden behavior on the sphinx rendered scikit-learn.org. See: https://github.com/scikit-learn/scikit-learn/issues/21755 */display: inline-block !important;position: relative;}#sk-e3febb53-f32b-489a-a5fb-40d2274acdfb div.sk-text-repr-fallback {display: none;}</style><div id=\"sk-e3febb53-f32b-489a-a5fb-40d2274acdfb\" class=\"sk-top-container\"><div class=\"sk-text-repr-fallback\"><pre>ColumnTransformer(remainder=&#x27;passthrough&#x27;,\n",
              "                  transformers=[(&#x27;powertransformer&#x27;, PowerTransformer(),\n",
              "                                 [0, 1]),\n",
              "                                (&#x27;kbinsdiscretizer&#x27;, KBinsDiscretizer(), [2]),\n",
              "                                (&#x27;binarizer&#x27;, Binarizer(threshold=55),\n",
              "                                 [3, 4, 8])])</pre><b>Please rerun this cell to show the HTML repr or trust the notebook.</b></div><div class=\"sk-container\" hidden><div class=\"sk-item sk-dashed-wrapped\"><div class=\"sk-label-container\"><div class=\"sk-label sk-toggleable\"><input class=\"sk-toggleable__control sk-hidden--visually\" id=\"07dc297b-0587-466e-b0cc-58709c1abede\" type=\"checkbox\" ><label for=\"07dc297b-0587-466e-b0cc-58709c1abede\" class=\"sk-toggleable__label sk-toggleable__label-arrow\">ColumnTransformer</label><div class=\"sk-toggleable__content\"><pre>ColumnTransformer(remainder=&#x27;passthrough&#x27;,\n",
              "                  transformers=[(&#x27;powertransformer&#x27;, PowerTransformer(),\n",
              "                                 [0, 1]),\n",
              "                                (&#x27;kbinsdiscretizer&#x27;, KBinsDiscretizer(), [2]),\n",
              "                                (&#x27;binarizer&#x27;, Binarizer(threshold=55),\n",
              "                                 [3, 4, 8])])</pre></div></div></div><div class=\"sk-parallel\"><div class=\"sk-parallel-item\"><div class=\"sk-item\"><div class=\"sk-label-container\"><div class=\"sk-label sk-toggleable\"><input class=\"sk-toggleable__control sk-hidden--visually\" id=\"5414bfae-df10-48b8-92aa-a65cad65194a\" type=\"checkbox\" ><label for=\"5414bfae-df10-48b8-92aa-a65cad65194a\" class=\"sk-toggleable__label sk-toggleable__label-arrow\">powertransformer</label><div class=\"sk-toggleable__content\"><pre>[0, 1]</pre></div></div></div><div class=\"sk-serial\"><div class=\"sk-item\"><div class=\"sk-estimator sk-toggleable\"><input class=\"sk-toggleable__control sk-hidden--visually\" id=\"1c6d49e6-d0c4-4e2a-8a2f-8b89bd02082e\" type=\"checkbox\" ><label for=\"1c6d49e6-d0c4-4e2a-8a2f-8b89bd02082e\" class=\"sk-toggleable__label sk-toggleable__label-arrow\">PowerTransformer</label><div class=\"sk-toggleable__content\"><pre>PowerTransformer()</pre></div></div></div></div></div></div><div class=\"sk-parallel-item\"><div class=\"sk-item\"><div class=\"sk-label-container\"><div class=\"sk-label sk-toggleable\"><input class=\"sk-toggleable__control sk-hidden--visually\" id=\"4432d153-c69b-4e2a-8b24-6447d325206b\" type=\"checkbox\" ><label for=\"4432d153-c69b-4e2a-8b24-6447d325206b\" class=\"sk-toggleable__label sk-toggleable__label-arrow\">kbinsdiscretizer</label><div class=\"sk-toggleable__content\"><pre>[2]</pre></div></div></div><div class=\"sk-serial\"><div class=\"sk-item\"><div class=\"sk-estimator sk-toggleable\"><input class=\"sk-toggleable__control sk-hidden--visually\" id=\"688046a5-27a9-4d07-8fe6-dd58af0610ef\" type=\"checkbox\" ><label for=\"688046a5-27a9-4d07-8fe6-dd58af0610ef\" class=\"sk-toggleable__label sk-toggleable__label-arrow\">KBinsDiscretizer</label><div class=\"sk-toggleable__content\"><pre>KBinsDiscretizer()</pre></div></div></div></div></div></div><div class=\"sk-parallel-item\"><div class=\"sk-item\"><div class=\"sk-label-container\"><div class=\"sk-label sk-toggleable\"><input class=\"sk-toggleable__control sk-hidden--visually\" id=\"04927ae8-eafc-4ace-8164-6bd212c8a1e6\" type=\"checkbox\" ><label for=\"04927ae8-eafc-4ace-8164-6bd212c8a1e6\" class=\"sk-toggleable__label sk-toggleable__label-arrow\">binarizer</label><div class=\"sk-toggleable__content\"><pre>[3, 4, 8]</pre></div></div></div><div class=\"sk-serial\"><div class=\"sk-item\"><div class=\"sk-estimator sk-toggleable\"><input class=\"sk-toggleable__control sk-hidden--visually\" id=\"add4bf72-9bac-46c9-b6a4-c70c29050f93\" type=\"checkbox\" ><label for=\"add4bf72-9bac-46c9-b6a4-c70c29050f93\" class=\"sk-toggleable__label sk-toggleable__label-arrow\">Binarizer</label><div class=\"sk-toggleable__content\"><pre>Binarizer(threshold=55)</pre></div></div></div></div></div></div><div class=\"sk-parallel-item\"><div class=\"sk-item\"><div class=\"sk-label-container\"><div class=\"sk-label sk-toggleable\"><input class=\"sk-toggleable__control sk-hidden--visually\" id=\"a40a941e-3a4e-4b8b-a7fc-74a448e720bc\" type=\"checkbox\" ><label for=\"a40a941e-3a4e-4b8b-a7fc-74a448e720bc\" class=\"sk-toggleable__label sk-toggleable__label-arrow\">remainder</label><div class=\"sk-toggleable__content\"><pre></pre></div></div></div><div class=\"sk-serial\"><div class=\"sk-item\"><div class=\"sk-estimator sk-toggleable\"><input class=\"sk-toggleable__control sk-hidden--visually\" id=\"b17b7d5f-a621-479c-ac60-017a1d877969\" type=\"checkbox\" ><label for=\"b17b7d5f-a621-479c-ac60-017a1d877969\" class=\"sk-toggleable__label sk-toggleable__label-arrow\">passthrough</label><div class=\"sk-toggleable__content\"><pre>passthrough</pre></div></div></div></div></div></div></div></div></div></div>"
            ]
          },
          "metadata": {},
          "execution_count": 99
        }
      ]
    },
    {
      "cell_type": "code",
      "source": [],
      "metadata": {
        "id": "4KrgsGZMJg17"
      },
      "execution_count": null,
      "outputs": []
    },
    {
      "cell_type": "code",
      "source": [
        "from sklearn.linear_model import LinearRegression\n",
        "from sklearn.pipeline import make_pipeline\n",
        "algorithm = LinearRegression()\n",
        "pipe = make_pipeline(trans,algorithm)"
      ],
      "metadata": {
        "id": "eA-rUNlM6n-X"
      },
      "execution_count": null,
      "outputs": []
    },
    {
      "cell_type": "code",
      "source": [
        "algorithm"
      ],
      "metadata": {
        "colab": {
          "base_uri": "https://localhost:8080/",
          "height": 75
        },
        "id": "BzAHOoEi7VtB",
        "outputId": "82faf39b-a9bd-4b77-a0c4-cb0e083572f5"
      },
      "execution_count": null,
      "outputs": [
        {
          "output_type": "execute_result",
          "data": {
            "text/plain": [
              "LinearRegression()"
            ],
            "text/html": [
              "<style>#sk-7204d749-69a5-4ab9-a78f-eb278a84bed7 {color: black;background-color: white;}#sk-7204d749-69a5-4ab9-a78f-eb278a84bed7 pre{padding: 0;}#sk-7204d749-69a5-4ab9-a78f-eb278a84bed7 div.sk-toggleable {background-color: white;}#sk-7204d749-69a5-4ab9-a78f-eb278a84bed7 label.sk-toggleable__label {cursor: pointer;display: block;width: 100%;margin-bottom: 0;padding: 0.3em;box-sizing: border-box;text-align: center;}#sk-7204d749-69a5-4ab9-a78f-eb278a84bed7 label.sk-toggleable__label-arrow:before {content: \"▸\";float: left;margin-right: 0.25em;color: #696969;}#sk-7204d749-69a5-4ab9-a78f-eb278a84bed7 label.sk-toggleable__label-arrow:hover:before {color: black;}#sk-7204d749-69a5-4ab9-a78f-eb278a84bed7 div.sk-estimator:hover label.sk-toggleable__label-arrow:before {color: black;}#sk-7204d749-69a5-4ab9-a78f-eb278a84bed7 div.sk-toggleable__content {max-height: 0;max-width: 0;overflow: hidden;text-align: left;background-color: #f0f8ff;}#sk-7204d749-69a5-4ab9-a78f-eb278a84bed7 div.sk-toggleable__content pre {margin: 0.2em;color: black;border-radius: 0.25em;background-color: #f0f8ff;}#sk-7204d749-69a5-4ab9-a78f-eb278a84bed7 input.sk-toggleable__control:checked~div.sk-toggleable__content {max-height: 200px;max-width: 100%;overflow: auto;}#sk-7204d749-69a5-4ab9-a78f-eb278a84bed7 input.sk-toggleable__control:checked~label.sk-toggleable__label-arrow:before {content: \"▾\";}#sk-7204d749-69a5-4ab9-a78f-eb278a84bed7 div.sk-estimator input.sk-toggleable__control:checked~label.sk-toggleable__label {background-color: #d4ebff;}#sk-7204d749-69a5-4ab9-a78f-eb278a84bed7 div.sk-label input.sk-toggleable__control:checked~label.sk-toggleable__label {background-color: #d4ebff;}#sk-7204d749-69a5-4ab9-a78f-eb278a84bed7 input.sk-hidden--visually {border: 0;clip: rect(1px 1px 1px 1px);clip: rect(1px, 1px, 1px, 1px);height: 1px;margin: -1px;overflow: hidden;padding: 0;position: absolute;width: 1px;}#sk-7204d749-69a5-4ab9-a78f-eb278a84bed7 div.sk-estimator {font-family: monospace;background-color: #f0f8ff;border: 1px dotted black;border-radius: 0.25em;box-sizing: border-box;margin-bottom: 0.5em;}#sk-7204d749-69a5-4ab9-a78f-eb278a84bed7 div.sk-estimator:hover {background-color: #d4ebff;}#sk-7204d749-69a5-4ab9-a78f-eb278a84bed7 div.sk-parallel-item::after {content: \"\";width: 100%;border-bottom: 1px solid gray;flex-grow: 1;}#sk-7204d749-69a5-4ab9-a78f-eb278a84bed7 div.sk-label:hover label.sk-toggleable__label {background-color: #d4ebff;}#sk-7204d749-69a5-4ab9-a78f-eb278a84bed7 div.sk-serial::before {content: \"\";position: absolute;border-left: 1px solid gray;box-sizing: border-box;top: 2em;bottom: 0;left: 50%;}#sk-7204d749-69a5-4ab9-a78f-eb278a84bed7 div.sk-serial {display: flex;flex-direction: column;align-items: center;background-color: white;padding-right: 0.2em;padding-left: 0.2em;}#sk-7204d749-69a5-4ab9-a78f-eb278a84bed7 div.sk-item {z-index: 1;}#sk-7204d749-69a5-4ab9-a78f-eb278a84bed7 div.sk-parallel {display: flex;align-items: stretch;justify-content: center;background-color: white;}#sk-7204d749-69a5-4ab9-a78f-eb278a84bed7 div.sk-parallel::before {content: \"\";position: absolute;border-left: 1px solid gray;box-sizing: border-box;top: 2em;bottom: 0;left: 50%;}#sk-7204d749-69a5-4ab9-a78f-eb278a84bed7 div.sk-parallel-item {display: flex;flex-direction: column;position: relative;background-color: white;}#sk-7204d749-69a5-4ab9-a78f-eb278a84bed7 div.sk-parallel-item:first-child::after {align-self: flex-end;width: 50%;}#sk-7204d749-69a5-4ab9-a78f-eb278a84bed7 div.sk-parallel-item:last-child::after {align-self: flex-start;width: 50%;}#sk-7204d749-69a5-4ab9-a78f-eb278a84bed7 div.sk-parallel-item:only-child::after {width: 0;}#sk-7204d749-69a5-4ab9-a78f-eb278a84bed7 div.sk-dashed-wrapped {border: 1px dashed gray;margin: 0 0.4em 0.5em 0.4em;box-sizing: border-box;padding-bottom: 0.4em;background-color: white;position: relative;}#sk-7204d749-69a5-4ab9-a78f-eb278a84bed7 div.sk-label label {font-family: monospace;font-weight: bold;background-color: white;display: inline-block;line-height: 1.2em;}#sk-7204d749-69a5-4ab9-a78f-eb278a84bed7 div.sk-label-container {position: relative;z-index: 2;text-align: center;}#sk-7204d749-69a5-4ab9-a78f-eb278a84bed7 div.sk-container {/* jupyter's `normalize.less` sets `[hidden] { display: none; }` but bootstrap.min.css set `[hidden] { display: none !important; }` so we also need the `!important` here to be able to override the default hidden behavior on the sphinx rendered scikit-learn.org. See: https://github.com/scikit-learn/scikit-learn/issues/21755 */display: inline-block !important;position: relative;}#sk-7204d749-69a5-4ab9-a78f-eb278a84bed7 div.sk-text-repr-fallback {display: none;}</style><div id=\"sk-7204d749-69a5-4ab9-a78f-eb278a84bed7\" class=\"sk-top-container\"><div class=\"sk-text-repr-fallback\"><pre>LinearRegression()</pre><b>Please rerun this cell to show the HTML repr or trust the notebook.</b></div><div class=\"sk-container\" hidden><div class=\"sk-item\"><div class=\"sk-estimator sk-toggleable\"><input class=\"sk-toggleable__control sk-hidden--visually\" id=\"c3b7d56c-9a89-40c9-9dde-b0f177281450\" type=\"checkbox\" checked><label for=\"c3b7d56c-9a89-40c9-9dde-b0f177281450\" class=\"sk-toggleable__label sk-toggleable__label-arrow\">LinearRegression</label><div class=\"sk-toggleable__content\"><pre>LinearRegression()</pre></div></div></div></div></div>"
            ]
          },
          "metadata": {},
          "execution_count": 101
        }
      ]
    },
    {
      "cell_type": "code",
      "source": [
        "pipe"
      ],
      "metadata": {
        "colab": {
          "base_uri": "https://localhost:8080/",
          "height": 192
        },
        "id": "D97Dmjpw7Zj1",
        "outputId": "e9ec17e3-f420-4ac2-b22c-d03de6f559a0"
      },
      "execution_count": null,
      "outputs": [
        {
          "output_type": "execute_result",
          "data": {
            "text/plain": [
              "Pipeline(steps=[('columntransformer',\n",
              "                 ColumnTransformer(remainder='passthrough',\n",
              "                                   transformers=[('powertransformer',\n",
              "                                                  PowerTransformer(), [0, 1]),\n",
              "                                                 ('kbinsdiscretizer',\n",
              "                                                  KBinsDiscretizer(), [2]),\n",
              "                                                 ('binarizer',\n",
              "                                                  Binarizer(threshold=55),\n",
              "                                                  [3, 4, 8])])),\n",
              "                ('linearregression', LinearRegression())])"
            ],
            "text/html": [
              "<style>#sk-9faee6ed-dd28-4707-89b5-a910fc30e71c {color: black;background-color: white;}#sk-9faee6ed-dd28-4707-89b5-a910fc30e71c pre{padding: 0;}#sk-9faee6ed-dd28-4707-89b5-a910fc30e71c div.sk-toggleable {background-color: white;}#sk-9faee6ed-dd28-4707-89b5-a910fc30e71c label.sk-toggleable__label {cursor: pointer;display: block;width: 100%;margin-bottom: 0;padding: 0.3em;box-sizing: border-box;text-align: center;}#sk-9faee6ed-dd28-4707-89b5-a910fc30e71c label.sk-toggleable__label-arrow:before {content: \"▸\";float: left;margin-right: 0.25em;color: #696969;}#sk-9faee6ed-dd28-4707-89b5-a910fc30e71c label.sk-toggleable__label-arrow:hover:before {color: black;}#sk-9faee6ed-dd28-4707-89b5-a910fc30e71c div.sk-estimator:hover label.sk-toggleable__label-arrow:before {color: black;}#sk-9faee6ed-dd28-4707-89b5-a910fc30e71c div.sk-toggleable__content {max-height: 0;max-width: 0;overflow: hidden;text-align: left;background-color: #f0f8ff;}#sk-9faee6ed-dd28-4707-89b5-a910fc30e71c div.sk-toggleable__content pre {margin: 0.2em;color: black;border-radius: 0.25em;background-color: #f0f8ff;}#sk-9faee6ed-dd28-4707-89b5-a910fc30e71c input.sk-toggleable__control:checked~div.sk-toggleable__content {max-height: 200px;max-width: 100%;overflow: auto;}#sk-9faee6ed-dd28-4707-89b5-a910fc30e71c input.sk-toggleable__control:checked~label.sk-toggleable__label-arrow:before {content: \"▾\";}#sk-9faee6ed-dd28-4707-89b5-a910fc30e71c div.sk-estimator input.sk-toggleable__control:checked~label.sk-toggleable__label {background-color: #d4ebff;}#sk-9faee6ed-dd28-4707-89b5-a910fc30e71c div.sk-label input.sk-toggleable__control:checked~label.sk-toggleable__label {background-color: #d4ebff;}#sk-9faee6ed-dd28-4707-89b5-a910fc30e71c input.sk-hidden--visually {border: 0;clip: rect(1px 1px 1px 1px);clip: rect(1px, 1px, 1px, 1px);height: 1px;margin: -1px;overflow: hidden;padding: 0;position: absolute;width: 1px;}#sk-9faee6ed-dd28-4707-89b5-a910fc30e71c div.sk-estimator {font-family: monospace;background-color: #f0f8ff;border: 1px dotted black;border-radius: 0.25em;box-sizing: border-box;margin-bottom: 0.5em;}#sk-9faee6ed-dd28-4707-89b5-a910fc30e71c div.sk-estimator:hover {background-color: #d4ebff;}#sk-9faee6ed-dd28-4707-89b5-a910fc30e71c div.sk-parallel-item::after {content: \"\";width: 100%;border-bottom: 1px solid gray;flex-grow: 1;}#sk-9faee6ed-dd28-4707-89b5-a910fc30e71c div.sk-label:hover label.sk-toggleable__label {background-color: #d4ebff;}#sk-9faee6ed-dd28-4707-89b5-a910fc30e71c div.sk-serial::before {content: \"\";position: absolute;border-left: 1px solid gray;box-sizing: border-box;top: 2em;bottom: 0;left: 50%;}#sk-9faee6ed-dd28-4707-89b5-a910fc30e71c div.sk-serial {display: flex;flex-direction: column;align-items: center;background-color: white;padding-right: 0.2em;padding-left: 0.2em;}#sk-9faee6ed-dd28-4707-89b5-a910fc30e71c div.sk-item {z-index: 1;}#sk-9faee6ed-dd28-4707-89b5-a910fc30e71c div.sk-parallel {display: flex;align-items: stretch;justify-content: center;background-color: white;}#sk-9faee6ed-dd28-4707-89b5-a910fc30e71c div.sk-parallel::before {content: \"\";position: absolute;border-left: 1px solid gray;box-sizing: border-box;top: 2em;bottom: 0;left: 50%;}#sk-9faee6ed-dd28-4707-89b5-a910fc30e71c div.sk-parallel-item {display: flex;flex-direction: column;position: relative;background-color: white;}#sk-9faee6ed-dd28-4707-89b5-a910fc30e71c div.sk-parallel-item:first-child::after {align-self: flex-end;width: 50%;}#sk-9faee6ed-dd28-4707-89b5-a910fc30e71c div.sk-parallel-item:last-child::after {align-self: flex-start;width: 50%;}#sk-9faee6ed-dd28-4707-89b5-a910fc30e71c div.sk-parallel-item:only-child::after {width: 0;}#sk-9faee6ed-dd28-4707-89b5-a910fc30e71c div.sk-dashed-wrapped {border: 1px dashed gray;margin: 0 0.4em 0.5em 0.4em;box-sizing: border-box;padding-bottom: 0.4em;background-color: white;position: relative;}#sk-9faee6ed-dd28-4707-89b5-a910fc30e71c div.sk-label label {font-family: monospace;font-weight: bold;background-color: white;display: inline-block;line-height: 1.2em;}#sk-9faee6ed-dd28-4707-89b5-a910fc30e71c div.sk-label-container {position: relative;z-index: 2;text-align: center;}#sk-9faee6ed-dd28-4707-89b5-a910fc30e71c div.sk-container {/* jupyter's `normalize.less` sets `[hidden] { display: none; }` but bootstrap.min.css set `[hidden] { display: none !important; }` so we also need the `!important` here to be able to override the default hidden behavior on the sphinx rendered scikit-learn.org. See: https://github.com/scikit-learn/scikit-learn/issues/21755 */display: inline-block !important;position: relative;}#sk-9faee6ed-dd28-4707-89b5-a910fc30e71c div.sk-text-repr-fallback {display: none;}</style><div id=\"sk-9faee6ed-dd28-4707-89b5-a910fc30e71c\" class=\"sk-top-container\"><div class=\"sk-text-repr-fallback\"><pre>Pipeline(steps=[(&#x27;columntransformer&#x27;,\n",
              "                 ColumnTransformer(remainder=&#x27;passthrough&#x27;,\n",
              "                                   transformers=[(&#x27;powertransformer&#x27;,\n",
              "                                                  PowerTransformer(), [0, 1]),\n",
              "                                                 (&#x27;kbinsdiscretizer&#x27;,\n",
              "                                                  KBinsDiscretizer(), [2]),\n",
              "                                                 (&#x27;binarizer&#x27;,\n",
              "                                                  Binarizer(threshold=55),\n",
              "                                                  [3, 4, 8])])),\n",
              "                (&#x27;linearregression&#x27;, LinearRegression())])</pre><b>Please rerun this cell to show the HTML repr or trust the notebook.</b></div><div class=\"sk-container\" hidden><div class=\"sk-item sk-dashed-wrapped\"><div class=\"sk-label-container\"><div class=\"sk-label sk-toggleable\"><input class=\"sk-toggleable__control sk-hidden--visually\" id=\"c92c97ae-65b6-4c14-ad2d-e129e086509d\" type=\"checkbox\" ><label for=\"c92c97ae-65b6-4c14-ad2d-e129e086509d\" class=\"sk-toggleable__label sk-toggleable__label-arrow\">Pipeline</label><div class=\"sk-toggleable__content\"><pre>Pipeline(steps=[(&#x27;columntransformer&#x27;,\n",
              "                 ColumnTransformer(remainder=&#x27;passthrough&#x27;,\n",
              "                                   transformers=[(&#x27;powertransformer&#x27;,\n",
              "                                                  PowerTransformer(), [0, 1]),\n",
              "                                                 (&#x27;kbinsdiscretizer&#x27;,\n",
              "                                                  KBinsDiscretizer(), [2]),\n",
              "                                                 (&#x27;binarizer&#x27;,\n",
              "                                                  Binarizer(threshold=55),\n",
              "                                                  [3, 4, 8])])),\n",
              "                (&#x27;linearregression&#x27;, LinearRegression())])</pre></div></div></div><div class=\"sk-serial\"><div class=\"sk-item sk-dashed-wrapped\"><div class=\"sk-label-container\"><div class=\"sk-label sk-toggleable\"><input class=\"sk-toggleable__control sk-hidden--visually\" id=\"37b1c2c9-4eb2-4067-b2e0-384fa3fb5394\" type=\"checkbox\" ><label for=\"37b1c2c9-4eb2-4067-b2e0-384fa3fb5394\" class=\"sk-toggleable__label sk-toggleable__label-arrow\">columntransformer: ColumnTransformer</label><div class=\"sk-toggleable__content\"><pre>ColumnTransformer(remainder=&#x27;passthrough&#x27;,\n",
              "                  transformers=[(&#x27;powertransformer&#x27;, PowerTransformer(),\n",
              "                                 [0, 1]),\n",
              "                                (&#x27;kbinsdiscretizer&#x27;, KBinsDiscretizer(), [2]),\n",
              "                                (&#x27;binarizer&#x27;, Binarizer(threshold=55),\n",
              "                                 [3, 4, 8])])</pre></div></div></div><div class=\"sk-parallel\"><div class=\"sk-parallel-item\"><div class=\"sk-item\"><div class=\"sk-label-container\"><div class=\"sk-label sk-toggleable\"><input class=\"sk-toggleable__control sk-hidden--visually\" id=\"93807668-3343-4d75-a71c-0f5238b29746\" type=\"checkbox\" ><label for=\"93807668-3343-4d75-a71c-0f5238b29746\" class=\"sk-toggleable__label sk-toggleable__label-arrow\">powertransformer</label><div class=\"sk-toggleable__content\"><pre>[0, 1]</pre></div></div></div><div class=\"sk-serial\"><div class=\"sk-item\"><div class=\"sk-estimator sk-toggleable\"><input class=\"sk-toggleable__control sk-hidden--visually\" id=\"c88f764a-06f8-4e9a-99cf-0103233a6c0a\" type=\"checkbox\" ><label for=\"c88f764a-06f8-4e9a-99cf-0103233a6c0a\" class=\"sk-toggleable__label sk-toggleable__label-arrow\">PowerTransformer</label><div class=\"sk-toggleable__content\"><pre>PowerTransformer()</pre></div></div></div></div></div></div><div class=\"sk-parallel-item\"><div class=\"sk-item\"><div class=\"sk-label-container\"><div class=\"sk-label sk-toggleable\"><input class=\"sk-toggleable__control sk-hidden--visually\" id=\"8991a256-74e3-41da-b356-9e004a51cf60\" type=\"checkbox\" ><label for=\"8991a256-74e3-41da-b356-9e004a51cf60\" class=\"sk-toggleable__label sk-toggleable__label-arrow\">kbinsdiscretizer</label><div class=\"sk-toggleable__content\"><pre>[2]</pre></div></div></div><div class=\"sk-serial\"><div class=\"sk-item\"><div class=\"sk-estimator sk-toggleable\"><input class=\"sk-toggleable__control sk-hidden--visually\" id=\"03368d05-ac3b-4b25-846f-c6103dd93dde\" type=\"checkbox\" ><label for=\"03368d05-ac3b-4b25-846f-c6103dd93dde\" class=\"sk-toggleable__label sk-toggleable__label-arrow\">KBinsDiscretizer</label><div class=\"sk-toggleable__content\"><pre>KBinsDiscretizer()</pre></div></div></div></div></div></div><div class=\"sk-parallel-item\"><div class=\"sk-item\"><div class=\"sk-label-container\"><div class=\"sk-label sk-toggleable\"><input class=\"sk-toggleable__control sk-hidden--visually\" id=\"a6ad5fb7-d6dc-44d1-9d49-c18ca1902481\" type=\"checkbox\" ><label for=\"a6ad5fb7-d6dc-44d1-9d49-c18ca1902481\" class=\"sk-toggleable__label sk-toggleable__label-arrow\">binarizer</label><div class=\"sk-toggleable__content\"><pre>[3, 4, 8]</pre></div></div></div><div class=\"sk-serial\"><div class=\"sk-item\"><div class=\"sk-estimator sk-toggleable\"><input class=\"sk-toggleable__control sk-hidden--visually\" id=\"4ce19bd5-b067-4395-a613-55e93ef189f2\" type=\"checkbox\" ><label for=\"4ce19bd5-b067-4395-a613-55e93ef189f2\" class=\"sk-toggleable__label sk-toggleable__label-arrow\">Binarizer</label><div class=\"sk-toggleable__content\"><pre>Binarizer(threshold=55)</pre></div></div></div></div></div></div><div class=\"sk-parallel-item\"><div class=\"sk-item\"><div class=\"sk-label-container\"><div class=\"sk-label sk-toggleable\"><input class=\"sk-toggleable__control sk-hidden--visually\" id=\"1f24fb83-e4d3-4844-9032-38dc1402e54b\" type=\"checkbox\" ><label for=\"1f24fb83-e4d3-4844-9032-38dc1402e54b\" class=\"sk-toggleable__label sk-toggleable__label-arrow\">remainder</label><div class=\"sk-toggleable__content\"><pre></pre></div></div></div><div class=\"sk-serial\"><div class=\"sk-item\"><div class=\"sk-estimator sk-toggleable\"><input class=\"sk-toggleable__control sk-hidden--visually\" id=\"df62f0e9-5b17-4496-8cf8-0c23c6251f49\" type=\"checkbox\" ><label for=\"df62f0e9-5b17-4496-8cf8-0c23c6251f49\" class=\"sk-toggleable__label sk-toggleable__label-arrow\">passthrough</label><div class=\"sk-toggleable__content\"><pre>passthrough</pre></div></div></div></div></div></div></div></div><div class=\"sk-item\"><div class=\"sk-estimator sk-toggleable\"><input class=\"sk-toggleable__control sk-hidden--visually\" id=\"242d3f33-c49b-4a2d-9afd-4abc1dcfca16\" type=\"checkbox\" ><label for=\"242d3f33-c49b-4a2d-9afd-4abc1dcfca16\" class=\"sk-toggleable__label sk-toggleable__label-arrow\">LinearRegression</label><div class=\"sk-toggleable__content\"><pre>LinearRegression()</pre></div></div></div></div></div></div></div>"
            ]
          },
          "metadata": {},
          "execution_count": 102
        }
      ]
    },
    {
      "cell_type": "code",
      "source": [
        "from sklearn.linear_model import Lasso,Ridge\n",
        "from sklearn.pipeline import make_pipeline\n",
        "algorithm_1 = Lasso()\n",
        "algorithm_2 = Ridge()\n",
        "pipe_1 = make_pipeline(trans,algorithm_1)\n",
        "pipe_2 = make_pipeline(trans,algorithm_2)"
      ],
      "metadata": {
        "id": "qxyanKnf7eMS"
      },
      "execution_count": null,
      "outputs": []
    },
    {
      "cell_type": "code",
      "source": [
        "pipe.fit(x_train,y_train)"
      ],
      "metadata": {
        "colab": {
          "base_uri": "https://localhost:8080/",
          "height": 192
        },
        "id": "1l5JFotV7iUv",
        "outputId": "51dc921a-a5e6-4974-e890-79d8e830a6f9"
      },
      "execution_count": null,
      "outputs": [
        {
          "output_type": "execute_result",
          "data": {
            "text/plain": [
              "Pipeline(steps=[('columntransformer',\n",
              "                 ColumnTransformer(remainder='passthrough',\n",
              "                                   transformers=[('powertransformer',\n",
              "                                                  PowerTransformer(), [0, 1]),\n",
              "                                                 ('kbinsdiscretizer',\n",
              "                                                  KBinsDiscretizer(), [2]),\n",
              "                                                 ('binarizer',\n",
              "                                                  Binarizer(threshold=55),\n",
              "                                                  [3, 4, 8])])),\n",
              "                ('linearregression', LinearRegression())])"
            ],
            "text/html": [
              "<style>#sk-24698f67-6287-4ec8-a34d-eab9aec494d2 {color: black;background-color: white;}#sk-24698f67-6287-4ec8-a34d-eab9aec494d2 pre{padding: 0;}#sk-24698f67-6287-4ec8-a34d-eab9aec494d2 div.sk-toggleable {background-color: white;}#sk-24698f67-6287-4ec8-a34d-eab9aec494d2 label.sk-toggleable__label {cursor: pointer;display: block;width: 100%;margin-bottom: 0;padding: 0.3em;box-sizing: border-box;text-align: center;}#sk-24698f67-6287-4ec8-a34d-eab9aec494d2 label.sk-toggleable__label-arrow:before {content: \"▸\";float: left;margin-right: 0.25em;color: #696969;}#sk-24698f67-6287-4ec8-a34d-eab9aec494d2 label.sk-toggleable__label-arrow:hover:before {color: black;}#sk-24698f67-6287-4ec8-a34d-eab9aec494d2 div.sk-estimator:hover label.sk-toggleable__label-arrow:before {color: black;}#sk-24698f67-6287-4ec8-a34d-eab9aec494d2 div.sk-toggleable__content {max-height: 0;max-width: 0;overflow: hidden;text-align: left;background-color: #f0f8ff;}#sk-24698f67-6287-4ec8-a34d-eab9aec494d2 div.sk-toggleable__content pre {margin: 0.2em;color: black;border-radius: 0.25em;background-color: #f0f8ff;}#sk-24698f67-6287-4ec8-a34d-eab9aec494d2 input.sk-toggleable__control:checked~div.sk-toggleable__content {max-height: 200px;max-width: 100%;overflow: auto;}#sk-24698f67-6287-4ec8-a34d-eab9aec494d2 input.sk-toggleable__control:checked~label.sk-toggleable__label-arrow:before {content: \"▾\";}#sk-24698f67-6287-4ec8-a34d-eab9aec494d2 div.sk-estimator input.sk-toggleable__control:checked~label.sk-toggleable__label {background-color: #d4ebff;}#sk-24698f67-6287-4ec8-a34d-eab9aec494d2 div.sk-label input.sk-toggleable__control:checked~label.sk-toggleable__label {background-color: #d4ebff;}#sk-24698f67-6287-4ec8-a34d-eab9aec494d2 input.sk-hidden--visually {border: 0;clip: rect(1px 1px 1px 1px);clip: rect(1px, 1px, 1px, 1px);height: 1px;margin: -1px;overflow: hidden;padding: 0;position: absolute;width: 1px;}#sk-24698f67-6287-4ec8-a34d-eab9aec494d2 div.sk-estimator {font-family: monospace;background-color: #f0f8ff;border: 1px dotted black;border-radius: 0.25em;box-sizing: border-box;margin-bottom: 0.5em;}#sk-24698f67-6287-4ec8-a34d-eab9aec494d2 div.sk-estimator:hover {background-color: #d4ebff;}#sk-24698f67-6287-4ec8-a34d-eab9aec494d2 div.sk-parallel-item::after {content: \"\";width: 100%;border-bottom: 1px solid gray;flex-grow: 1;}#sk-24698f67-6287-4ec8-a34d-eab9aec494d2 div.sk-label:hover label.sk-toggleable__label {background-color: #d4ebff;}#sk-24698f67-6287-4ec8-a34d-eab9aec494d2 div.sk-serial::before {content: \"\";position: absolute;border-left: 1px solid gray;box-sizing: border-box;top: 2em;bottom: 0;left: 50%;}#sk-24698f67-6287-4ec8-a34d-eab9aec494d2 div.sk-serial {display: flex;flex-direction: column;align-items: center;background-color: white;padding-right: 0.2em;padding-left: 0.2em;}#sk-24698f67-6287-4ec8-a34d-eab9aec494d2 div.sk-item {z-index: 1;}#sk-24698f67-6287-4ec8-a34d-eab9aec494d2 div.sk-parallel {display: flex;align-items: stretch;justify-content: center;background-color: white;}#sk-24698f67-6287-4ec8-a34d-eab9aec494d2 div.sk-parallel::before {content: \"\";position: absolute;border-left: 1px solid gray;box-sizing: border-box;top: 2em;bottom: 0;left: 50%;}#sk-24698f67-6287-4ec8-a34d-eab9aec494d2 div.sk-parallel-item {display: flex;flex-direction: column;position: relative;background-color: white;}#sk-24698f67-6287-4ec8-a34d-eab9aec494d2 div.sk-parallel-item:first-child::after {align-self: flex-end;width: 50%;}#sk-24698f67-6287-4ec8-a34d-eab9aec494d2 div.sk-parallel-item:last-child::after {align-self: flex-start;width: 50%;}#sk-24698f67-6287-4ec8-a34d-eab9aec494d2 div.sk-parallel-item:only-child::after {width: 0;}#sk-24698f67-6287-4ec8-a34d-eab9aec494d2 div.sk-dashed-wrapped {border: 1px dashed gray;margin: 0 0.4em 0.5em 0.4em;box-sizing: border-box;padding-bottom: 0.4em;background-color: white;position: relative;}#sk-24698f67-6287-4ec8-a34d-eab9aec494d2 div.sk-label label {font-family: monospace;font-weight: bold;background-color: white;display: inline-block;line-height: 1.2em;}#sk-24698f67-6287-4ec8-a34d-eab9aec494d2 div.sk-label-container {position: relative;z-index: 2;text-align: center;}#sk-24698f67-6287-4ec8-a34d-eab9aec494d2 div.sk-container {/* jupyter's `normalize.less` sets `[hidden] { display: none; }` but bootstrap.min.css set `[hidden] { display: none !important; }` so we also need the `!important` here to be able to override the default hidden behavior on the sphinx rendered scikit-learn.org. See: https://github.com/scikit-learn/scikit-learn/issues/21755 */display: inline-block !important;position: relative;}#sk-24698f67-6287-4ec8-a34d-eab9aec494d2 div.sk-text-repr-fallback {display: none;}</style><div id=\"sk-24698f67-6287-4ec8-a34d-eab9aec494d2\" class=\"sk-top-container\"><div class=\"sk-text-repr-fallback\"><pre>Pipeline(steps=[(&#x27;columntransformer&#x27;,\n",
              "                 ColumnTransformer(remainder=&#x27;passthrough&#x27;,\n",
              "                                   transformers=[(&#x27;powertransformer&#x27;,\n",
              "                                                  PowerTransformer(), [0, 1]),\n",
              "                                                 (&#x27;kbinsdiscretizer&#x27;,\n",
              "                                                  KBinsDiscretizer(), [2]),\n",
              "                                                 (&#x27;binarizer&#x27;,\n",
              "                                                  Binarizer(threshold=55),\n",
              "                                                  [3, 4, 8])])),\n",
              "                (&#x27;linearregression&#x27;, LinearRegression())])</pre><b>Please rerun this cell to show the HTML repr or trust the notebook.</b></div><div class=\"sk-container\" hidden><div class=\"sk-item sk-dashed-wrapped\"><div class=\"sk-label-container\"><div class=\"sk-label sk-toggleable\"><input class=\"sk-toggleable__control sk-hidden--visually\" id=\"d8f8893e-8be7-470c-a598-57403584f845\" type=\"checkbox\" ><label for=\"d8f8893e-8be7-470c-a598-57403584f845\" class=\"sk-toggleable__label sk-toggleable__label-arrow\">Pipeline</label><div class=\"sk-toggleable__content\"><pre>Pipeline(steps=[(&#x27;columntransformer&#x27;,\n",
              "                 ColumnTransformer(remainder=&#x27;passthrough&#x27;,\n",
              "                                   transformers=[(&#x27;powertransformer&#x27;,\n",
              "                                                  PowerTransformer(), [0, 1]),\n",
              "                                                 (&#x27;kbinsdiscretizer&#x27;,\n",
              "                                                  KBinsDiscretizer(), [2]),\n",
              "                                                 (&#x27;binarizer&#x27;,\n",
              "                                                  Binarizer(threshold=55),\n",
              "                                                  [3, 4, 8])])),\n",
              "                (&#x27;linearregression&#x27;, LinearRegression())])</pre></div></div></div><div class=\"sk-serial\"><div class=\"sk-item sk-dashed-wrapped\"><div class=\"sk-label-container\"><div class=\"sk-label sk-toggleable\"><input class=\"sk-toggleable__control sk-hidden--visually\" id=\"92a79203-b599-478a-8937-b3f78651a28e\" type=\"checkbox\" ><label for=\"92a79203-b599-478a-8937-b3f78651a28e\" class=\"sk-toggleable__label sk-toggleable__label-arrow\">columntransformer: ColumnTransformer</label><div class=\"sk-toggleable__content\"><pre>ColumnTransformer(remainder=&#x27;passthrough&#x27;,\n",
              "                  transformers=[(&#x27;powertransformer&#x27;, PowerTransformer(),\n",
              "                                 [0, 1]),\n",
              "                                (&#x27;kbinsdiscretizer&#x27;, KBinsDiscretizer(), [2]),\n",
              "                                (&#x27;binarizer&#x27;, Binarizer(threshold=55),\n",
              "                                 [3, 4, 8])])</pre></div></div></div><div class=\"sk-parallel\"><div class=\"sk-parallel-item\"><div class=\"sk-item\"><div class=\"sk-label-container\"><div class=\"sk-label sk-toggleable\"><input class=\"sk-toggleable__control sk-hidden--visually\" id=\"c72836ef-432a-4bc9-9e21-8330a847e565\" type=\"checkbox\" ><label for=\"c72836ef-432a-4bc9-9e21-8330a847e565\" class=\"sk-toggleable__label sk-toggleable__label-arrow\">powertransformer</label><div class=\"sk-toggleable__content\"><pre>[0, 1]</pre></div></div></div><div class=\"sk-serial\"><div class=\"sk-item\"><div class=\"sk-estimator sk-toggleable\"><input class=\"sk-toggleable__control sk-hidden--visually\" id=\"ae65508f-7618-441b-9cac-097d5696988e\" type=\"checkbox\" ><label for=\"ae65508f-7618-441b-9cac-097d5696988e\" class=\"sk-toggleable__label sk-toggleable__label-arrow\">PowerTransformer</label><div class=\"sk-toggleable__content\"><pre>PowerTransformer()</pre></div></div></div></div></div></div><div class=\"sk-parallel-item\"><div class=\"sk-item\"><div class=\"sk-label-container\"><div class=\"sk-label sk-toggleable\"><input class=\"sk-toggleable__control sk-hidden--visually\" id=\"d113e493-b37b-403d-b485-d680586ddcc5\" type=\"checkbox\" ><label for=\"d113e493-b37b-403d-b485-d680586ddcc5\" class=\"sk-toggleable__label sk-toggleable__label-arrow\">kbinsdiscretizer</label><div class=\"sk-toggleable__content\"><pre>[2]</pre></div></div></div><div class=\"sk-serial\"><div class=\"sk-item\"><div class=\"sk-estimator sk-toggleable\"><input class=\"sk-toggleable__control sk-hidden--visually\" id=\"6ea2f199-2ac3-4bce-872d-c412834e3419\" type=\"checkbox\" ><label for=\"6ea2f199-2ac3-4bce-872d-c412834e3419\" class=\"sk-toggleable__label sk-toggleable__label-arrow\">KBinsDiscretizer</label><div class=\"sk-toggleable__content\"><pre>KBinsDiscretizer()</pre></div></div></div></div></div></div><div class=\"sk-parallel-item\"><div class=\"sk-item\"><div class=\"sk-label-container\"><div class=\"sk-label sk-toggleable\"><input class=\"sk-toggleable__control sk-hidden--visually\" id=\"d19d61e1-7c11-430a-81a2-3438856ac905\" type=\"checkbox\" ><label for=\"d19d61e1-7c11-430a-81a2-3438856ac905\" class=\"sk-toggleable__label sk-toggleable__label-arrow\">binarizer</label><div class=\"sk-toggleable__content\"><pre>[3, 4, 8]</pre></div></div></div><div class=\"sk-serial\"><div class=\"sk-item\"><div class=\"sk-estimator sk-toggleable\"><input class=\"sk-toggleable__control sk-hidden--visually\" id=\"872da8d6-c2dd-461e-adcc-321dabbcb7fa\" type=\"checkbox\" ><label for=\"872da8d6-c2dd-461e-adcc-321dabbcb7fa\" class=\"sk-toggleable__label sk-toggleable__label-arrow\">Binarizer</label><div class=\"sk-toggleable__content\"><pre>Binarizer(threshold=55)</pre></div></div></div></div></div></div><div class=\"sk-parallel-item\"><div class=\"sk-item\"><div class=\"sk-label-container\"><div class=\"sk-label sk-toggleable\"><input class=\"sk-toggleable__control sk-hidden--visually\" id=\"74b77c3a-0e50-4ff2-bddd-0b250e67de46\" type=\"checkbox\" ><label for=\"74b77c3a-0e50-4ff2-bddd-0b250e67de46\" class=\"sk-toggleable__label sk-toggleable__label-arrow\">remainder</label><div class=\"sk-toggleable__content\"><pre>[&#x27;idle_time&#x27;, &#x27;idle_men&#x27;, &#x27;no_of_style_change&#x27;]</pre></div></div></div><div class=\"sk-serial\"><div class=\"sk-item\"><div class=\"sk-estimator sk-toggleable\"><input class=\"sk-toggleable__control sk-hidden--visually\" id=\"ff624b51-038b-4549-b8ce-c9da9d762a73\" type=\"checkbox\" ><label for=\"ff624b51-038b-4549-b8ce-c9da9d762a73\" class=\"sk-toggleable__label sk-toggleable__label-arrow\">passthrough</label><div class=\"sk-toggleable__content\"><pre>passthrough</pre></div></div></div></div></div></div></div></div><div class=\"sk-item\"><div class=\"sk-estimator sk-toggleable\"><input class=\"sk-toggleable__control sk-hidden--visually\" id=\"22b1938b-7803-4f9e-9b05-5dbf0737c12c\" type=\"checkbox\" ><label for=\"22b1938b-7803-4f9e-9b05-5dbf0737c12c\" class=\"sk-toggleable__label sk-toggleable__label-arrow\">LinearRegression</label><div class=\"sk-toggleable__content\"><pre>LinearRegression()</pre></div></div></div></div></div></div></div>"
            ]
          },
          "metadata": {},
          "execution_count": 104
        }
      ]
    },
    {
      "cell_type": "code",
      "source": [
        "pipe_1.fit(x_train,y_train)"
      ],
      "metadata": {
        "colab": {
          "base_uri": "https://localhost:8080/",
          "height": 192
        },
        "id": "RCRyEMmN7xGc",
        "outputId": "af43fa6d-4db6-4786-c093-0c1e91cea2ab"
      },
      "execution_count": null,
      "outputs": [
        {
          "output_type": "execute_result",
          "data": {
            "text/plain": [
              "Pipeline(steps=[('columntransformer',\n",
              "                 ColumnTransformer(remainder='passthrough',\n",
              "                                   transformers=[('powertransformer',\n",
              "                                                  PowerTransformer(), [0, 1]),\n",
              "                                                 ('kbinsdiscretizer',\n",
              "                                                  KBinsDiscretizer(), [2]),\n",
              "                                                 ('binarizer',\n",
              "                                                  Binarizer(threshold=55),\n",
              "                                                  [3, 4, 8])])),\n",
              "                ('lasso', Lasso())])"
            ],
            "text/html": [
              "<style>#sk-77af9b59-93a0-434d-acca-c625d6b3be2e {color: black;background-color: white;}#sk-77af9b59-93a0-434d-acca-c625d6b3be2e pre{padding: 0;}#sk-77af9b59-93a0-434d-acca-c625d6b3be2e div.sk-toggleable {background-color: white;}#sk-77af9b59-93a0-434d-acca-c625d6b3be2e label.sk-toggleable__label {cursor: pointer;display: block;width: 100%;margin-bottom: 0;padding: 0.3em;box-sizing: border-box;text-align: center;}#sk-77af9b59-93a0-434d-acca-c625d6b3be2e label.sk-toggleable__label-arrow:before {content: \"▸\";float: left;margin-right: 0.25em;color: #696969;}#sk-77af9b59-93a0-434d-acca-c625d6b3be2e label.sk-toggleable__label-arrow:hover:before {color: black;}#sk-77af9b59-93a0-434d-acca-c625d6b3be2e div.sk-estimator:hover label.sk-toggleable__label-arrow:before {color: black;}#sk-77af9b59-93a0-434d-acca-c625d6b3be2e div.sk-toggleable__content {max-height: 0;max-width: 0;overflow: hidden;text-align: left;background-color: #f0f8ff;}#sk-77af9b59-93a0-434d-acca-c625d6b3be2e div.sk-toggleable__content pre {margin: 0.2em;color: black;border-radius: 0.25em;background-color: #f0f8ff;}#sk-77af9b59-93a0-434d-acca-c625d6b3be2e input.sk-toggleable__control:checked~div.sk-toggleable__content {max-height: 200px;max-width: 100%;overflow: auto;}#sk-77af9b59-93a0-434d-acca-c625d6b3be2e input.sk-toggleable__control:checked~label.sk-toggleable__label-arrow:before {content: \"▾\";}#sk-77af9b59-93a0-434d-acca-c625d6b3be2e div.sk-estimator input.sk-toggleable__control:checked~label.sk-toggleable__label {background-color: #d4ebff;}#sk-77af9b59-93a0-434d-acca-c625d6b3be2e div.sk-label input.sk-toggleable__control:checked~label.sk-toggleable__label {background-color: #d4ebff;}#sk-77af9b59-93a0-434d-acca-c625d6b3be2e input.sk-hidden--visually {border: 0;clip: rect(1px 1px 1px 1px);clip: rect(1px, 1px, 1px, 1px);height: 1px;margin: -1px;overflow: hidden;padding: 0;position: absolute;width: 1px;}#sk-77af9b59-93a0-434d-acca-c625d6b3be2e div.sk-estimator {font-family: monospace;background-color: #f0f8ff;border: 1px dotted black;border-radius: 0.25em;box-sizing: border-box;margin-bottom: 0.5em;}#sk-77af9b59-93a0-434d-acca-c625d6b3be2e div.sk-estimator:hover {background-color: #d4ebff;}#sk-77af9b59-93a0-434d-acca-c625d6b3be2e div.sk-parallel-item::after {content: \"\";width: 100%;border-bottom: 1px solid gray;flex-grow: 1;}#sk-77af9b59-93a0-434d-acca-c625d6b3be2e div.sk-label:hover label.sk-toggleable__label {background-color: #d4ebff;}#sk-77af9b59-93a0-434d-acca-c625d6b3be2e div.sk-serial::before {content: \"\";position: absolute;border-left: 1px solid gray;box-sizing: border-box;top: 2em;bottom: 0;left: 50%;}#sk-77af9b59-93a0-434d-acca-c625d6b3be2e div.sk-serial {display: flex;flex-direction: column;align-items: center;background-color: white;padding-right: 0.2em;padding-left: 0.2em;}#sk-77af9b59-93a0-434d-acca-c625d6b3be2e div.sk-item {z-index: 1;}#sk-77af9b59-93a0-434d-acca-c625d6b3be2e div.sk-parallel {display: flex;align-items: stretch;justify-content: center;background-color: white;}#sk-77af9b59-93a0-434d-acca-c625d6b3be2e div.sk-parallel::before {content: \"\";position: absolute;border-left: 1px solid gray;box-sizing: border-box;top: 2em;bottom: 0;left: 50%;}#sk-77af9b59-93a0-434d-acca-c625d6b3be2e div.sk-parallel-item {display: flex;flex-direction: column;position: relative;background-color: white;}#sk-77af9b59-93a0-434d-acca-c625d6b3be2e div.sk-parallel-item:first-child::after {align-self: flex-end;width: 50%;}#sk-77af9b59-93a0-434d-acca-c625d6b3be2e div.sk-parallel-item:last-child::after {align-self: flex-start;width: 50%;}#sk-77af9b59-93a0-434d-acca-c625d6b3be2e div.sk-parallel-item:only-child::after {width: 0;}#sk-77af9b59-93a0-434d-acca-c625d6b3be2e div.sk-dashed-wrapped {border: 1px dashed gray;margin: 0 0.4em 0.5em 0.4em;box-sizing: border-box;padding-bottom: 0.4em;background-color: white;position: relative;}#sk-77af9b59-93a0-434d-acca-c625d6b3be2e div.sk-label label {font-family: monospace;font-weight: bold;background-color: white;display: inline-block;line-height: 1.2em;}#sk-77af9b59-93a0-434d-acca-c625d6b3be2e div.sk-label-container {position: relative;z-index: 2;text-align: center;}#sk-77af9b59-93a0-434d-acca-c625d6b3be2e div.sk-container {/* jupyter's `normalize.less` sets `[hidden] { display: none; }` but bootstrap.min.css set `[hidden] { display: none !important; }` so we also need the `!important` here to be able to override the default hidden behavior on the sphinx rendered scikit-learn.org. See: https://github.com/scikit-learn/scikit-learn/issues/21755 */display: inline-block !important;position: relative;}#sk-77af9b59-93a0-434d-acca-c625d6b3be2e div.sk-text-repr-fallback {display: none;}</style><div id=\"sk-77af9b59-93a0-434d-acca-c625d6b3be2e\" class=\"sk-top-container\"><div class=\"sk-text-repr-fallback\"><pre>Pipeline(steps=[(&#x27;columntransformer&#x27;,\n",
              "                 ColumnTransformer(remainder=&#x27;passthrough&#x27;,\n",
              "                                   transformers=[(&#x27;powertransformer&#x27;,\n",
              "                                                  PowerTransformer(), [0, 1]),\n",
              "                                                 (&#x27;kbinsdiscretizer&#x27;,\n",
              "                                                  KBinsDiscretizer(), [2]),\n",
              "                                                 (&#x27;binarizer&#x27;,\n",
              "                                                  Binarizer(threshold=55),\n",
              "                                                  [3, 4, 8])])),\n",
              "                (&#x27;lasso&#x27;, Lasso())])</pre><b>Please rerun this cell to show the HTML repr or trust the notebook.</b></div><div class=\"sk-container\" hidden><div class=\"sk-item sk-dashed-wrapped\"><div class=\"sk-label-container\"><div class=\"sk-label sk-toggleable\"><input class=\"sk-toggleable__control sk-hidden--visually\" id=\"367ce5f1-9eb8-4f25-897e-1bcda00ee9d9\" type=\"checkbox\" ><label for=\"367ce5f1-9eb8-4f25-897e-1bcda00ee9d9\" class=\"sk-toggleable__label sk-toggleable__label-arrow\">Pipeline</label><div class=\"sk-toggleable__content\"><pre>Pipeline(steps=[(&#x27;columntransformer&#x27;,\n",
              "                 ColumnTransformer(remainder=&#x27;passthrough&#x27;,\n",
              "                                   transformers=[(&#x27;powertransformer&#x27;,\n",
              "                                                  PowerTransformer(), [0, 1]),\n",
              "                                                 (&#x27;kbinsdiscretizer&#x27;,\n",
              "                                                  KBinsDiscretizer(), [2]),\n",
              "                                                 (&#x27;binarizer&#x27;,\n",
              "                                                  Binarizer(threshold=55),\n",
              "                                                  [3, 4, 8])])),\n",
              "                (&#x27;lasso&#x27;, Lasso())])</pre></div></div></div><div class=\"sk-serial\"><div class=\"sk-item sk-dashed-wrapped\"><div class=\"sk-label-container\"><div class=\"sk-label sk-toggleable\"><input class=\"sk-toggleable__control sk-hidden--visually\" id=\"a679d8af-df36-4a4a-990e-5b1535a9eccc\" type=\"checkbox\" ><label for=\"a679d8af-df36-4a4a-990e-5b1535a9eccc\" class=\"sk-toggleable__label sk-toggleable__label-arrow\">columntransformer: ColumnTransformer</label><div class=\"sk-toggleable__content\"><pre>ColumnTransformer(remainder=&#x27;passthrough&#x27;,\n",
              "                  transformers=[(&#x27;powertransformer&#x27;, PowerTransformer(),\n",
              "                                 [0, 1]),\n",
              "                                (&#x27;kbinsdiscretizer&#x27;, KBinsDiscretizer(), [2]),\n",
              "                                (&#x27;binarizer&#x27;, Binarizer(threshold=55),\n",
              "                                 [3, 4, 8])])</pre></div></div></div><div class=\"sk-parallel\"><div class=\"sk-parallel-item\"><div class=\"sk-item\"><div class=\"sk-label-container\"><div class=\"sk-label sk-toggleable\"><input class=\"sk-toggleable__control sk-hidden--visually\" id=\"611f34dd-c842-4ac5-9f6a-7cf14df5aac4\" type=\"checkbox\" ><label for=\"611f34dd-c842-4ac5-9f6a-7cf14df5aac4\" class=\"sk-toggleable__label sk-toggleable__label-arrow\">powertransformer</label><div class=\"sk-toggleable__content\"><pre>[0, 1]</pre></div></div></div><div class=\"sk-serial\"><div class=\"sk-item\"><div class=\"sk-estimator sk-toggleable\"><input class=\"sk-toggleable__control sk-hidden--visually\" id=\"3a1917fa-d0ca-41c1-9fb3-5f7eeb251ae6\" type=\"checkbox\" ><label for=\"3a1917fa-d0ca-41c1-9fb3-5f7eeb251ae6\" class=\"sk-toggleable__label sk-toggleable__label-arrow\">PowerTransformer</label><div class=\"sk-toggleable__content\"><pre>PowerTransformer()</pre></div></div></div></div></div></div><div class=\"sk-parallel-item\"><div class=\"sk-item\"><div class=\"sk-label-container\"><div class=\"sk-label sk-toggleable\"><input class=\"sk-toggleable__control sk-hidden--visually\" id=\"55e7c9f4-16d8-4610-97f2-3dbb85bf0cf8\" type=\"checkbox\" ><label for=\"55e7c9f4-16d8-4610-97f2-3dbb85bf0cf8\" class=\"sk-toggleable__label sk-toggleable__label-arrow\">kbinsdiscretizer</label><div class=\"sk-toggleable__content\"><pre>[2]</pre></div></div></div><div class=\"sk-serial\"><div class=\"sk-item\"><div class=\"sk-estimator sk-toggleable\"><input class=\"sk-toggleable__control sk-hidden--visually\" id=\"251174d3-ab80-423d-a4e7-9eb05a9123ea\" type=\"checkbox\" ><label for=\"251174d3-ab80-423d-a4e7-9eb05a9123ea\" class=\"sk-toggleable__label sk-toggleable__label-arrow\">KBinsDiscretizer</label><div class=\"sk-toggleable__content\"><pre>KBinsDiscretizer()</pre></div></div></div></div></div></div><div class=\"sk-parallel-item\"><div class=\"sk-item\"><div class=\"sk-label-container\"><div class=\"sk-label sk-toggleable\"><input class=\"sk-toggleable__control sk-hidden--visually\" id=\"c1009afd-4979-4e6d-bf05-59c2ec1282cf\" type=\"checkbox\" ><label for=\"c1009afd-4979-4e6d-bf05-59c2ec1282cf\" class=\"sk-toggleable__label sk-toggleable__label-arrow\">binarizer</label><div class=\"sk-toggleable__content\"><pre>[3, 4, 8]</pre></div></div></div><div class=\"sk-serial\"><div class=\"sk-item\"><div class=\"sk-estimator sk-toggleable\"><input class=\"sk-toggleable__control sk-hidden--visually\" id=\"fc80c63e-c405-401b-a955-ab38b5129103\" type=\"checkbox\" ><label for=\"fc80c63e-c405-401b-a955-ab38b5129103\" class=\"sk-toggleable__label sk-toggleable__label-arrow\">Binarizer</label><div class=\"sk-toggleable__content\"><pre>Binarizer(threshold=55)</pre></div></div></div></div></div></div><div class=\"sk-parallel-item\"><div class=\"sk-item\"><div class=\"sk-label-container\"><div class=\"sk-label sk-toggleable\"><input class=\"sk-toggleable__control sk-hidden--visually\" id=\"577c077c-679f-45a3-9278-f493ae4af62e\" type=\"checkbox\" ><label for=\"577c077c-679f-45a3-9278-f493ae4af62e\" class=\"sk-toggleable__label sk-toggleable__label-arrow\">remainder</label><div class=\"sk-toggleable__content\"><pre>[&#x27;idle_time&#x27;, &#x27;idle_men&#x27;, &#x27;no_of_style_change&#x27;]</pre></div></div></div><div class=\"sk-serial\"><div class=\"sk-item\"><div class=\"sk-estimator sk-toggleable\"><input class=\"sk-toggleable__control sk-hidden--visually\" id=\"80c6c0bf-057a-47df-961b-8ac8e46f5b74\" type=\"checkbox\" ><label for=\"80c6c0bf-057a-47df-961b-8ac8e46f5b74\" class=\"sk-toggleable__label sk-toggleable__label-arrow\">passthrough</label><div class=\"sk-toggleable__content\"><pre>passthrough</pre></div></div></div></div></div></div></div></div><div class=\"sk-item\"><div class=\"sk-estimator sk-toggleable\"><input class=\"sk-toggleable__control sk-hidden--visually\" id=\"8fe3928b-c50a-4efb-9c21-f2abc35514de\" type=\"checkbox\" ><label for=\"8fe3928b-c50a-4efb-9c21-f2abc35514de\" class=\"sk-toggleable__label sk-toggleable__label-arrow\">Lasso</label><div class=\"sk-toggleable__content\"><pre>Lasso()</pre></div></div></div></div></div></div></div>"
            ]
          },
          "metadata": {},
          "execution_count": 105
        }
      ]
    },
    {
      "cell_type": "code",
      "source": [
        "pipe_2.fit(x_train,y_train)"
      ],
      "metadata": {
        "colab": {
          "base_uri": "https://localhost:8080/",
          "height": 192
        },
        "id": "NOvPAcvb7y-t",
        "outputId": "378bb4f0-2d56-4f47-cff5-04ff351ef58d"
      },
      "execution_count": null,
      "outputs": [
        {
          "output_type": "execute_result",
          "data": {
            "text/plain": [
              "Pipeline(steps=[('columntransformer',\n",
              "                 ColumnTransformer(remainder='passthrough',\n",
              "                                   transformers=[('powertransformer',\n",
              "                                                  PowerTransformer(), [0, 1]),\n",
              "                                                 ('kbinsdiscretizer',\n",
              "                                                  KBinsDiscretizer(), [2]),\n",
              "                                                 ('binarizer',\n",
              "                                                  Binarizer(threshold=55),\n",
              "                                                  [3, 4, 8])])),\n",
              "                ('ridge', Ridge())])"
            ],
            "text/html": [
              "<style>#sk-f5d6576e-51cb-418c-b3a1-198e08b78ba5 {color: black;background-color: white;}#sk-f5d6576e-51cb-418c-b3a1-198e08b78ba5 pre{padding: 0;}#sk-f5d6576e-51cb-418c-b3a1-198e08b78ba5 div.sk-toggleable {background-color: white;}#sk-f5d6576e-51cb-418c-b3a1-198e08b78ba5 label.sk-toggleable__label {cursor: pointer;display: block;width: 100%;margin-bottom: 0;padding: 0.3em;box-sizing: border-box;text-align: center;}#sk-f5d6576e-51cb-418c-b3a1-198e08b78ba5 label.sk-toggleable__label-arrow:before {content: \"▸\";float: left;margin-right: 0.25em;color: #696969;}#sk-f5d6576e-51cb-418c-b3a1-198e08b78ba5 label.sk-toggleable__label-arrow:hover:before {color: black;}#sk-f5d6576e-51cb-418c-b3a1-198e08b78ba5 div.sk-estimator:hover label.sk-toggleable__label-arrow:before {color: black;}#sk-f5d6576e-51cb-418c-b3a1-198e08b78ba5 div.sk-toggleable__content {max-height: 0;max-width: 0;overflow: hidden;text-align: left;background-color: #f0f8ff;}#sk-f5d6576e-51cb-418c-b3a1-198e08b78ba5 div.sk-toggleable__content pre {margin: 0.2em;color: black;border-radius: 0.25em;background-color: #f0f8ff;}#sk-f5d6576e-51cb-418c-b3a1-198e08b78ba5 input.sk-toggleable__control:checked~div.sk-toggleable__content {max-height: 200px;max-width: 100%;overflow: auto;}#sk-f5d6576e-51cb-418c-b3a1-198e08b78ba5 input.sk-toggleable__control:checked~label.sk-toggleable__label-arrow:before {content: \"▾\";}#sk-f5d6576e-51cb-418c-b3a1-198e08b78ba5 div.sk-estimator input.sk-toggleable__control:checked~label.sk-toggleable__label {background-color: #d4ebff;}#sk-f5d6576e-51cb-418c-b3a1-198e08b78ba5 div.sk-label input.sk-toggleable__control:checked~label.sk-toggleable__label {background-color: #d4ebff;}#sk-f5d6576e-51cb-418c-b3a1-198e08b78ba5 input.sk-hidden--visually {border: 0;clip: rect(1px 1px 1px 1px);clip: rect(1px, 1px, 1px, 1px);height: 1px;margin: -1px;overflow: hidden;padding: 0;position: absolute;width: 1px;}#sk-f5d6576e-51cb-418c-b3a1-198e08b78ba5 div.sk-estimator {font-family: monospace;background-color: #f0f8ff;border: 1px dotted black;border-radius: 0.25em;box-sizing: border-box;margin-bottom: 0.5em;}#sk-f5d6576e-51cb-418c-b3a1-198e08b78ba5 div.sk-estimator:hover {background-color: #d4ebff;}#sk-f5d6576e-51cb-418c-b3a1-198e08b78ba5 div.sk-parallel-item::after {content: \"\";width: 100%;border-bottom: 1px solid gray;flex-grow: 1;}#sk-f5d6576e-51cb-418c-b3a1-198e08b78ba5 div.sk-label:hover label.sk-toggleable__label {background-color: #d4ebff;}#sk-f5d6576e-51cb-418c-b3a1-198e08b78ba5 div.sk-serial::before {content: \"\";position: absolute;border-left: 1px solid gray;box-sizing: border-box;top: 2em;bottom: 0;left: 50%;}#sk-f5d6576e-51cb-418c-b3a1-198e08b78ba5 div.sk-serial {display: flex;flex-direction: column;align-items: center;background-color: white;padding-right: 0.2em;padding-left: 0.2em;}#sk-f5d6576e-51cb-418c-b3a1-198e08b78ba5 div.sk-item {z-index: 1;}#sk-f5d6576e-51cb-418c-b3a1-198e08b78ba5 div.sk-parallel {display: flex;align-items: stretch;justify-content: center;background-color: white;}#sk-f5d6576e-51cb-418c-b3a1-198e08b78ba5 div.sk-parallel::before {content: \"\";position: absolute;border-left: 1px solid gray;box-sizing: border-box;top: 2em;bottom: 0;left: 50%;}#sk-f5d6576e-51cb-418c-b3a1-198e08b78ba5 div.sk-parallel-item {display: flex;flex-direction: column;position: relative;background-color: white;}#sk-f5d6576e-51cb-418c-b3a1-198e08b78ba5 div.sk-parallel-item:first-child::after {align-self: flex-end;width: 50%;}#sk-f5d6576e-51cb-418c-b3a1-198e08b78ba5 div.sk-parallel-item:last-child::after {align-self: flex-start;width: 50%;}#sk-f5d6576e-51cb-418c-b3a1-198e08b78ba5 div.sk-parallel-item:only-child::after {width: 0;}#sk-f5d6576e-51cb-418c-b3a1-198e08b78ba5 div.sk-dashed-wrapped {border: 1px dashed gray;margin: 0 0.4em 0.5em 0.4em;box-sizing: border-box;padding-bottom: 0.4em;background-color: white;position: relative;}#sk-f5d6576e-51cb-418c-b3a1-198e08b78ba5 div.sk-label label {font-family: monospace;font-weight: bold;background-color: white;display: inline-block;line-height: 1.2em;}#sk-f5d6576e-51cb-418c-b3a1-198e08b78ba5 div.sk-label-container {position: relative;z-index: 2;text-align: center;}#sk-f5d6576e-51cb-418c-b3a1-198e08b78ba5 div.sk-container {/* jupyter's `normalize.less` sets `[hidden] { display: none; }` but bootstrap.min.css set `[hidden] { display: none !important; }` so we also need the `!important` here to be able to override the default hidden behavior on the sphinx rendered scikit-learn.org. See: https://github.com/scikit-learn/scikit-learn/issues/21755 */display: inline-block !important;position: relative;}#sk-f5d6576e-51cb-418c-b3a1-198e08b78ba5 div.sk-text-repr-fallback {display: none;}</style><div id=\"sk-f5d6576e-51cb-418c-b3a1-198e08b78ba5\" class=\"sk-top-container\"><div class=\"sk-text-repr-fallback\"><pre>Pipeline(steps=[(&#x27;columntransformer&#x27;,\n",
              "                 ColumnTransformer(remainder=&#x27;passthrough&#x27;,\n",
              "                                   transformers=[(&#x27;powertransformer&#x27;,\n",
              "                                                  PowerTransformer(), [0, 1]),\n",
              "                                                 (&#x27;kbinsdiscretizer&#x27;,\n",
              "                                                  KBinsDiscretizer(), [2]),\n",
              "                                                 (&#x27;binarizer&#x27;,\n",
              "                                                  Binarizer(threshold=55),\n",
              "                                                  [3, 4, 8])])),\n",
              "                (&#x27;ridge&#x27;, Ridge())])</pre><b>Please rerun this cell to show the HTML repr or trust the notebook.</b></div><div class=\"sk-container\" hidden><div class=\"sk-item sk-dashed-wrapped\"><div class=\"sk-label-container\"><div class=\"sk-label sk-toggleable\"><input class=\"sk-toggleable__control sk-hidden--visually\" id=\"e9d4fd43-a760-4eff-a41b-13d80ebcff8a\" type=\"checkbox\" ><label for=\"e9d4fd43-a760-4eff-a41b-13d80ebcff8a\" class=\"sk-toggleable__label sk-toggleable__label-arrow\">Pipeline</label><div class=\"sk-toggleable__content\"><pre>Pipeline(steps=[(&#x27;columntransformer&#x27;,\n",
              "                 ColumnTransformer(remainder=&#x27;passthrough&#x27;,\n",
              "                                   transformers=[(&#x27;powertransformer&#x27;,\n",
              "                                                  PowerTransformer(), [0, 1]),\n",
              "                                                 (&#x27;kbinsdiscretizer&#x27;,\n",
              "                                                  KBinsDiscretizer(), [2]),\n",
              "                                                 (&#x27;binarizer&#x27;,\n",
              "                                                  Binarizer(threshold=55),\n",
              "                                                  [3, 4, 8])])),\n",
              "                (&#x27;ridge&#x27;, Ridge())])</pre></div></div></div><div class=\"sk-serial\"><div class=\"sk-item sk-dashed-wrapped\"><div class=\"sk-label-container\"><div class=\"sk-label sk-toggleable\"><input class=\"sk-toggleable__control sk-hidden--visually\" id=\"6cb6d530-f29c-48ac-9616-4e678d17b5cb\" type=\"checkbox\" ><label for=\"6cb6d530-f29c-48ac-9616-4e678d17b5cb\" class=\"sk-toggleable__label sk-toggleable__label-arrow\">columntransformer: ColumnTransformer</label><div class=\"sk-toggleable__content\"><pre>ColumnTransformer(remainder=&#x27;passthrough&#x27;,\n",
              "                  transformers=[(&#x27;powertransformer&#x27;, PowerTransformer(),\n",
              "                                 [0, 1]),\n",
              "                                (&#x27;kbinsdiscretizer&#x27;, KBinsDiscretizer(), [2]),\n",
              "                                (&#x27;binarizer&#x27;, Binarizer(threshold=55),\n",
              "                                 [3, 4, 8])])</pre></div></div></div><div class=\"sk-parallel\"><div class=\"sk-parallel-item\"><div class=\"sk-item\"><div class=\"sk-label-container\"><div class=\"sk-label sk-toggleable\"><input class=\"sk-toggleable__control sk-hidden--visually\" id=\"c47e0cf8-b7cf-4c62-9af9-2d53750a5dee\" type=\"checkbox\" ><label for=\"c47e0cf8-b7cf-4c62-9af9-2d53750a5dee\" class=\"sk-toggleable__label sk-toggleable__label-arrow\">powertransformer</label><div class=\"sk-toggleable__content\"><pre>[0, 1]</pre></div></div></div><div class=\"sk-serial\"><div class=\"sk-item\"><div class=\"sk-estimator sk-toggleable\"><input class=\"sk-toggleable__control sk-hidden--visually\" id=\"e077732c-f22f-4c63-a6ad-874f7963bfd5\" type=\"checkbox\" ><label for=\"e077732c-f22f-4c63-a6ad-874f7963bfd5\" class=\"sk-toggleable__label sk-toggleable__label-arrow\">PowerTransformer</label><div class=\"sk-toggleable__content\"><pre>PowerTransformer()</pre></div></div></div></div></div></div><div class=\"sk-parallel-item\"><div class=\"sk-item\"><div class=\"sk-label-container\"><div class=\"sk-label sk-toggleable\"><input class=\"sk-toggleable__control sk-hidden--visually\" id=\"9807c76d-1559-4845-a5ef-4e2859ef85d7\" type=\"checkbox\" ><label for=\"9807c76d-1559-4845-a5ef-4e2859ef85d7\" class=\"sk-toggleable__label sk-toggleable__label-arrow\">kbinsdiscretizer</label><div class=\"sk-toggleable__content\"><pre>[2]</pre></div></div></div><div class=\"sk-serial\"><div class=\"sk-item\"><div class=\"sk-estimator sk-toggleable\"><input class=\"sk-toggleable__control sk-hidden--visually\" id=\"2790ad94-c54d-4154-b8f8-5159aebb0ef9\" type=\"checkbox\" ><label for=\"2790ad94-c54d-4154-b8f8-5159aebb0ef9\" class=\"sk-toggleable__label sk-toggleable__label-arrow\">KBinsDiscretizer</label><div class=\"sk-toggleable__content\"><pre>KBinsDiscretizer()</pre></div></div></div></div></div></div><div class=\"sk-parallel-item\"><div class=\"sk-item\"><div class=\"sk-label-container\"><div class=\"sk-label sk-toggleable\"><input class=\"sk-toggleable__control sk-hidden--visually\" id=\"e8abd8fd-849c-4a0f-80c0-e17ca3613738\" type=\"checkbox\" ><label for=\"e8abd8fd-849c-4a0f-80c0-e17ca3613738\" class=\"sk-toggleable__label sk-toggleable__label-arrow\">binarizer</label><div class=\"sk-toggleable__content\"><pre>[3, 4, 8]</pre></div></div></div><div class=\"sk-serial\"><div class=\"sk-item\"><div class=\"sk-estimator sk-toggleable\"><input class=\"sk-toggleable__control sk-hidden--visually\" id=\"26c92c5a-c579-4c4c-b206-32a0005f5a76\" type=\"checkbox\" ><label for=\"26c92c5a-c579-4c4c-b206-32a0005f5a76\" class=\"sk-toggleable__label sk-toggleable__label-arrow\">Binarizer</label><div class=\"sk-toggleable__content\"><pre>Binarizer(threshold=55)</pre></div></div></div></div></div></div><div class=\"sk-parallel-item\"><div class=\"sk-item\"><div class=\"sk-label-container\"><div class=\"sk-label sk-toggleable\"><input class=\"sk-toggleable__control sk-hidden--visually\" id=\"919649ff-e035-4403-b7a4-1723894f9508\" type=\"checkbox\" ><label for=\"919649ff-e035-4403-b7a4-1723894f9508\" class=\"sk-toggleable__label sk-toggleable__label-arrow\">remainder</label><div class=\"sk-toggleable__content\"><pre>[&#x27;idle_time&#x27;, &#x27;idle_men&#x27;, &#x27;no_of_style_change&#x27;]</pre></div></div></div><div class=\"sk-serial\"><div class=\"sk-item\"><div class=\"sk-estimator sk-toggleable\"><input class=\"sk-toggleable__control sk-hidden--visually\" id=\"54075964-3606-44c2-82e7-2e04994cc290\" type=\"checkbox\" ><label for=\"54075964-3606-44c2-82e7-2e04994cc290\" class=\"sk-toggleable__label sk-toggleable__label-arrow\">passthrough</label><div class=\"sk-toggleable__content\"><pre>passthrough</pre></div></div></div></div></div></div></div></div><div class=\"sk-item\"><div class=\"sk-estimator sk-toggleable\"><input class=\"sk-toggleable__control sk-hidden--visually\" id=\"dc72a48a-a191-4e46-8e09-8f9481eb3ce1\" type=\"checkbox\" ><label for=\"dc72a48a-a191-4e46-8e09-8f9481eb3ce1\" class=\"sk-toggleable__label sk-toggleable__label-arrow\">Ridge</label><div class=\"sk-toggleable__content\"><pre>Ridge()</pre></div></div></div></div></div></div></div>"
            ]
          },
          "metadata": {},
          "execution_count": 106
        }
      ]
    },
    {
      "cell_type": "code",
      "source": [
        "pred = pipe.predict(x_test)\n",
        "pred"
      ],
      "metadata": {
        "id": "NAmrBBWr70Fq"
      },
      "execution_count": null,
      "outputs": []
    },
    {
      "cell_type": "code",
      "source": [
        "pred_1 = pipe_1.predict(x_test)\n",
        "pred_1"
      ],
      "metadata": {
        "id": "-7AueV9e71uM"
      },
      "execution_count": null,
      "outputs": []
    },
    {
      "cell_type": "code",
      "source": [
        "pred_2 = pipe_2.predict(x_test)\n",
        "pred_2"
      ],
      "metadata": {
        "id": "ne6apqCY71yA"
      },
      "execution_count": null,
      "outputs": []
    },
    {
      "cell_type": "code",
      "source": [
        "from sklearn.metrics import mean_squared_error\n",
        "mean_squared_error(pred,y_test)"
      ],
      "metadata": {
        "colab": {
          "base_uri": "https://localhost:8080/"
        },
        "id": "E1rtMDfA8Bhi",
        "outputId": "cfe7268e-e6f9-4b9e-a7f5-f4129907392a"
      },
      "execution_count": null,
      "outputs": [
        {
          "output_type": "execute_result",
          "data": {
            "text/plain": [
              "0.01688220612389951"
            ]
          },
          "metadata": {},
          "execution_count": 110
        }
      ]
    },
    {
      "cell_type": "code",
      "source": [
        "from sklearn.metrics import mean_squared_error\n",
        "mean_squared_error(pred_1,y_test)"
      ],
      "metadata": {
        "colab": {
          "base_uri": "https://localhost:8080/"
        },
        "id": "42Wj3A_c8D0o",
        "outputId": "7547c633-753b-452a-c72b-40e26c9a537f"
      },
      "execution_count": null,
      "outputs": [
        {
          "output_type": "execute_result",
          "data": {
            "text/plain": [
              "0.02891672182787684"
            ]
          },
          "metadata": {},
          "execution_count": 111
        }
      ]
    },
    {
      "cell_type": "code",
      "source": [
        "from sklearn.metrics import mean_squared_error\n",
        "mean_squared_error(pred_2,y_test)"
      ],
      "metadata": {
        "colab": {
          "base_uri": "https://localhost:8080/"
        },
        "id": "BoLQp_m48FL2",
        "outputId": "e1245848-8fd8-4601-a097-2510a4f3f4cf"
      },
      "execution_count": null,
      "outputs": [
        {
          "output_type": "execute_result",
          "data": {
            "text/plain": [
              "0.016894586674816515"
            ]
          },
          "metadata": {},
          "execution_count": 112
        }
      ]
    },
    {
      "cell_type": "code",
      "source": [
        "algorithm.coef_"
      ],
      "metadata": {
        "colab": {
          "base_uri": "https://localhost:8080/"
        },
        "id": "6gnqKepq8H4N",
        "outputId": "267fc279-bc38-4703-b055-bc2ee032db29"
      },
      "execution_count": null,
      "outputs": [
        {
          "output_type": "execute_result",
          "data": {
            "text/plain": [
              "array([[-0.01807182,  0.05008154, -0.03640343,  0.10532277,  0.02646881,\n",
              "        -0.02751819, -0.06786996, -0.00045843,  0.11627938,  0.05702188,\n",
              "         0.        ,  0.        ,  0.        ]])"
            ]
          },
          "metadata": {},
          "execution_count": 113
        }
      ]
    },
    {
      "cell_type": "code",
      "source": [
        "algorithm_2.coef_"
      ],
      "metadata": {
        "colab": {
          "base_uri": "https://localhost:8080/"
        },
        "id": "9Z06nnNN8U1d",
        "outputId": "9069769e-9c74-4c7f-dbe1-33e06dfafd27"
      },
      "execution_count": null,
      "outputs": [
        {
          "output_type": "execute_result",
          "data": {
            "text/plain": [
              "array([[-0.01816004,  0.05024269, -0.03730572,  0.10350256,  0.02560536,\n",
              "        -0.02586543, -0.06593677, -0.00141434,  0.11496285,  0.05431646,\n",
              "         0.        ,  0.        ,  0.        ]])"
            ]
          },
          "metadata": {},
          "execution_count": 114
        }
      ]
    },
    {
      "cell_type": "code",
      "source": [
        "algorithm.intercept_"
      ],
      "metadata": {
        "colab": {
          "base_uri": "https://localhost:8080/"
        },
        "id": "gM-qs7JZ8U4J",
        "outputId": "308f9ce9-3017-4ae4-9e35-2bbfc30b8b30"
      },
      "execution_count": null,
      "outputs": [
        {
          "output_type": "execute_result",
          "data": {
            "text/plain": [
              "array([0.67978132])"
            ]
          },
          "metadata": {},
          "execution_count": 115
        }
      ]
    },
    {
      "cell_type": "code",
      "source": [
        "algorithm_1.intercept_"
      ],
      "metadata": {
        "colab": {
          "base_uri": "https://localhost:8080/"
        },
        "id": "4uZSjs8X8U7E",
        "outputId": "47cfa769-83ef-41be-d062-e4f2d78ae50d"
      },
      "execution_count": null,
      "outputs": [
        {
          "output_type": "execute_result",
          "data": {
            "text/plain": [
              "array([0.73482536])"
            ]
          },
          "metadata": {},
          "execution_count": 116
        }
      ]
    },
    {
      "cell_type": "code",
      "source": [
        "from sklearn.tree import DecisionTreeRegressor\n",
        "from sklearn.pipeline import make_pipeline\n",
        "model_D = DecisionTreeRegressor(criterion = 'friedman_mse',max_features = 'sqrt')\n",
        "pipe_D = make_pipeline(trans,model_D)"
      ],
      "metadata": {
        "id": "qiIGm5o28gEg"
      },
      "execution_count": null,
      "outputs": []
    },
    {
      "cell_type": "code",
      "source": [
        "model_D"
      ],
      "metadata": {
        "colab": {
          "base_uri": "https://localhost:8080/",
          "height": 75
        },
        "id": "hQj1qQW28gHG",
        "outputId": "f842f9f5-fcdf-4289-8146-eca2c71c8dc2"
      },
      "execution_count": null,
      "outputs": [
        {
          "output_type": "execute_result",
          "data": {
            "text/plain": [
              "DecisionTreeRegressor(criterion='friedman_mse', max_features='sqrt')"
            ],
            "text/html": [
              "<style>#sk-ee04587f-8159-4e77-8a24-ed0a5c57fee3 {color: black;background-color: white;}#sk-ee04587f-8159-4e77-8a24-ed0a5c57fee3 pre{padding: 0;}#sk-ee04587f-8159-4e77-8a24-ed0a5c57fee3 div.sk-toggleable {background-color: white;}#sk-ee04587f-8159-4e77-8a24-ed0a5c57fee3 label.sk-toggleable__label {cursor: pointer;display: block;width: 100%;margin-bottom: 0;padding: 0.3em;box-sizing: border-box;text-align: center;}#sk-ee04587f-8159-4e77-8a24-ed0a5c57fee3 label.sk-toggleable__label-arrow:before {content: \"▸\";float: left;margin-right: 0.25em;color: #696969;}#sk-ee04587f-8159-4e77-8a24-ed0a5c57fee3 label.sk-toggleable__label-arrow:hover:before {color: black;}#sk-ee04587f-8159-4e77-8a24-ed0a5c57fee3 div.sk-estimator:hover label.sk-toggleable__label-arrow:before {color: black;}#sk-ee04587f-8159-4e77-8a24-ed0a5c57fee3 div.sk-toggleable__content {max-height: 0;max-width: 0;overflow: hidden;text-align: left;background-color: #f0f8ff;}#sk-ee04587f-8159-4e77-8a24-ed0a5c57fee3 div.sk-toggleable__content pre {margin: 0.2em;color: black;border-radius: 0.25em;background-color: #f0f8ff;}#sk-ee04587f-8159-4e77-8a24-ed0a5c57fee3 input.sk-toggleable__control:checked~div.sk-toggleable__content {max-height: 200px;max-width: 100%;overflow: auto;}#sk-ee04587f-8159-4e77-8a24-ed0a5c57fee3 input.sk-toggleable__control:checked~label.sk-toggleable__label-arrow:before {content: \"▾\";}#sk-ee04587f-8159-4e77-8a24-ed0a5c57fee3 div.sk-estimator input.sk-toggleable__control:checked~label.sk-toggleable__label {background-color: #d4ebff;}#sk-ee04587f-8159-4e77-8a24-ed0a5c57fee3 div.sk-label input.sk-toggleable__control:checked~label.sk-toggleable__label {background-color: #d4ebff;}#sk-ee04587f-8159-4e77-8a24-ed0a5c57fee3 input.sk-hidden--visually {border: 0;clip: rect(1px 1px 1px 1px);clip: rect(1px, 1px, 1px, 1px);height: 1px;margin: -1px;overflow: hidden;padding: 0;position: absolute;width: 1px;}#sk-ee04587f-8159-4e77-8a24-ed0a5c57fee3 div.sk-estimator {font-family: monospace;background-color: #f0f8ff;border: 1px dotted black;border-radius: 0.25em;box-sizing: border-box;margin-bottom: 0.5em;}#sk-ee04587f-8159-4e77-8a24-ed0a5c57fee3 div.sk-estimator:hover {background-color: #d4ebff;}#sk-ee04587f-8159-4e77-8a24-ed0a5c57fee3 div.sk-parallel-item::after {content: \"\";width: 100%;border-bottom: 1px solid gray;flex-grow: 1;}#sk-ee04587f-8159-4e77-8a24-ed0a5c57fee3 div.sk-label:hover label.sk-toggleable__label {background-color: #d4ebff;}#sk-ee04587f-8159-4e77-8a24-ed0a5c57fee3 div.sk-serial::before {content: \"\";position: absolute;border-left: 1px solid gray;box-sizing: border-box;top: 2em;bottom: 0;left: 50%;}#sk-ee04587f-8159-4e77-8a24-ed0a5c57fee3 div.sk-serial {display: flex;flex-direction: column;align-items: center;background-color: white;padding-right: 0.2em;padding-left: 0.2em;}#sk-ee04587f-8159-4e77-8a24-ed0a5c57fee3 div.sk-item {z-index: 1;}#sk-ee04587f-8159-4e77-8a24-ed0a5c57fee3 div.sk-parallel {display: flex;align-items: stretch;justify-content: center;background-color: white;}#sk-ee04587f-8159-4e77-8a24-ed0a5c57fee3 div.sk-parallel::before {content: \"\";position: absolute;border-left: 1px solid gray;box-sizing: border-box;top: 2em;bottom: 0;left: 50%;}#sk-ee04587f-8159-4e77-8a24-ed0a5c57fee3 div.sk-parallel-item {display: flex;flex-direction: column;position: relative;background-color: white;}#sk-ee04587f-8159-4e77-8a24-ed0a5c57fee3 div.sk-parallel-item:first-child::after {align-self: flex-end;width: 50%;}#sk-ee04587f-8159-4e77-8a24-ed0a5c57fee3 div.sk-parallel-item:last-child::after {align-self: flex-start;width: 50%;}#sk-ee04587f-8159-4e77-8a24-ed0a5c57fee3 div.sk-parallel-item:only-child::after {width: 0;}#sk-ee04587f-8159-4e77-8a24-ed0a5c57fee3 div.sk-dashed-wrapped {border: 1px dashed gray;margin: 0 0.4em 0.5em 0.4em;box-sizing: border-box;padding-bottom: 0.4em;background-color: white;position: relative;}#sk-ee04587f-8159-4e77-8a24-ed0a5c57fee3 div.sk-label label {font-family: monospace;font-weight: bold;background-color: white;display: inline-block;line-height: 1.2em;}#sk-ee04587f-8159-4e77-8a24-ed0a5c57fee3 div.sk-label-container {position: relative;z-index: 2;text-align: center;}#sk-ee04587f-8159-4e77-8a24-ed0a5c57fee3 div.sk-container {/* jupyter's `normalize.less` sets `[hidden] { display: none; }` but bootstrap.min.css set `[hidden] { display: none !important; }` so we also need the `!important` here to be able to override the default hidden behavior on the sphinx rendered scikit-learn.org. See: https://github.com/scikit-learn/scikit-learn/issues/21755 */display: inline-block !important;position: relative;}#sk-ee04587f-8159-4e77-8a24-ed0a5c57fee3 div.sk-text-repr-fallback {display: none;}</style><div id=\"sk-ee04587f-8159-4e77-8a24-ed0a5c57fee3\" class=\"sk-top-container\"><div class=\"sk-text-repr-fallback\"><pre>DecisionTreeRegressor(criterion=&#x27;friedman_mse&#x27;, max_features=&#x27;sqrt&#x27;)</pre><b>Please rerun this cell to show the HTML repr or trust the notebook.</b></div><div class=\"sk-container\" hidden><div class=\"sk-item\"><div class=\"sk-estimator sk-toggleable\"><input class=\"sk-toggleable__control sk-hidden--visually\" id=\"d29e3857-8819-469e-9348-17c5158d0813\" type=\"checkbox\" checked><label for=\"d29e3857-8819-469e-9348-17c5158d0813\" class=\"sk-toggleable__label sk-toggleable__label-arrow\">DecisionTreeRegressor</label><div class=\"sk-toggleable__content\"><pre>DecisionTreeRegressor(criterion=&#x27;friedman_mse&#x27;, max_features=&#x27;sqrt&#x27;)</pre></div></div></div></div></div>"
            ]
          },
          "metadata": {},
          "execution_count": 118
        }
      ]
    },
    {
      "cell_type": "code",
      "source": [
        "pipe_D.fit(x_train,y_train)"
      ],
      "metadata": {
        "colab": {
          "base_uri": "https://localhost:8080/",
          "height": 192
        },
        "id": "mscnqwLG8gJs",
        "outputId": "5f2aa1ac-c799-4b8d-cf34-6cc70cb6b1c5"
      },
      "execution_count": null,
      "outputs": [
        {
          "output_type": "execute_result",
          "data": {
            "text/plain": [
              "Pipeline(steps=[('columntransformer',\n",
              "                 ColumnTransformer(remainder='passthrough',\n",
              "                                   transformers=[('powertransformer',\n",
              "                                                  PowerTransformer(), [0, 1]),\n",
              "                                                 ('kbinsdiscretizer',\n",
              "                                                  KBinsDiscretizer(), [2]),\n",
              "                                                 ('binarizer',\n",
              "                                                  Binarizer(threshold=55),\n",
              "                                                  [3, 4, 8])])),\n",
              "                ('decisiontreeregressor',\n",
              "                 DecisionTreeRegressor(criterion='friedman_mse',\n",
              "                                       max_features='sqrt'))])"
            ],
            "text/html": [
              "<style>#sk-8cda1188-4e29-4e85-a3cf-e6be4ae6b297 {color: black;background-color: white;}#sk-8cda1188-4e29-4e85-a3cf-e6be4ae6b297 pre{padding: 0;}#sk-8cda1188-4e29-4e85-a3cf-e6be4ae6b297 div.sk-toggleable {background-color: white;}#sk-8cda1188-4e29-4e85-a3cf-e6be4ae6b297 label.sk-toggleable__label {cursor: pointer;display: block;width: 100%;margin-bottom: 0;padding: 0.3em;box-sizing: border-box;text-align: center;}#sk-8cda1188-4e29-4e85-a3cf-e6be4ae6b297 label.sk-toggleable__label-arrow:before {content: \"▸\";float: left;margin-right: 0.25em;color: #696969;}#sk-8cda1188-4e29-4e85-a3cf-e6be4ae6b297 label.sk-toggleable__label-arrow:hover:before {color: black;}#sk-8cda1188-4e29-4e85-a3cf-e6be4ae6b297 div.sk-estimator:hover label.sk-toggleable__label-arrow:before {color: black;}#sk-8cda1188-4e29-4e85-a3cf-e6be4ae6b297 div.sk-toggleable__content {max-height: 0;max-width: 0;overflow: hidden;text-align: left;background-color: #f0f8ff;}#sk-8cda1188-4e29-4e85-a3cf-e6be4ae6b297 div.sk-toggleable__content pre {margin: 0.2em;color: black;border-radius: 0.25em;background-color: #f0f8ff;}#sk-8cda1188-4e29-4e85-a3cf-e6be4ae6b297 input.sk-toggleable__control:checked~div.sk-toggleable__content {max-height: 200px;max-width: 100%;overflow: auto;}#sk-8cda1188-4e29-4e85-a3cf-e6be4ae6b297 input.sk-toggleable__control:checked~label.sk-toggleable__label-arrow:before {content: \"▾\";}#sk-8cda1188-4e29-4e85-a3cf-e6be4ae6b297 div.sk-estimator input.sk-toggleable__control:checked~label.sk-toggleable__label {background-color: #d4ebff;}#sk-8cda1188-4e29-4e85-a3cf-e6be4ae6b297 div.sk-label input.sk-toggleable__control:checked~label.sk-toggleable__label {background-color: #d4ebff;}#sk-8cda1188-4e29-4e85-a3cf-e6be4ae6b297 input.sk-hidden--visually {border: 0;clip: rect(1px 1px 1px 1px);clip: rect(1px, 1px, 1px, 1px);height: 1px;margin: -1px;overflow: hidden;padding: 0;position: absolute;width: 1px;}#sk-8cda1188-4e29-4e85-a3cf-e6be4ae6b297 div.sk-estimator {font-family: monospace;background-color: #f0f8ff;border: 1px dotted black;border-radius: 0.25em;box-sizing: border-box;margin-bottom: 0.5em;}#sk-8cda1188-4e29-4e85-a3cf-e6be4ae6b297 div.sk-estimator:hover {background-color: #d4ebff;}#sk-8cda1188-4e29-4e85-a3cf-e6be4ae6b297 div.sk-parallel-item::after {content: \"\";width: 100%;border-bottom: 1px solid gray;flex-grow: 1;}#sk-8cda1188-4e29-4e85-a3cf-e6be4ae6b297 div.sk-label:hover label.sk-toggleable__label {background-color: #d4ebff;}#sk-8cda1188-4e29-4e85-a3cf-e6be4ae6b297 div.sk-serial::before {content: \"\";position: absolute;border-left: 1px solid gray;box-sizing: border-box;top: 2em;bottom: 0;left: 50%;}#sk-8cda1188-4e29-4e85-a3cf-e6be4ae6b297 div.sk-serial {display: flex;flex-direction: column;align-items: center;background-color: white;padding-right: 0.2em;padding-left: 0.2em;}#sk-8cda1188-4e29-4e85-a3cf-e6be4ae6b297 div.sk-item {z-index: 1;}#sk-8cda1188-4e29-4e85-a3cf-e6be4ae6b297 div.sk-parallel {display: flex;align-items: stretch;justify-content: center;background-color: white;}#sk-8cda1188-4e29-4e85-a3cf-e6be4ae6b297 div.sk-parallel::before {content: \"\";position: absolute;border-left: 1px solid gray;box-sizing: border-box;top: 2em;bottom: 0;left: 50%;}#sk-8cda1188-4e29-4e85-a3cf-e6be4ae6b297 div.sk-parallel-item {display: flex;flex-direction: column;position: relative;background-color: white;}#sk-8cda1188-4e29-4e85-a3cf-e6be4ae6b297 div.sk-parallel-item:first-child::after {align-self: flex-end;width: 50%;}#sk-8cda1188-4e29-4e85-a3cf-e6be4ae6b297 div.sk-parallel-item:last-child::after {align-self: flex-start;width: 50%;}#sk-8cda1188-4e29-4e85-a3cf-e6be4ae6b297 div.sk-parallel-item:only-child::after {width: 0;}#sk-8cda1188-4e29-4e85-a3cf-e6be4ae6b297 div.sk-dashed-wrapped {border: 1px dashed gray;margin: 0 0.4em 0.5em 0.4em;box-sizing: border-box;padding-bottom: 0.4em;background-color: white;position: relative;}#sk-8cda1188-4e29-4e85-a3cf-e6be4ae6b297 div.sk-label label {font-family: monospace;font-weight: bold;background-color: white;display: inline-block;line-height: 1.2em;}#sk-8cda1188-4e29-4e85-a3cf-e6be4ae6b297 div.sk-label-container {position: relative;z-index: 2;text-align: center;}#sk-8cda1188-4e29-4e85-a3cf-e6be4ae6b297 div.sk-container {/* jupyter's `normalize.less` sets `[hidden] { display: none; }` but bootstrap.min.css set `[hidden] { display: none !important; }` so we also need the `!important` here to be able to override the default hidden behavior on the sphinx rendered scikit-learn.org. See: https://github.com/scikit-learn/scikit-learn/issues/21755 */display: inline-block !important;position: relative;}#sk-8cda1188-4e29-4e85-a3cf-e6be4ae6b297 div.sk-text-repr-fallback {display: none;}</style><div id=\"sk-8cda1188-4e29-4e85-a3cf-e6be4ae6b297\" class=\"sk-top-container\"><div class=\"sk-text-repr-fallback\"><pre>Pipeline(steps=[(&#x27;columntransformer&#x27;,\n",
              "                 ColumnTransformer(remainder=&#x27;passthrough&#x27;,\n",
              "                                   transformers=[(&#x27;powertransformer&#x27;,\n",
              "                                                  PowerTransformer(), [0, 1]),\n",
              "                                                 (&#x27;kbinsdiscretizer&#x27;,\n",
              "                                                  KBinsDiscretizer(), [2]),\n",
              "                                                 (&#x27;binarizer&#x27;,\n",
              "                                                  Binarizer(threshold=55),\n",
              "                                                  [3, 4, 8])])),\n",
              "                (&#x27;decisiontreeregressor&#x27;,\n",
              "                 DecisionTreeRegressor(criterion=&#x27;friedman_mse&#x27;,\n",
              "                                       max_features=&#x27;sqrt&#x27;))])</pre><b>Please rerun this cell to show the HTML repr or trust the notebook.</b></div><div class=\"sk-container\" hidden><div class=\"sk-item sk-dashed-wrapped\"><div class=\"sk-label-container\"><div class=\"sk-label sk-toggleable\"><input class=\"sk-toggleable__control sk-hidden--visually\" id=\"f89cdc37-bcba-43d5-ae01-46e0859a8a77\" type=\"checkbox\" ><label for=\"f89cdc37-bcba-43d5-ae01-46e0859a8a77\" class=\"sk-toggleable__label sk-toggleable__label-arrow\">Pipeline</label><div class=\"sk-toggleable__content\"><pre>Pipeline(steps=[(&#x27;columntransformer&#x27;,\n",
              "                 ColumnTransformer(remainder=&#x27;passthrough&#x27;,\n",
              "                                   transformers=[(&#x27;powertransformer&#x27;,\n",
              "                                                  PowerTransformer(), [0, 1]),\n",
              "                                                 (&#x27;kbinsdiscretizer&#x27;,\n",
              "                                                  KBinsDiscretizer(), [2]),\n",
              "                                                 (&#x27;binarizer&#x27;,\n",
              "                                                  Binarizer(threshold=55),\n",
              "                                                  [3, 4, 8])])),\n",
              "                (&#x27;decisiontreeregressor&#x27;,\n",
              "                 DecisionTreeRegressor(criterion=&#x27;friedman_mse&#x27;,\n",
              "                                       max_features=&#x27;sqrt&#x27;))])</pre></div></div></div><div class=\"sk-serial\"><div class=\"sk-item sk-dashed-wrapped\"><div class=\"sk-label-container\"><div class=\"sk-label sk-toggleable\"><input class=\"sk-toggleable__control sk-hidden--visually\" id=\"8d176753-6854-40d7-901a-bc1afff8c425\" type=\"checkbox\" ><label for=\"8d176753-6854-40d7-901a-bc1afff8c425\" class=\"sk-toggleable__label sk-toggleable__label-arrow\">columntransformer: ColumnTransformer</label><div class=\"sk-toggleable__content\"><pre>ColumnTransformer(remainder=&#x27;passthrough&#x27;,\n",
              "                  transformers=[(&#x27;powertransformer&#x27;, PowerTransformer(),\n",
              "                                 [0, 1]),\n",
              "                                (&#x27;kbinsdiscretizer&#x27;, KBinsDiscretizer(), [2]),\n",
              "                                (&#x27;binarizer&#x27;, Binarizer(threshold=55),\n",
              "                                 [3, 4, 8])])</pre></div></div></div><div class=\"sk-parallel\"><div class=\"sk-parallel-item\"><div class=\"sk-item\"><div class=\"sk-label-container\"><div class=\"sk-label sk-toggleable\"><input class=\"sk-toggleable__control sk-hidden--visually\" id=\"8d180bb9-2f28-42d3-8b16-a6fe28d04016\" type=\"checkbox\" ><label for=\"8d180bb9-2f28-42d3-8b16-a6fe28d04016\" class=\"sk-toggleable__label sk-toggleable__label-arrow\">powertransformer</label><div class=\"sk-toggleable__content\"><pre>[0, 1]</pre></div></div></div><div class=\"sk-serial\"><div class=\"sk-item\"><div class=\"sk-estimator sk-toggleable\"><input class=\"sk-toggleable__control sk-hidden--visually\" id=\"dcf71178-af76-4362-a82e-712e79296e10\" type=\"checkbox\" ><label for=\"dcf71178-af76-4362-a82e-712e79296e10\" class=\"sk-toggleable__label sk-toggleable__label-arrow\">PowerTransformer</label><div class=\"sk-toggleable__content\"><pre>PowerTransformer()</pre></div></div></div></div></div></div><div class=\"sk-parallel-item\"><div class=\"sk-item\"><div class=\"sk-label-container\"><div class=\"sk-label sk-toggleable\"><input class=\"sk-toggleable__control sk-hidden--visually\" id=\"9866cf82-fa74-444f-9db8-850c0464cb60\" type=\"checkbox\" ><label for=\"9866cf82-fa74-444f-9db8-850c0464cb60\" class=\"sk-toggleable__label sk-toggleable__label-arrow\">kbinsdiscretizer</label><div class=\"sk-toggleable__content\"><pre>[2]</pre></div></div></div><div class=\"sk-serial\"><div class=\"sk-item\"><div class=\"sk-estimator sk-toggleable\"><input class=\"sk-toggleable__control sk-hidden--visually\" id=\"ac261752-aaf5-44e8-a932-e6200a668441\" type=\"checkbox\" ><label for=\"ac261752-aaf5-44e8-a932-e6200a668441\" class=\"sk-toggleable__label sk-toggleable__label-arrow\">KBinsDiscretizer</label><div class=\"sk-toggleable__content\"><pre>KBinsDiscretizer()</pre></div></div></div></div></div></div><div class=\"sk-parallel-item\"><div class=\"sk-item\"><div class=\"sk-label-container\"><div class=\"sk-label sk-toggleable\"><input class=\"sk-toggleable__control sk-hidden--visually\" id=\"bea50b11-64f9-41fe-88fc-591355893ed9\" type=\"checkbox\" ><label for=\"bea50b11-64f9-41fe-88fc-591355893ed9\" class=\"sk-toggleable__label sk-toggleable__label-arrow\">binarizer</label><div class=\"sk-toggleable__content\"><pre>[3, 4, 8]</pre></div></div></div><div class=\"sk-serial\"><div class=\"sk-item\"><div class=\"sk-estimator sk-toggleable\"><input class=\"sk-toggleable__control sk-hidden--visually\" id=\"4da75c5e-5338-4445-a408-b209e18792f4\" type=\"checkbox\" ><label for=\"4da75c5e-5338-4445-a408-b209e18792f4\" class=\"sk-toggleable__label sk-toggleable__label-arrow\">Binarizer</label><div class=\"sk-toggleable__content\"><pre>Binarizer(threshold=55)</pre></div></div></div></div></div></div><div class=\"sk-parallel-item\"><div class=\"sk-item\"><div class=\"sk-label-container\"><div class=\"sk-label sk-toggleable\"><input class=\"sk-toggleable__control sk-hidden--visually\" id=\"cc3c3490-0ac0-46e1-81d4-a57bb387af75\" type=\"checkbox\" ><label for=\"cc3c3490-0ac0-46e1-81d4-a57bb387af75\" class=\"sk-toggleable__label sk-toggleable__label-arrow\">remainder</label><div class=\"sk-toggleable__content\"><pre>[&#x27;idle_time&#x27;, &#x27;idle_men&#x27;, &#x27;no_of_style_change&#x27;]</pre></div></div></div><div class=\"sk-serial\"><div class=\"sk-item\"><div class=\"sk-estimator sk-toggleable\"><input class=\"sk-toggleable__control sk-hidden--visually\" id=\"ae1dc8ad-50d6-4637-9e6e-bf98d3224237\" type=\"checkbox\" ><label for=\"ae1dc8ad-50d6-4637-9e6e-bf98d3224237\" class=\"sk-toggleable__label sk-toggleable__label-arrow\">passthrough</label><div class=\"sk-toggleable__content\"><pre>passthrough</pre></div></div></div></div></div></div></div></div><div class=\"sk-item\"><div class=\"sk-estimator sk-toggleable\"><input class=\"sk-toggleable__control sk-hidden--visually\" id=\"b54d8387-5d4f-4f54-a2a8-bcb8ba044d6a\" type=\"checkbox\" ><label for=\"b54d8387-5d4f-4f54-a2a8-bcb8ba044d6a\" class=\"sk-toggleable__label sk-toggleable__label-arrow\">DecisionTreeRegressor</label><div class=\"sk-toggleable__content\"><pre>DecisionTreeRegressor(criterion=&#x27;friedman_mse&#x27;, max_features=&#x27;sqrt&#x27;)</pre></div></div></div></div></div></div></div>"
            ]
          },
          "metadata": {},
          "execution_count": 119
        }
      ]
    },
    {
      "cell_type": "code",
      "source": [
        "pred_D = pipe_D.predict(x_test)"
      ],
      "metadata": {
        "id": "ACW2-35L8leY"
      },
      "execution_count": null,
      "outputs": []
    },
    {
      "cell_type": "code",
      "source": [
        "from sklearn.metrics import mean_squared_error\n",
        "mean_squared_error(pred_D,y_test)"
      ],
      "metadata": {
        "colab": {
          "base_uri": "https://localhost:8080/"
        },
        "id": "6xKHQI8K8lgr",
        "outputId": "56cd1b11-7722-4551-e95e-997e9505dc43"
      },
      "execution_count": null,
      "outputs": [
        {
          "output_type": "execute_result",
          "data": {
            "text/plain": [
              "0.01908194590675299"
            ]
          },
          "metadata": {},
          "execution_count": 121
        }
      ]
    },
    {
      "cell_type": "code",
      "source": [
        "from sklearn.svm import SVR\n",
        "from sklearn.linear_model import LinearRegression\n",
        "from sklearn.tree import DecisionTreeRegressor\n",
        "from sklearn.ensemble import VotingRegressor\n",
        "algorithm4 = DecisionTreeRegressor()\n",
        "algorithm5 = SVR()\n",
        "algorithm6 = LinearRegression()\n",
        "model_v = VotingRegressor(estimators = [('x4',algorithm4),('x5',algorithm5),('x6',algorithm6)],verbose = True)\n",
        "model_v"
      ],
      "metadata": {
        "colab": {
          "base_uri": "https://localhost:8080/",
          "height": 110
        },
        "id": "-7qMTzu88u8X",
        "outputId": "a83e3a47-71cc-46cf-da5d-3642b1a8b555"
      },
      "execution_count": null,
      "outputs": [
        {
          "output_type": "execute_result",
          "data": {
            "text/plain": [
              "VotingRegressor(estimators=[('x4', DecisionTreeRegressor()), ('x5', SVR()),\n",
              "                            ('x6', LinearRegression())],\n",
              "                verbose=True)"
            ],
            "text/html": [
              "<style>#sk-e3bb64ca-90f6-45c0-82a0-5bc1ba33121a {color: black;background-color: white;}#sk-e3bb64ca-90f6-45c0-82a0-5bc1ba33121a pre{padding: 0;}#sk-e3bb64ca-90f6-45c0-82a0-5bc1ba33121a div.sk-toggleable {background-color: white;}#sk-e3bb64ca-90f6-45c0-82a0-5bc1ba33121a label.sk-toggleable__label {cursor: pointer;display: block;width: 100%;margin-bottom: 0;padding: 0.3em;box-sizing: border-box;text-align: center;}#sk-e3bb64ca-90f6-45c0-82a0-5bc1ba33121a label.sk-toggleable__label-arrow:before {content: \"▸\";float: left;margin-right: 0.25em;color: #696969;}#sk-e3bb64ca-90f6-45c0-82a0-5bc1ba33121a label.sk-toggleable__label-arrow:hover:before {color: black;}#sk-e3bb64ca-90f6-45c0-82a0-5bc1ba33121a div.sk-estimator:hover label.sk-toggleable__label-arrow:before {color: black;}#sk-e3bb64ca-90f6-45c0-82a0-5bc1ba33121a div.sk-toggleable__content {max-height: 0;max-width: 0;overflow: hidden;text-align: left;background-color: #f0f8ff;}#sk-e3bb64ca-90f6-45c0-82a0-5bc1ba33121a div.sk-toggleable__content pre {margin: 0.2em;color: black;border-radius: 0.25em;background-color: #f0f8ff;}#sk-e3bb64ca-90f6-45c0-82a0-5bc1ba33121a input.sk-toggleable__control:checked~div.sk-toggleable__content {max-height: 200px;max-width: 100%;overflow: auto;}#sk-e3bb64ca-90f6-45c0-82a0-5bc1ba33121a input.sk-toggleable__control:checked~label.sk-toggleable__label-arrow:before {content: \"▾\";}#sk-e3bb64ca-90f6-45c0-82a0-5bc1ba33121a div.sk-estimator input.sk-toggleable__control:checked~label.sk-toggleable__label {background-color: #d4ebff;}#sk-e3bb64ca-90f6-45c0-82a0-5bc1ba33121a div.sk-label input.sk-toggleable__control:checked~label.sk-toggleable__label {background-color: #d4ebff;}#sk-e3bb64ca-90f6-45c0-82a0-5bc1ba33121a input.sk-hidden--visually {border: 0;clip: rect(1px 1px 1px 1px);clip: rect(1px, 1px, 1px, 1px);height: 1px;margin: -1px;overflow: hidden;padding: 0;position: absolute;width: 1px;}#sk-e3bb64ca-90f6-45c0-82a0-5bc1ba33121a div.sk-estimator {font-family: monospace;background-color: #f0f8ff;border: 1px dotted black;border-radius: 0.25em;box-sizing: border-box;margin-bottom: 0.5em;}#sk-e3bb64ca-90f6-45c0-82a0-5bc1ba33121a div.sk-estimator:hover {background-color: #d4ebff;}#sk-e3bb64ca-90f6-45c0-82a0-5bc1ba33121a div.sk-parallel-item::after {content: \"\";width: 100%;border-bottom: 1px solid gray;flex-grow: 1;}#sk-e3bb64ca-90f6-45c0-82a0-5bc1ba33121a div.sk-label:hover label.sk-toggleable__label {background-color: #d4ebff;}#sk-e3bb64ca-90f6-45c0-82a0-5bc1ba33121a div.sk-serial::before {content: \"\";position: absolute;border-left: 1px solid gray;box-sizing: border-box;top: 2em;bottom: 0;left: 50%;}#sk-e3bb64ca-90f6-45c0-82a0-5bc1ba33121a div.sk-serial {display: flex;flex-direction: column;align-items: center;background-color: white;padding-right: 0.2em;padding-left: 0.2em;}#sk-e3bb64ca-90f6-45c0-82a0-5bc1ba33121a div.sk-item {z-index: 1;}#sk-e3bb64ca-90f6-45c0-82a0-5bc1ba33121a div.sk-parallel {display: flex;align-items: stretch;justify-content: center;background-color: white;}#sk-e3bb64ca-90f6-45c0-82a0-5bc1ba33121a div.sk-parallel::before {content: \"\";position: absolute;border-left: 1px solid gray;box-sizing: border-box;top: 2em;bottom: 0;left: 50%;}#sk-e3bb64ca-90f6-45c0-82a0-5bc1ba33121a div.sk-parallel-item {display: flex;flex-direction: column;position: relative;background-color: white;}#sk-e3bb64ca-90f6-45c0-82a0-5bc1ba33121a div.sk-parallel-item:first-child::after {align-self: flex-end;width: 50%;}#sk-e3bb64ca-90f6-45c0-82a0-5bc1ba33121a div.sk-parallel-item:last-child::after {align-self: flex-start;width: 50%;}#sk-e3bb64ca-90f6-45c0-82a0-5bc1ba33121a div.sk-parallel-item:only-child::after {width: 0;}#sk-e3bb64ca-90f6-45c0-82a0-5bc1ba33121a div.sk-dashed-wrapped {border: 1px dashed gray;margin: 0 0.4em 0.5em 0.4em;box-sizing: border-box;padding-bottom: 0.4em;background-color: white;position: relative;}#sk-e3bb64ca-90f6-45c0-82a0-5bc1ba33121a div.sk-label label {font-family: monospace;font-weight: bold;background-color: white;display: inline-block;line-height: 1.2em;}#sk-e3bb64ca-90f6-45c0-82a0-5bc1ba33121a div.sk-label-container {position: relative;z-index: 2;text-align: center;}#sk-e3bb64ca-90f6-45c0-82a0-5bc1ba33121a div.sk-container {/* jupyter's `normalize.less` sets `[hidden] { display: none; }` but bootstrap.min.css set `[hidden] { display: none !important; }` so we also need the `!important` here to be able to override the default hidden behavior on the sphinx rendered scikit-learn.org. See: https://github.com/scikit-learn/scikit-learn/issues/21755 */display: inline-block !important;position: relative;}#sk-e3bb64ca-90f6-45c0-82a0-5bc1ba33121a div.sk-text-repr-fallback {display: none;}</style><div id=\"sk-e3bb64ca-90f6-45c0-82a0-5bc1ba33121a\" class=\"sk-top-container\"><div class=\"sk-text-repr-fallback\"><pre>VotingRegressor(estimators=[(&#x27;x4&#x27;, DecisionTreeRegressor()), (&#x27;x5&#x27;, SVR()),\n",
              "                            (&#x27;x6&#x27;, LinearRegression())],\n",
              "                verbose=True)</pre><b>Please rerun this cell to show the HTML repr or trust the notebook.</b></div><div class=\"sk-container\" hidden><div class=\"sk-item sk-dashed-wrapped\"><div class=\"sk-label-container\"><div class=\"sk-label sk-toggleable\"><input class=\"sk-toggleable__control sk-hidden--visually\" id=\"28403075-77ef-423d-8ea9-8bb03b5b99a7\" type=\"checkbox\" ><label for=\"28403075-77ef-423d-8ea9-8bb03b5b99a7\" class=\"sk-toggleable__label sk-toggleable__label-arrow\">VotingRegressor</label><div class=\"sk-toggleable__content\"><pre>VotingRegressor(estimators=[(&#x27;x4&#x27;, DecisionTreeRegressor()), (&#x27;x5&#x27;, SVR()),\n",
              "                            (&#x27;x6&#x27;, LinearRegression())],\n",
              "                verbose=True)</pre></div></div></div><div class=\"sk-parallel\"><div class=\"sk-parallel-item\"><div class=\"sk-item\"><div class=\"sk-label-container\"><div class=\"sk-label sk-toggleable\"><label>x4</label></div></div><div class=\"sk-serial\"><div class=\"sk-item\"><div class=\"sk-estimator sk-toggleable\"><input class=\"sk-toggleable__control sk-hidden--visually\" id=\"b0241d07-8c37-4cec-886a-c0669cc14543\" type=\"checkbox\" ><label for=\"b0241d07-8c37-4cec-886a-c0669cc14543\" class=\"sk-toggleable__label sk-toggleable__label-arrow\">DecisionTreeRegressor</label><div class=\"sk-toggleable__content\"><pre>DecisionTreeRegressor()</pre></div></div></div></div></div></div><div class=\"sk-parallel-item\"><div class=\"sk-item\"><div class=\"sk-label-container\"><div class=\"sk-label sk-toggleable\"><label>x5</label></div></div><div class=\"sk-serial\"><div class=\"sk-item\"><div class=\"sk-estimator sk-toggleable\"><input class=\"sk-toggleable__control sk-hidden--visually\" id=\"76288b24-657b-4e6a-909d-db879ac0a500\" type=\"checkbox\" ><label for=\"76288b24-657b-4e6a-909d-db879ac0a500\" class=\"sk-toggleable__label sk-toggleable__label-arrow\">SVR</label><div class=\"sk-toggleable__content\"><pre>SVR()</pre></div></div></div></div></div></div><div class=\"sk-parallel-item\"><div class=\"sk-item\"><div class=\"sk-label-container\"><div class=\"sk-label sk-toggleable\"><label>x6</label></div></div><div class=\"sk-serial\"><div class=\"sk-item\"><div class=\"sk-estimator sk-toggleable\"><input class=\"sk-toggleable__control sk-hidden--visually\" id=\"855e7a49-3374-4da0-b727-e9c8e810aa95\" type=\"checkbox\" ><label for=\"855e7a49-3374-4da0-b727-e9c8e810aa95\" class=\"sk-toggleable__label sk-toggleable__label-arrow\">LinearRegression</label><div class=\"sk-toggleable__content\"><pre>LinearRegression()</pre></div></div></div></div></div></div></div></div></div></div>"
            ]
          },
          "metadata": {},
          "execution_count": 122
        }
      ]
    },
    {
      "cell_type": "code",
      "source": [
        "from sklearn.pipeline import make_pipeline\n",
        "pipe_v = make_pipeline(trans,model_v)\n",
        "pipe_v"
      ],
      "metadata": {
        "colab": {
          "base_uri": "https://localhost:8080/",
          "height": 250
        },
        "id": "NxCjNwuO8u-6",
        "outputId": "6711cddb-b88c-4eb9-9523-ba49c76d9d80"
      },
      "execution_count": null,
      "outputs": [
        {
          "output_type": "execute_result",
          "data": {
            "text/plain": [
              "Pipeline(steps=[('columntransformer',\n",
              "                 ColumnTransformer(remainder='passthrough',\n",
              "                                   transformers=[('powertransformer',\n",
              "                                                  PowerTransformer(), [0, 1]),\n",
              "                                                 ('kbinsdiscretizer',\n",
              "                                                  KBinsDiscretizer(), [2]),\n",
              "                                                 ('binarizer',\n",
              "                                                  Binarizer(threshold=55),\n",
              "                                                  [3, 4, 8])])),\n",
              "                ('votingregressor',\n",
              "                 VotingRegressor(estimators=[('x4', DecisionTreeRegressor()),\n",
              "                                             ('x5', SVR()),\n",
              "                                             ('x6', LinearRegression())],\n",
              "                                 verbose=True))])"
            ],
            "text/html": [
              "<style>#sk-5158c7ca-8b55-44f4-9361-0297a54f4644 {color: black;background-color: white;}#sk-5158c7ca-8b55-44f4-9361-0297a54f4644 pre{padding: 0;}#sk-5158c7ca-8b55-44f4-9361-0297a54f4644 div.sk-toggleable {background-color: white;}#sk-5158c7ca-8b55-44f4-9361-0297a54f4644 label.sk-toggleable__label {cursor: pointer;display: block;width: 100%;margin-bottom: 0;padding: 0.3em;box-sizing: border-box;text-align: center;}#sk-5158c7ca-8b55-44f4-9361-0297a54f4644 label.sk-toggleable__label-arrow:before {content: \"▸\";float: left;margin-right: 0.25em;color: #696969;}#sk-5158c7ca-8b55-44f4-9361-0297a54f4644 label.sk-toggleable__label-arrow:hover:before {color: black;}#sk-5158c7ca-8b55-44f4-9361-0297a54f4644 div.sk-estimator:hover label.sk-toggleable__label-arrow:before {color: black;}#sk-5158c7ca-8b55-44f4-9361-0297a54f4644 div.sk-toggleable__content {max-height: 0;max-width: 0;overflow: hidden;text-align: left;background-color: #f0f8ff;}#sk-5158c7ca-8b55-44f4-9361-0297a54f4644 div.sk-toggleable__content pre {margin: 0.2em;color: black;border-radius: 0.25em;background-color: #f0f8ff;}#sk-5158c7ca-8b55-44f4-9361-0297a54f4644 input.sk-toggleable__control:checked~div.sk-toggleable__content {max-height: 200px;max-width: 100%;overflow: auto;}#sk-5158c7ca-8b55-44f4-9361-0297a54f4644 input.sk-toggleable__control:checked~label.sk-toggleable__label-arrow:before {content: \"▾\";}#sk-5158c7ca-8b55-44f4-9361-0297a54f4644 div.sk-estimator input.sk-toggleable__control:checked~label.sk-toggleable__label {background-color: #d4ebff;}#sk-5158c7ca-8b55-44f4-9361-0297a54f4644 div.sk-label input.sk-toggleable__control:checked~label.sk-toggleable__label {background-color: #d4ebff;}#sk-5158c7ca-8b55-44f4-9361-0297a54f4644 input.sk-hidden--visually {border: 0;clip: rect(1px 1px 1px 1px);clip: rect(1px, 1px, 1px, 1px);height: 1px;margin: -1px;overflow: hidden;padding: 0;position: absolute;width: 1px;}#sk-5158c7ca-8b55-44f4-9361-0297a54f4644 div.sk-estimator {font-family: monospace;background-color: #f0f8ff;border: 1px dotted black;border-radius: 0.25em;box-sizing: border-box;margin-bottom: 0.5em;}#sk-5158c7ca-8b55-44f4-9361-0297a54f4644 div.sk-estimator:hover {background-color: #d4ebff;}#sk-5158c7ca-8b55-44f4-9361-0297a54f4644 div.sk-parallel-item::after {content: \"\";width: 100%;border-bottom: 1px solid gray;flex-grow: 1;}#sk-5158c7ca-8b55-44f4-9361-0297a54f4644 div.sk-label:hover label.sk-toggleable__label {background-color: #d4ebff;}#sk-5158c7ca-8b55-44f4-9361-0297a54f4644 div.sk-serial::before {content: \"\";position: absolute;border-left: 1px solid gray;box-sizing: border-box;top: 2em;bottom: 0;left: 50%;}#sk-5158c7ca-8b55-44f4-9361-0297a54f4644 div.sk-serial {display: flex;flex-direction: column;align-items: center;background-color: white;padding-right: 0.2em;padding-left: 0.2em;}#sk-5158c7ca-8b55-44f4-9361-0297a54f4644 div.sk-item {z-index: 1;}#sk-5158c7ca-8b55-44f4-9361-0297a54f4644 div.sk-parallel {display: flex;align-items: stretch;justify-content: center;background-color: white;}#sk-5158c7ca-8b55-44f4-9361-0297a54f4644 div.sk-parallel::before {content: \"\";position: absolute;border-left: 1px solid gray;box-sizing: border-box;top: 2em;bottom: 0;left: 50%;}#sk-5158c7ca-8b55-44f4-9361-0297a54f4644 div.sk-parallel-item {display: flex;flex-direction: column;position: relative;background-color: white;}#sk-5158c7ca-8b55-44f4-9361-0297a54f4644 div.sk-parallel-item:first-child::after {align-self: flex-end;width: 50%;}#sk-5158c7ca-8b55-44f4-9361-0297a54f4644 div.sk-parallel-item:last-child::after {align-self: flex-start;width: 50%;}#sk-5158c7ca-8b55-44f4-9361-0297a54f4644 div.sk-parallel-item:only-child::after {width: 0;}#sk-5158c7ca-8b55-44f4-9361-0297a54f4644 div.sk-dashed-wrapped {border: 1px dashed gray;margin: 0 0.4em 0.5em 0.4em;box-sizing: border-box;padding-bottom: 0.4em;background-color: white;position: relative;}#sk-5158c7ca-8b55-44f4-9361-0297a54f4644 div.sk-label label {font-family: monospace;font-weight: bold;background-color: white;display: inline-block;line-height: 1.2em;}#sk-5158c7ca-8b55-44f4-9361-0297a54f4644 div.sk-label-container {position: relative;z-index: 2;text-align: center;}#sk-5158c7ca-8b55-44f4-9361-0297a54f4644 div.sk-container {/* jupyter's `normalize.less` sets `[hidden] { display: none; }` but bootstrap.min.css set `[hidden] { display: none !important; }` so we also need the `!important` here to be able to override the default hidden behavior on the sphinx rendered scikit-learn.org. See: https://github.com/scikit-learn/scikit-learn/issues/21755 */display: inline-block !important;position: relative;}#sk-5158c7ca-8b55-44f4-9361-0297a54f4644 div.sk-text-repr-fallback {display: none;}</style><div id=\"sk-5158c7ca-8b55-44f4-9361-0297a54f4644\" class=\"sk-top-container\"><div class=\"sk-text-repr-fallback\"><pre>Pipeline(steps=[(&#x27;columntransformer&#x27;,\n",
              "                 ColumnTransformer(remainder=&#x27;passthrough&#x27;,\n",
              "                                   transformers=[(&#x27;powertransformer&#x27;,\n",
              "                                                  PowerTransformer(), [0, 1]),\n",
              "                                                 (&#x27;kbinsdiscretizer&#x27;,\n",
              "                                                  KBinsDiscretizer(), [2]),\n",
              "                                                 (&#x27;binarizer&#x27;,\n",
              "                                                  Binarizer(threshold=55),\n",
              "                                                  [3, 4, 8])])),\n",
              "                (&#x27;votingregressor&#x27;,\n",
              "                 VotingRegressor(estimators=[(&#x27;x4&#x27;, DecisionTreeRegressor()),\n",
              "                                             (&#x27;x5&#x27;, SVR()),\n",
              "                                             (&#x27;x6&#x27;, LinearRegression())],\n",
              "                                 verbose=True))])</pre><b>Please rerun this cell to show the HTML repr or trust the notebook.</b></div><div class=\"sk-container\" hidden><div class=\"sk-item sk-dashed-wrapped\"><div class=\"sk-label-container\"><div class=\"sk-label sk-toggleable\"><input class=\"sk-toggleable__control sk-hidden--visually\" id=\"d1259ac7-307e-424b-bdd4-4dd031b14063\" type=\"checkbox\" ><label for=\"d1259ac7-307e-424b-bdd4-4dd031b14063\" class=\"sk-toggleable__label sk-toggleable__label-arrow\">Pipeline</label><div class=\"sk-toggleable__content\"><pre>Pipeline(steps=[(&#x27;columntransformer&#x27;,\n",
              "                 ColumnTransformer(remainder=&#x27;passthrough&#x27;,\n",
              "                                   transformers=[(&#x27;powertransformer&#x27;,\n",
              "                                                  PowerTransformer(), [0, 1]),\n",
              "                                                 (&#x27;kbinsdiscretizer&#x27;,\n",
              "                                                  KBinsDiscretizer(), [2]),\n",
              "                                                 (&#x27;binarizer&#x27;,\n",
              "                                                  Binarizer(threshold=55),\n",
              "                                                  [3, 4, 8])])),\n",
              "                (&#x27;votingregressor&#x27;,\n",
              "                 VotingRegressor(estimators=[(&#x27;x4&#x27;, DecisionTreeRegressor()),\n",
              "                                             (&#x27;x5&#x27;, SVR()),\n",
              "                                             (&#x27;x6&#x27;, LinearRegression())],\n",
              "                                 verbose=True))])</pre></div></div></div><div class=\"sk-serial\"><div class=\"sk-item sk-dashed-wrapped\"><div class=\"sk-label-container\"><div class=\"sk-label sk-toggleable\"><input class=\"sk-toggleable__control sk-hidden--visually\" id=\"9cdfb42a-2a7f-44da-8150-f5769e363051\" type=\"checkbox\" ><label for=\"9cdfb42a-2a7f-44da-8150-f5769e363051\" class=\"sk-toggleable__label sk-toggleable__label-arrow\">columntransformer: ColumnTransformer</label><div class=\"sk-toggleable__content\"><pre>ColumnTransformer(remainder=&#x27;passthrough&#x27;,\n",
              "                  transformers=[(&#x27;powertransformer&#x27;, PowerTransformer(),\n",
              "                                 [0, 1]),\n",
              "                                (&#x27;kbinsdiscretizer&#x27;, KBinsDiscretizer(), [2]),\n",
              "                                (&#x27;binarizer&#x27;, Binarizer(threshold=55),\n",
              "                                 [3, 4, 8])])</pre></div></div></div><div class=\"sk-parallel\"><div class=\"sk-parallel-item\"><div class=\"sk-item\"><div class=\"sk-label-container\"><div class=\"sk-label sk-toggleable\"><input class=\"sk-toggleable__control sk-hidden--visually\" id=\"5f4919af-1434-4edb-aaa5-b6f64e53a8c7\" type=\"checkbox\" ><label for=\"5f4919af-1434-4edb-aaa5-b6f64e53a8c7\" class=\"sk-toggleable__label sk-toggleable__label-arrow\">powertransformer</label><div class=\"sk-toggleable__content\"><pre>[0, 1]</pre></div></div></div><div class=\"sk-serial\"><div class=\"sk-item\"><div class=\"sk-estimator sk-toggleable\"><input class=\"sk-toggleable__control sk-hidden--visually\" id=\"87ab971b-acb5-40e2-83ea-7c26618f3b47\" type=\"checkbox\" ><label for=\"87ab971b-acb5-40e2-83ea-7c26618f3b47\" class=\"sk-toggleable__label sk-toggleable__label-arrow\">PowerTransformer</label><div class=\"sk-toggleable__content\"><pre>PowerTransformer()</pre></div></div></div></div></div></div><div class=\"sk-parallel-item\"><div class=\"sk-item\"><div class=\"sk-label-container\"><div class=\"sk-label sk-toggleable\"><input class=\"sk-toggleable__control sk-hidden--visually\" id=\"69e82f16-d599-4f3b-93b1-9d5783bc2db1\" type=\"checkbox\" ><label for=\"69e82f16-d599-4f3b-93b1-9d5783bc2db1\" class=\"sk-toggleable__label sk-toggleable__label-arrow\">kbinsdiscretizer</label><div class=\"sk-toggleable__content\"><pre>[2]</pre></div></div></div><div class=\"sk-serial\"><div class=\"sk-item\"><div class=\"sk-estimator sk-toggleable\"><input class=\"sk-toggleable__control sk-hidden--visually\" id=\"ac44592a-7882-4524-be27-dd6cd5bac2df\" type=\"checkbox\" ><label for=\"ac44592a-7882-4524-be27-dd6cd5bac2df\" class=\"sk-toggleable__label sk-toggleable__label-arrow\">KBinsDiscretizer</label><div class=\"sk-toggleable__content\"><pre>KBinsDiscretizer()</pre></div></div></div></div></div></div><div class=\"sk-parallel-item\"><div class=\"sk-item\"><div class=\"sk-label-container\"><div class=\"sk-label sk-toggleable\"><input class=\"sk-toggleable__control sk-hidden--visually\" id=\"b8710025-c0d4-40e8-9c38-1c36b944500d\" type=\"checkbox\" ><label for=\"b8710025-c0d4-40e8-9c38-1c36b944500d\" class=\"sk-toggleable__label sk-toggleable__label-arrow\">binarizer</label><div class=\"sk-toggleable__content\"><pre>[3, 4, 8]</pre></div></div></div><div class=\"sk-serial\"><div class=\"sk-item\"><div class=\"sk-estimator sk-toggleable\"><input class=\"sk-toggleable__control sk-hidden--visually\" id=\"d6b6e8c6-6ba3-481f-9216-2f0ffbbcef6c\" type=\"checkbox\" ><label for=\"d6b6e8c6-6ba3-481f-9216-2f0ffbbcef6c\" class=\"sk-toggleable__label sk-toggleable__label-arrow\">Binarizer</label><div class=\"sk-toggleable__content\"><pre>Binarizer(threshold=55)</pre></div></div></div></div></div></div><div class=\"sk-parallel-item\"><div class=\"sk-item\"><div class=\"sk-label-container\"><div class=\"sk-label sk-toggleable\"><input class=\"sk-toggleable__control sk-hidden--visually\" id=\"63a3a3f0-4194-4414-bf07-e0564b592bb8\" type=\"checkbox\" ><label for=\"63a3a3f0-4194-4414-bf07-e0564b592bb8\" class=\"sk-toggleable__label sk-toggleable__label-arrow\">remainder</label><div class=\"sk-toggleable__content\"><pre>[&#x27;idle_time&#x27;, &#x27;idle_men&#x27;, &#x27;no_of_style_change&#x27;]</pre></div></div></div><div class=\"sk-serial\"><div class=\"sk-item\"><div class=\"sk-estimator sk-toggleable\"><input class=\"sk-toggleable__control sk-hidden--visually\" id=\"8b501632-83c4-492e-809e-797eed475782\" type=\"checkbox\" ><label for=\"8b501632-83c4-492e-809e-797eed475782\" class=\"sk-toggleable__label sk-toggleable__label-arrow\">passthrough</label><div class=\"sk-toggleable__content\"><pre>passthrough</pre></div></div></div></div></div></div></div></div><div class=\"sk-item sk-dashed-wrapped\"><div class=\"sk-label-container\"><div class=\"sk-label sk-toggleable\"><input class=\"sk-toggleable__control sk-hidden--visually\" id=\"febf74b6-b1a1-4116-b037-92ff9ec8b3da\" type=\"checkbox\" ><label for=\"febf74b6-b1a1-4116-b037-92ff9ec8b3da\" class=\"sk-toggleable__label sk-toggleable__label-arrow\">votingregressor: VotingRegressor</label><div class=\"sk-toggleable__content\"><pre>VotingRegressor(estimators=[(&#x27;x4&#x27;, DecisionTreeRegressor()), (&#x27;x5&#x27;, SVR()),\n",
              "                            (&#x27;x6&#x27;, LinearRegression())],\n",
              "                verbose=True)</pre></div></div></div><div class=\"sk-parallel\"><div class=\"sk-parallel-item\"><div class=\"sk-item\"><div class=\"sk-label-container\"><div class=\"sk-label sk-toggleable\"><label>x4</label></div></div><div class=\"sk-serial\"><div class=\"sk-item\"><div class=\"sk-estimator sk-toggleable\"><input class=\"sk-toggleable__control sk-hidden--visually\" id=\"d790dab9-6ab5-42cf-b9b1-d249c295bd53\" type=\"checkbox\" ><label for=\"d790dab9-6ab5-42cf-b9b1-d249c295bd53\" class=\"sk-toggleable__label sk-toggleable__label-arrow\">DecisionTreeRegressor</label><div class=\"sk-toggleable__content\"><pre>DecisionTreeRegressor()</pre></div></div></div></div></div></div><div class=\"sk-parallel-item\"><div class=\"sk-item\"><div class=\"sk-label-container\"><div class=\"sk-label sk-toggleable\"><label>x5</label></div></div><div class=\"sk-serial\"><div class=\"sk-item\"><div class=\"sk-estimator sk-toggleable\"><input class=\"sk-toggleable__control sk-hidden--visually\" id=\"1bbdd5d4-dfda-4749-b62d-f43cbc5789b6\" type=\"checkbox\" ><label for=\"1bbdd5d4-dfda-4749-b62d-f43cbc5789b6\" class=\"sk-toggleable__label sk-toggleable__label-arrow\">SVR</label><div class=\"sk-toggleable__content\"><pre>SVR()</pre></div></div></div></div></div></div><div class=\"sk-parallel-item\"><div class=\"sk-item\"><div class=\"sk-label-container\"><div class=\"sk-label sk-toggleable\"><label>x6</label></div></div><div class=\"sk-serial\"><div class=\"sk-item\"><div class=\"sk-estimator sk-toggleable\"><input class=\"sk-toggleable__control sk-hidden--visually\" id=\"34d56630-56ba-4c68-89f2-73e8309ec81f\" type=\"checkbox\" ><label for=\"34d56630-56ba-4c68-89f2-73e8309ec81f\" class=\"sk-toggleable__label sk-toggleable__label-arrow\">LinearRegression</label><div class=\"sk-toggleable__content\"><pre>LinearRegression()</pre></div></div></div></div></div></div></div></div></div></div></div></div>"
            ]
          },
          "metadata": {},
          "execution_count": 123
        }
      ]
    },
    {
      "cell_type": "code",
      "source": [
        "pipe_v.fit(x_train,y_train)"
      ],
      "metadata": {
        "colab": {
          "base_uri": "https://localhost:8080/",
          "height": 357
        },
        "id": "dmC-M5cM8vCA",
        "outputId": "a3e31282-29a2-4aad-bcad-6d02a68f5370"
      },
      "execution_count": null,
      "outputs": [
        {
          "output_type": "stream",
          "name": "stdout",
          "text": [
            "[Voting] ....................... (1 of 3) Processing x4, total=   0.0s\n",
            "[Voting] ....................... (2 of 3) Processing x5, total=   0.0s\n",
            "[Voting] ....................... (3 of 3) Processing x6, total=   0.0s\n"
          ]
        },
        {
          "output_type": "stream",
          "name": "stderr",
          "text": [
            "/usr/local/lib/python3.7/dist-packages/sklearn/ensemble/_voting.py:528: DataConversionWarning: A column-vector y was passed when a 1d array was expected. Please change the shape of y to (n_samples, ), for example using ravel().\n",
            "  y = column_or_1d(y, warn=True)\n"
          ]
        },
        {
          "output_type": "execute_result",
          "data": {
            "text/plain": [
              "Pipeline(steps=[('columntransformer',\n",
              "                 ColumnTransformer(remainder='passthrough',\n",
              "                                   transformers=[('powertransformer',\n",
              "                                                  PowerTransformer(), [0, 1]),\n",
              "                                                 ('kbinsdiscretizer',\n",
              "                                                  KBinsDiscretizer(), [2]),\n",
              "                                                 ('binarizer',\n",
              "                                                  Binarizer(threshold=55),\n",
              "                                                  [3, 4, 8])])),\n",
              "                ('votingregressor',\n",
              "                 VotingRegressor(estimators=[('x4', DecisionTreeRegressor()),\n",
              "                                             ('x5', SVR()),\n",
              "                                             ('x6', LinearRegression())],\n",
              "                                 verbose=True))])"
            ],
            "text/html": [
              "<style>#sk-7c113de6-4502-4586-aaca-ce0993b2499d {color: black;background-color: white;}#sk-7c113de6-4502-4586-aaca-ce0993b2499d pre{padding: 0;}#sk-7c113de6-4502-4586-aaca-ce0993b2499d div.sk-toggleable {background-color: white;}#sk-7c113de6-4502-4586-aaca-ce0993b2499d label.sk-toggleable__label {cursor: pointer;display: block;width: 100%;margin-bottom: 0;padding: 0.3em;box-sizing: border-box;text-align: center;}#sk-7c113de6-4502-4586-aaca-ce0993b2499d label.sk-toggleable__label-arrow:before {content: \"▸\";float: left;margin-right: 0.25em;color: #696969;}#sk-7c113de6-4502-4586-aaca-ce0993b2499d label.sk-toggleable__label-arrow:hover:before {color: black;}#sk-7c113de6-4502-4586-aaca-ce0993b2499d div.sk-estimator:hover label.sk-toggleable__label-arrow:before {color: black;}#sk-7c113de6-4502-4586-aaca-ce0993b2499d div.sk-toggleable__content {max-height: 0;max-width: 0;overflow: hidden;text-align: left;background-color: #f0f8ff;}#sk-7c113de6-4502-4586-aaca-ce0993b2499d div.sk-toggleable__content pre {margin: 0.2em;color: black;border-radius: 0.25em;background-color: #f0f8ff;}#sk-7c113de6-4502-4586-aaca-ce0993b2499d input.sk-toggleable__control:checked~div.sk-toggleable__content {max-height: 200px;max-width: 100%;overflow: auto;}#sk-7c113de6-4502-4586-aaca-ce0993b2499d input.sk-toggleable__control:checked~label.sk-toggleable__label-arrow:before {content: \"▾\";}#sk-7c113de6-4502-4586-aaca-ce0993b2499d div.sk-estimator input.sk-toggleable__control:checked~label.sk-toggleable__label {background-color: #d4ebff;}#sk-7c113de6-4502-4586-aaca-ce0993b2499d div.sk-label input.sk-toggleable__control:checked~label.sk-toggleable__label {background-color: #d4ebff;}#sk-7c113de6-4502-4586-aaca-ce0993b2499d input.sk-hidden--visually {border: 0;clip: rect(1px 1px 1px 1px);clip: rect(1px, 1px, 1px, 1px);height: 1px;margin: -1px;overflow: hidden;padding: 0;position: absolute;width: 1px;}#sk-7c113de6-4502-4586-aaca-ce0993b2499d div.sk-estimator {font-family: monospace;background-color: #f0f8ff;border: 1px dotted black;border-radius: 0.25em;box-sizing: border-box;margin-bottom: 0.5em;}#sk-7c113de6-4502-4586-aaca-ce0993b2499d div.sk-estimator:hover {background-color: #d4ebff;}#sk-7c113de6-4502-4586-aaca-ce0993b2499d div.sk-parallel-item::after {content: \"\";width: 100%;border-bottom: 1px solid gray;flex-grow: 1;}#sk-7c113de6-4502-4586-aaca-ce0993b2499d div.sk-label:hover label.sk-toggleable__label {background-color: #d4ebff;}#sk-7c113de6-4502-4586-aaca-ce0993b2499d div.sk-serial::before {content: \"\";position: absolute;border-left: 1px solid gray;box-sizing: border-box;top: 2em;bottom: 0;left: 50%;}#sk-7c113de6-4502-4586-aaca-ce0993b2499d div.sk-serial {display: flex;flex-direction: column;align-items: center;background-color: white;padding-right: 0.2em;padding-left: 0.2em;}#sk-7c113de6-4502-4586-aaca-ce0993b2499d div.sk-item {z-index: 1;}#sk-7c113de6-4502-4586-aaca-ce0993b2499d div.sk-parallel {display: flex;align-items: stretch;justify-content: center;background-color: white;}#sk-7c113de6-4502-4586-aaca-ce0993b2499d div.sk-parallel::before {content: \"\";position: absolute;border-left: 1px solid gray;box-sizing: border-box;top: 2em;bottom: 0;left: 50%;}#sk-7c113de6-4502-4586-aaca-ce0993b2499d div.sk-parallel-item {display: flex;flex-direction: column;position: relative;background-color: white;}#sk-7c113de6-4502-4586-aaca-ce0993b2499d div.sk-parallel-item:first-child::after {align-self: flex-end;width: 50%;}#sk-7c113de6-4502-4586-aaca-ce0993b2499d div.sk-parallel-item:last-child::after {align-self: flex-start;width: 50%;}#sk-7c113de6-4502-4586-aaca-ce0993b2499d div.sk-parallel-item:only-child::after {width: 0;}#sk-7c113de6-4502-4586-aaca-ce0993b2499d div.sk-dashed-wrapped {border: 1px dashed gray;margin: 0 0.4em 0.5em 0.4em;box-sizing: border-box;padding-bottom: 0.4em;background-color: white;position: relative;}#sk-7c113de6-4502-4586-aaca-ce0993b2499d div.sk-label label {font-family: monospace;font-weight: bold;background-color: white;display: inline-block;line-height: 1.2em;}#sk-7c113de6-4502-4586-aaca-ce0993b2499d div.sk-label-container {position: relative;z-index: 2;text-align: center;}#sk-7c113de6-4502-4586-aaca-ce0993b2499d div.sk-container {/* jupyter's `normalize.less` sets `[hidden] { display: none; }` but bootstrap.min.css set `[hidden] { display: none !important; }` so we also need the `!important` here to be able to override the default hidden behavior on the sphinx rendered scikit-learn.org. See: https://github.com/scikit-learn/scikit-learn/issues/21755 */display: inline-block !important;position: relative;}#sk-7c113de6-4502-4586-aaca-ce0993b2499d div.sk-text-repr-fallback {display: none;}</style><div id=\"sk-7c113de6-4502-4586-aaca-ce0993b2499d\" class=\"sk-top-container\"><div class=\"sk-text-repr-fallback\"><pre>Pipeline(steps=[(&#x27;columntransformer&#x27;,\n",
              "                 ColumnTransformer(remainder=&#x27;passthrough&#x27;,\n",
              "                                   transformers=[(&#x27;powertransformer&#x27;,\n",
              "                                                  PowerTransformer(), [0, 1]),\n",
              "                                                 (&#x27;kbinsdiscretizer&#x27;,\n",
              "                                                  KBinsDiscretizer(), [2]),\n",
              "                                                 (&#x27;binarizer&#x27;,\n",
              "                                                  Binarizer(threshold=55),\n",
              "                                                  [3, 4, 8])])),\n",
              "                (&#x27;votingregressor&#x27;,\n",
              "                 VotingRegressor(estimators=[(&#x27;x4&#x27;, DecisionTreeRegressor()),\n",
              "                                             (&#x27;x5&#x27;, SVR()),\n",
              "                                             (&#x27;x6&#x27;, LinearRegression())],\n",
              "                                 verbose=True))])</pre><b>Please rerun this cell to show the HTML repr or trust the notebook.</b></div><div class=\"sk-container\" hidden><div class=\"sk-item sk-dashed-wrapped\"><div class=\"sk-label-container\"><div class=\"sk-label sk-toggleable\"><input class=\"sk-toggleable__control sk-hidden--visually\" id=\"7f0f67da-2283-43c2-ab46-eb4f468ee3a3\" type=\"checkbox\" ><label for=\"7f0f67da-2283-43c2-ab46-eb4f468ee3a3\" class=\"sk-toggleable__label sk-toggleable__label-arrow\">Pipeline</label><div class=\"sk-toggleable__content\"><pre>Pipeline(steps=[(&#x27;columntransformer&#x27;,\n",
              "                 ColumnTransformer(remainder=&#x27;passthrough&#x27;,\n",
              "                                   transformers=[(&#x27;powertransformer&#x27;,\n",
              "                                                  PowerTransformer(), [0, 1]),\n",
              "                                                 (&#x27;kbinsdiscretizer&#x27;,\n",
              "                                                  KBinsDiscretizer(), [2]),\n",
              "                                                 (&#x27;binarizer&#x27;,\n",
              "                                                  Binarizer(threshold=55),\n",
              "                                                  [3, 4, 8])])),\n",
              "                (&#x27;votingregressor&#x27;,\n",
              "                 VotingRegressor(estimators=[(&#x27;x4&#x27;, DecisionTreeRegressor()),\n",
              "                                             (&#x27;x5&#x27;, SVR()),\n",
              "                                             (&#x27;x6&#x27;, LinearRegression())],\n",
              "                                 verbose=True))])</pre></div></div></div><div class=\"sk-serial\"><div class=\"sk-item sk-dashed-wrapped\"><div class=\"sk-label-container\"><div class=\"sk-label sk-toggleable\"><input class=\"sk-toggleable__control sk-hidden--visually\" id=\"4187ceeb-31d7-49e2-bf16-efa52bd21ddc\" type=\"checkbox\" ><label for=\"4187ceeb-31d7-49e2-bf16-efa52bd21ddc\" class=\"sk-toggleable__label sk-toggleable__label-arrow\">columntransformer: ColumnTransformer</label><div class=\"sk-toggleable__content\"><pre>ColumnTransformer(remainder=&#x27;passthrough&#x27;,\n",
              "                  transformers=[(&#x27;powertransformer&#x27;, PowerTransformer(),\n",
              "                                 [0, 1]),\n",
              "                                (&#x27;kbinsdiscretizer&#x27;, KBinsDiscretizer(), [2]),\n",
              "                                (&#x27;binarizer&#x27;, Binarizer(threshold=55),\n",
              "                                 [3, 4, 8])])</pre></div></div></div><div class=\"sk-parallel\"><div class=\"sk-parallel-item\"><div class=\"sk-item\"><div class=\"sk-label-container\"><div class=\"sk-label sk-toggleable\"><input class=\"sk-toggleable__control sk-hidden--visually\" id=\"e6d61725-daa3-44fa-8698-be609e16d360\" type=\"checkbox\" ><label for=\"e6d61725-daa3-44fa-8698-be609e16d360\" class=\"sk-toggleable__label sk-toggleable__label-arrow\">powertransformer</label><div class=\"sk-toggleable__content\"><pre>[0, 1]</pre></div></div></div><div class=\"sk-serial\"><div class=\"sk-item\"><div class=\"sk-estimator sk-toggleable\"><input class=\"sk-toggleable__control sk-hidden--visually\" id=\"8c8b013b-9d8e-4b62-95e0-b8ad7aeee5a8\" type=\"checkbox\" ><label for=\"8c8b013b-9d8e-4b62-95e0-b8ad7aeee5a8\" class=\"sk-toggleable__label sk-toggleable__label-arrow\">PowerTransformer</label><div class=\"sk-toggleable__content\"><pre>PowerTransformer()</pre></div></div></div></div></div></div><div class=\"sk-parallel-item\"><div class=\"sk-item\"><div class=\"sk-label-container\"><div class=\"sk-label sk-toggleable\"><input class=\"sk-toggleable__control sk-hidden--visually\" id=\"4f9f661b-8e11-4769-a030-ef61269fd6d0\" type=\"checkbox\" ><label for=\"4f9f661b-8e11-4769-a030-ef61269fd6d0\" class=\"sk-toggleable__label sk-toggleable__label-arrow\">kbinsdiscretizer</label><div class=\"sk-toggleable__content\"><pre>[2]</pre></div></div></div><div class=\"sk-serial\"><div class=\"sk-item\"><div class=\"sk-estimator sk-toggleable\"><input class=\"sk-toggleable__control sk-hidden--visually\" id=\"6d1c2cc9-da5e-4136-b76b-c3aaa9e167cf\" type=\"checkbox\" ><label for=\"6d1c2cc9-da5e-4136-b76b-c3aaa9e167cf\" class=\"sk-toggleable__label sk-toggleable__label-arrow\">KBinsDiscretizer</label><div class=\"sk-toggleable__content\"><pre>KBinsDiscretizer()</pre></div></div></div></div></div></div><div class=\"sk-parallel-item\"><div class=\"sk-item\"><div class=\"sk-label-container\"><div class=\"sk-label sk-toggleable\"><input class=\"sk-toggleable__control sk-hidden--visually\" id=\"f98802e5-2904-410c-b0b8-c64211bf53db\" type=\"checkbox\" ><label for=\"f98802e5-2904-410c-b0b8-c64211bf53db\" class=\"sk-toggleable__label sk-toggleable__label-arrow\">binarizer</label><div class=\"sk-toggleable__content\"><pre>[3, 4, 8]</pre></div></div></div><div class=\"sk-serial\"><div class=\"sk-item\"><div class=\"sk-estimator sk-toggleable\"><input class=\"sk-toggleable__control sk-hidden--visually\" id=\"a985e7db-e6c4-46b6-894c-b699efb874de\" type=\"checkbox\" ><label for=\"a985e7db-e6c4-46b6-894c-b699efb874de\" class=\"sk-toggleable__label sk-toggleable__label-arrow\">Binarizer</label><div class=\"sk-toggleable__content\"><pre>Binarizer(threshold=55)</pre></div></div></div></div></div></div><div class=\"sk-parallel-item\"><div class=\"sk-item\"><div class=\"sk-label-container\"><div class=\"sk-label sk-toggleable\"><input class=\"sk-toggleable__control sk-hidden--visually\" id=\"c4c21634-70bc-4f9c-8089-01bc7fe693b9\" type=\"checkbox\" ><label for=\"c4c21634-70bc-4f9c-8089-01bc7fe693b9\" class=\"sk-toggleable__label sk-toggleable__label-arrow\">remainder</label><div class=\"sk-toggleable__content\"><pre>[&#x27;idle_time&#x27;, &#x27;idle_men&#x27;, &#x27;no_of_style_change&#x27;]</pre></div></div></div><div class=\"sk-serial\"><div class=\"sk-item\"><div class=\"sk-estimator sk-toggleable\"><input class=\"sk-toggleable__control sk-hidden--visually\" id=\"83e712f9-01f0-4ddd-bfd4-f4fa728a52e2\" type=\"checkbox\" ><label for=\"83e712f9-01f0-4ddd-bfd4-f4fa728a52e2\" class=\"sk-toggleable__label sk-toggleable__label-arrow\">passthrough</label><div class=\"sk-toggleable__content\"><pre>passthrough</pre></div></div></div></div></div></div></div></div><div class=\"sk-item sk-dashed-wrapped\"><div class=\"sk-label-container\"><div class=\"sk-label sk-toggleable\"><input class=\"sk-toggleable__control sk-hidden--visually\" id=\"9ccf10a4-d584-4da4-9473-acd253598ff9\" type=\"checkbox\" ><label for=\"9ccf10a4-d584-4da4-9473-acd253598ff9\" class=\"sk-toggleable__label sk-toggleable__label-arrow\">votingregressor: VotingRegressor</label><div class=\"sk-toggleable__content\"><pre>VotingRegressor(estimators=[(&#x27;x4&#x27;, DecisionTreeRegressor()), (&#x27;x5&#x27;, SVR()),\n",
              "                            (&#x27;x6&#x27;, LinearRegression())],\n",
              "                verbose=True)</pre></div></div></div><div class=\"sk-parallel\"><div class=\"sk-parallel-item\"><div class=\"sk-item\"><div class=\"sk-label-container\"><div class=\"sk-label sk-toggleable\"><label>x4</label></div></div><div class=\"sk-serial\"><div class=\"sk-item\"><div class=\"sk-estimator sk-toggleable\"><input class=\"sk-toggleable__control sk-hidden--visually\" id=\"0e3b21ef-a591-4726-a65d-0b402e075b28\" type=\"checkbox\" ><label for=\"0e3b21ef-a591-4726-a65d-0b402e075b28\" class=\"sk-toggleable__label sk-toggleable__label-arrow\">DecisionTreeRegressor</label><div class=\"sk-toggleable__content\"><pre>DecisionTreeRegressor()</pre></div></div></div></div></div></div><div class=\"sk-parallel-item\"><div class=\"sk-item\"><div class=\"sk-label-container\"><div class=\"sk-label sk-toggleable\"><label>x5</label></div></div><div class=\"sk-serial\"><div class=\"sk-item\"><div class=\"sk-estimator sk-toggleable\"><input class=\"sk-toggleable__control sk-hidden--visually\" id=\"77203c8e-5842-479b-a903-8327ba4dd825\" type=\"checkbox\" ><label for=\"77203c8e-5842-479b-a903-8327ba4dd825\" class=\"sk-toggleable__label sk-toggleable__label-arrow\">SVR</label><div class=\"sk-toggleable__content\"><pre>SVR()</pre></div></div></div></div></div></div><div class=\"sk-parallel-item\"><div class=\"sk-item\"><div class=\"sk-label-container\"><div class=\"sk-label sk-toggleable\"><label>x6</label></div></div><div class=\"sk-serial\"><div class=\"sk-item\"><div class=\"sk-estimator sk-toggleable\"><input class=\"sk-toggleable__control sk-hidden--visually\" id=\"394fde94-c2e5-4dee-89ce-2d9d28378d06\" type=\"checkbox\" ><label for=\"394fde94-c2e5-4dee-89ce-2d9d28378d06\" class=\"sk-toggleable__label sk-toggleable__label-arrow\">LinearRegression</label><div class=\"sk-toggleable__content\"><pre>LinearRegression()</pre></div></div></div></div></div></div></div></div></div></div></div></div>"
            ]
          },
          "metadata": {},
          "execution_count": 124
        }
      ]
    },
    {
      "cell_type": "code",
      "source": [
        "pred_v = pipe_v.predict(x_test)"
      ],
      "metadata": {
        "id": "ljmlKg7Z8vES"
      },
      "execution_count": null,
      "outputs": []
    },
    {
      "cell_type": "code",
      "source": [
        "from sklearn.metrics import mean_squared_error\n",
        "mean_squared_error(pred_v,y_test)"
      ],
      "metadata": {
        "colab": {
          "base_uri": "https://localhost:8080/"
        },
        "id": "j0sAT0WI8vGz",
        "outputId": "a227d912-429f-46c9-db6a-9fe445677006"
      },
      "execution_count": null,
      "outputs": [
        {
          "output_type": "execute_result",
          "data": {
            "text/plain": [
              "0.015321919582052614"
            ]
          },
          "metadata": {},
          "execution_count": 126
        }
      ]
    },
    {
      "cell_type": "code",
      "source": [
        "from sklearn.svm import SVR                                                           # from sklearn.linear_model import LinearRegression                                                                            # from sklearn.tree import DecisionTreeRegressor\n",
        "from sklearn.ensemble import BaggingRegressor                                         # algorithm7 = DecisionTreeRegressor()\n",
        "algorithm8 = SVR()                                                                    # algorithm9 = LinearRegression()\n",
        "model_B = BaggingRegressor(base_estimator = SVR())\n",
        "model_B"
      ],
      "metadata": {
        "colab": {
          "base_uri": "https://localhost:8080/",
          "height": 93
        },
        "id": "T6Gj4gjl85cy",
        "outputId": "0a41d6db-a270-4523-80ba-02a88f660022"
      },
      "execution_count": null,
      "outputs": [
        {
          "output_type": "execute_result",
          "data": {
            "text/plain": [
              "BaggingRegressor(base_estimator=SVR())"
            ],
            "text/html": [
              "<style>#sk-b0e53d85-b40f-42ac-8d48-21c3840ff0bf {color: black;background-color: white;}#sk-b0e53d85-b40f-42ac-8d48-21c3840ff0bf pre{padding: 0;}#sk-b0e53d85-b40f-42ac-8d48-21c3840ff0bf div.sk-toggleable {background-color: white;}#sk-b0e53d85-b40f-42ac-8d48-21c3840ff0bf label.sk-toggleable__label {cursor: pointer;display: block;width: 100%;margin-bottom: 0;padding: 0.3em;box-sizing: border-box;text-align: center;}#sk-b0e53d85-b40f-42ac-8d48-21c3840ff0bf label.sk-toggleable__label-arrow:before {content: \"▸\";float: left;margin-right: 0.25em;color: #696969;}#sk-b0e53d85-b40f-42ac-8d48-21c3840ff0bf label.sk-toggleable__label-arrow:hover:before {color: black;}#sk-b0e53d85-b40f-42ac-8d48-21c3840ff0bf div.sk-estimator:hover label.sk-toggleable__label-arrow:before {color: black;}#sk-b0e53d85-b40f-42ac-8d48-21c3840ff0bf div.sk-toggleable__content {max-height: 0;max-width: 0;overflow: hidden;text-align: left;background-color: #f0f8ff;}#sk-b0e53d85-b40f-42ac-8d48-21c3840ff0bf div.sk-toggleable__content pre {margin: 0.2em;color: black;border-radius: 0.25em;background-color: #f0f8ff;}#sk-b0e53d85-b40f-42ac-8d48-21c3840ff0bf input.sk-toggleable__control:checked~div.sk-toggleable__content {max-height: 200px;max-width: 100%;overflow: auto;}#sk-b0e53d85-b40f-42ac-8d48-21c3840ff0bf input.sk-toggleable__control:checked~label.sk-toggleable__label-arrow:before {content: \"▾\";}#sk-b0e53d85-b40f-42ac-8d48-21c3840ff0bf div.sk-estimator input.sk-toggleable__control:checked~label.sk-toggleable__label {background-color: #d4ebff;}#sk-b0e53d85-b40f-42ac-8d48-21c3840ff0bf div.sk-label input.sk-toggleable__control:checked~label.sk-toggleable__label {background-color: #d4ebff;}#sk-b0e53d85-b40f-42ac-8d48-21c3840ff0bf input.sk-hidden--visually {border: 0;clip: rect(1px 1px 1px 1px);clip: rect(1px, 1px, 1px, 1px);height: 1px;margin: -1px;overflow: hidden;padding: 0;position: absolute;width: 1px;}#sk-b0e53d85-b40f-42ac-8d48-21c3840ff0bf div.sk-estimator {font-family: monospace;background-color: #f0f8ff;border: 1px dotted black;border-radius: 0.25em;box-sizing: border-box;margin-bottom: 0.5em;}#sk-b0e53d85-b40f-42ac-8d48-21c3840ff0bf div.sk-estimator:hover {background-color: #d4ebff;}#sk-b0e53d85-b40f-42ac-8d48-21c3840ff0bf div.sk-parallel-item::after {content: \"\";width: 100%;border-bottom: 1px solid gray;flex-grow: 1;}#sk-b0e53d85-b40f-42ac-8d48-21c3840ff0bf div.sk-label:hover label.sk-toggleable__label {background-color: #d4ebff;}#sk-b0e53d85-b40f-42ac-8d48-21c3840ff0bf div.sk-serial::before {content: \"\";position: absolute;border-left: 1px solid gray;box-sizing: border-box;top: 2em;bottom: 0;left: 50%;}#sk-b0e53d85-b40f-42ac-8d48-21c3840ff0bf div.sk-serial {display: flex;flex-direction: column;align-items: center;background-color: white;padding-right: 0.2em;padding-left: 0.2em;}#sk-b0e53d85-b40f-42ac-8d48-21c3840ff0bf div.sk-item {z-index: 1;}#sk-b0e53d85-b40f-42ac-8d48-21c3840ff0bf div.sk-parallel {display: flex;align-items: stretch;justify-content: center;background-color: white;}#sk-b0e53d85-b40f-42ac-8d48-21c3840ff0bf div.sk-parallel::before {content: \"\";position: absolute;border-left: 1px solid gray;box-sizing: border-box;top: 2em;bottom: 0;left: 50%;}#sk-b0e53d85-b40f-42ac-8d48-21c3840ff0bf div.sk-parallel-item {display: flex;flex-direction: column;position: relative;background-color: white;}#sk-b0e53d85-b40f-42ac-8d48-21c3840ff0bf div.sk-parallel-item:first-child::after {align-self: flex-end;width: 50%;}#sk-b0e53d85-b40f-42ac-8d48-21c3840ff0bf div.sk-parallel-item:last-child::after {align-self: flex-start;width: 50%;}#sk-b0e53d85-b40f-42ac-8d48-21c3840ff0bf div.sk-parallel-item:only-child::after {width: 0;}#sk-b0e53d85-b40f-42ac-8d48-21c3840ff0bf div.sk-dashed-wrapped {border: 1px dashed gray;margin: 0 0.4em 0.5em 0.4em;box-sizing: border-box;padding-bottom: 0.4em;background-color: white;position: relative;}#sk-b0e53d85-b40f-42ac-8d48-21c3840ff0bf div.sk-label label {font-family: monospace;font-weight: bold;background-color: white;display: inline-block;line-height: 1.2em;}#sk-b0e53d85-b40f-42ac-8d48-21c3840ff0bf div.sk-label-container {position: relative;z-index: 2;text-align: center;}#sk-b0e53d85-b40f-42ac-8d48-21c3840ff0bf div.sk-container {/* jupyter's `normalize.less` sets `[hidden] { display: none; }` but bootstrap.min.css set `[hidden] { display: none !important; }` so we also need the `!important` here to be able to override the default hidden behavior on the sphinx rendered scikit-learn.org. See: https://github.com/scikit-learn/scikit-learn/issues/21755 */display: inline-block !important;position: relative;}#sk-b0e53d85-b40f-42ac-8d48-21c3840ff0bf div.sk-text-repr-fallback {display: none;}</style><div id=\"sk-b0e53d85-b40f-42ac-8d48-21c3840ff0bf\" class=\"sk-top-container\"><div class=\"sk-text-repr-fallback\"><pre>BaggingRegressor(base_estimator=SVR())</pre><b>Please rerun this cell to show the HTML repr or trust the notebook.</b></div><div class=\"sk-container\" hidden><div class=\"sk-item sk-dashed-wrapped\"><div class=\"sk-label-container\"><div class=\"sk-label sk-toggleable\"><input class=\"sk-toggleable__control sk-hidden--visually\" id=\"3a93eaf8-e161-4ea2-91c7-5168becd8945\" type=\"checkbox\" ><label for=\"3a93eaf8-e161-4ea2-91c7-5168becd8945\" class=\"sk-toggleable__label sk-toggleable__label-arrow\">BaggingRegressor</label><div class=\"sk-toggleable__content\"><pre>BaggingRegressor(base_estimator=SVR())</pre></div></div></div><div class=\"sk-parallel\"><div class=\"sk-parallel-item\"><div class=\"sk-item\"><div class=\"sk-serial\"><div class=\"sk-item\"><div class=\"sk-estimator sk-toggleable\"><input class=\"sk-toggleable__control sk-hidden--visually\" id=\"25f6a622-d741-48ed-abfd-77f0392bf19d\" type=\"checkbox\" ><label for=\"25f6a622-d741-48ed-abfd-77f0392bf19d\" class=\"sk-toggleable__label sk-toggleable__label-arrow\">SVR</label><div class=\"sk-toggleable__content\"><pre>SVR()</pre></div></div></div></div></div></div></div></div></div></div>"
            ]
          },
          "metadata": {},
          "execution_count": 127
        }
      ]
    },
    {
      "cell_type": "code",
      "source": [
        "pipe_B = make_pipeline(trans,model_B)\n",
        "pipe_B"
      ],
      "metadata": {
        "colab": {
          "base_uri": "https://localhost:8080/",
          "height": 233
        },
        "id": "NlC2kteq85e8",
        "outputId": "c17c3f0f-c246-4059-c172-67b830f6cbcd"
      },
      "execution_count": null,
      "outputs": [
        {
          "output_type": "execute_result",
          "data": {
            "text/plain": [
              "Pipeline(steps=[('columntransformer',\n",
              "                 ColumnTransformer(remainder='passthrough',\n",
              "                                   transformers=[('powertransformer',\n",
              "                                                  PowerTransformer(), [0, 1]),\n",
              "                                                 ('kbinsdiscretizer',\n",
              "                                                  KBinsDiscretizer(), [2]),\n",
              "                                                 ('binarizer',\n",
              "                                                  Binarizer(threshold=55),\n",
              "                                                  [3, 4, 8])])),\n",
              "                ('baggingregressor', BaggingRegressor(base_estimator=SVR()))])"
            ],
            "text/html": [
              "<style>#sk-575b3617-2fd8-4f66-a906-06b84a032141 {color: black;background-color: white;}#sk-575b3617-2fd8-4f66-a906-06b84a032141 pre{padding: 0;}#sk-575b3617-2fd8-4f66-a906-06b84a032141 div.sk-toggleable {background-color: white;}#sk-575b3617-2fd8-4f66-a906-06b84a032141 label.sk-toggleable__label {cursor: pointer;display: block;width: 100%;margin-bottom: 0;padding: 0.3em;box-sizing: border-box;text-align: center;}#sk-575b3617-2fd8-4f66-a906-06b84a032141 label.sk-toggleable__label-arrow:before {content: \"▸\";float: left;margin-right: 0.25em;color: #696969;}#sk-575b3617-2fd8-4f66-a906-06b84a032141 label.sk-toggleable__label-arrow:hover:before {color: black;}#sk-575b3617-2fd8-4f66-a906-06b84a032141 div.sk-estimator:hover label.sk-toggleable__label-arrow:before {color: black;}#sk-575b3617-2fd8-4f66-a906-06b84a032141 div.sk-toggleable__content {max-height: 0;max-width: 0;overflow: hidden;text-align: left;background-color: #f0f8ff;}#sk-575b3617-2fd8-4f66-a906-06b84a032141 div.sk-toggleable__content pre {margin: 0.2em;color: black;border-radius: 0.25em;background-color: #f0f8ff;}#sk-575b3617-2fd8-4f66-a906-06b84a032141 input.sk-toggleable__control:checked~div.sk-toggleable__content {max-height: 200px;max-width: 100%;overflow: auto;}#sk-575b3617-2fd8-4f66-a906-06b84a032141 input.sk-toggleable__control:checked~label.sk-toggleable__label-arrow:before {content: \"▾\";}#sk-575b3617-2fd8-4f66-a906-06b84a032141 div.sk-estimator input.sk-toggleable__control:checked~label.sk-toggleable__label {background-color: #d4ebff;}#sk-575b3617-2fd8-4f66-a906-06b84a032141 div.sk-label input.sk-toggleable__control:checked~label.sk-toggleable__label {background-color: #d4ebff;}#sk-575b3617-2fd8-4f66-a906-06b84a032141 input.sk-hidden--visually {border: 0;clip: rect(1px 1px 1px 1px);clip: rect(1px, 1px, 1px, 1px);height: 1px;margin: -1px;overflow: hidden;padding: 0;position: absolute;width: 1px;}#sk-575b3617-2fd8-4f66-a906-06b84a032141 div.sk-estimator {font-family: monospace;background-color: #f0f8ff;border: 1px dotted black;border-radius: 0.25em;box-sizing: border-box;margin-bottom: 0.5em;}#sk-575b3617-2fd8-4f66-a906-06b84a032141 div.sk-estimator:hover {background-color: #d4ebff;}#sk-575b3617-2fd8-4f66-a906-06b84a032141 div.sk-parallel-item::after {content: \"\";width: 100%;border-bottom: 1px solid gray;flex-grow: 1;}#sk-575b3617-2fd8-4f66-a906-06b84a032141 div.sk-label:hover label.sk-toggleable__label {background-color: #d4ebff;}#sk-575b3617-2fd8-4f66-a906-06b84a032141 div.sk-serial::before {content: \"\";position: absolute;border-left: 1px solid gray;box-sizing: border-box;top: 2em;bottom: 0;left: 50%;}#sk-575b3617-2fd8-4f66-a906-06b84a032141 div.sk-serial {display: flex;flex-direction: column;align-items: center;background-color: white;padding-right: 0.2em;padding-left: 0.2em;}#sk-575b3617-2fd8-4f66-a906-06b84a032141 div.sk-item {z-index: 1;}#sk-575b3617-2fd8-4f66-a906-06b84a032141 div.sk-parallel {display: flex;align-items: stretch;justify-content: center;background-color: white;}#sk-575b3617-2fd8-4f66-a906-06b84a032141 div.sk-parallel::before {content: \"\";position: absolute;border-left: 1px solid gray;box-sizing: border-box;top: 2em;bottom: 0;left: 50%;}#sk-575b3617-2fd8-4f66-a906-06b84a032141 div.sk-parallel-item {display: flex;flex-direction: column;position: relative;background-color: white;}#sk-575b3617-2fd8-4f66-a906-06b84a032141 div.sk-parallel-item:first-child::after {align-self: flex-end;width: 50%;}#sk-575b3617-2fd8-4f66-a906-06b84a032141 div.sk-parallel-item:last-child::after {align-self: flex-start;width: 50%;}#sk-575b3617-2fd8-4f66-a906-06b84a032141 div.sk-parallel-item:only-child::after {width: 0;}#sk-575b3617-2fd8-4f66-a906-06b84a032141 div.sk-dashed-wrapped {border: 1px dashed gray;margin: 0 0.4em 0.5em 0.4em;box-sizing: border-box;padding-bottom: 0.4em;background-color: white;position: relative;}#sk-575b3617-2fd8-4f66-a906-06b84a032141 div.sk-label label {font-family: monospace;font-weight: bold;background-color: white;display: inline-block;line-height: 1.2em;}#sk-575b3617-2fd8-4f66-a906-06b84a032141 div.sk-label-container {position: relative;z-index: 2;text-align: center;}#sk-575b3617-2fd8-4f66-a906-06b84a032141 div.sk-container {/* jupyter's `normalize.less` sets `[hidden] { display: none; }` but bootstrap.min.css set `[hidden] { display: none !important; }` so we also need the `!important` here to be able to override the default hidden behavior on the sphinx rendered scikit-learn.org. See: https://github.com/scikit-learn/scikit-learn/issues/21755 */display: inline-block !important;position: relative;}#sk-575b3617-2fd8-4f66-a906-06b84a032141 div.sk-text-repr-fallback {display: none;}</style><div id=\"sk-575b3617-2fd8-4f66-a906-06b84a032141\" class=\"sk-top-container\"><div class=\"sk-text-repr-fallback\"><pre>Pipeline(steps=[(&#x27;columntransformer&#x27;,\n",
              "                 ColumnTransformer(remainder=&#x27;passthrough&#x27;,\n",
              "                                   transformers=[(&#x27;powertransformer&#x27;,\n",
              "                                                  PowerTransformer(), [0, 1]),\n",
              "                                                 (&#x27;kbinsdiscretizer&#x27;,\n",
              "                                                  KBinsDiscretizer(), [2]),\n",
              "                                                 (&#x27;binarizer&#x27;,\n",
              "                                                  Binarizer(threshold=55),\n",
              "                                                  [3, 4, 8])])),\n",
              "                (&#x27;baggingregressor&#x27;, BaggingRegressor(base_estimator=SVR()))])</pre><b>Please rerun this cell to show the HTML repr or trust the notebook.</b></div><div class=\"sk-container\" hidden><div class=\"sk-item sk-dashed-wrapped\"><div class=\"sk-label-container\"><div class=\"sk-label sk-toggleable\"><input class=\"sk-toggleable__control sk-hidden--visually\" id=\"23a9d7cf-6ac2-4ab4-8e9a-49579fc353bd\" type=\"checkbox\" ><label for=\"23a9d7cf-6ac2-4ab4-8e9a-49579fc353bd\" class=\"sk-toggleable__label sk-toggleable__label-arrow\">Pipeline</label><div class=\"sk-toggleable__content\"><pre>Pipeline(steps=[(&#x27;columntransformer&#x27;,\n",
              "                 ColumnTransformer(remainder=&#x27;passthrough&#x27;,\n",
              "                                   transformers=[(&#x27;powertransformer&#x27;,\n",
              "                                                  PowerTransformer(), [0, 1]),\n",
              "                                                 (&#x27;kbinsdiscretizer&#x27;,\n",
              "                                                  KBinsDiscretizer(), [2]),\n",
              "                                                 (&#x27;binarizer&#x27;,\n",
              "                                                  Binarizer(threshold=55),\n",
              "                                                  [3, 4, 8])])),\n",
              "                (&#x27;baggingregressor&#x27;, BaggingRegressor(base_estimator=SVR()))])</pre></div></div></div><div class=\"sk-serial\"><div class=\"sk-item sk-dashed-wrapped\"><div class=\"sk-label-container\"><div class=\"sk-label sk-toggleable\"><input class=\"sk-toggleable__control sk-hidden--visually\" id=\"08bcd068-29cb-41f3-ac83-c2547467ee85\" type=\"checkbox\" ><label for=\"08bcd068-29cb-41f3-ac83-c2547467ee85\" class=\"sk-toggleable__label sk-toggleable__label-arrow\">columntransformer: ColumnTransformer</label><div class=\"sk-toggleable__content\"><pre>ColumnTransformer(remainder=&#x27;passthrough&#x27;,\n",
              "                  transformers=[(&#x27;powertransformer&#x27;, PowerTransformer(),\n",
              "                                 [0, 1]),\n",
              "                                (&#x27;kbinsdiscretizer&#x27;, KBinsDiscretizer(), [2]),\n",
              "                                (&#x27;binarizer&#x27;, Binarizer(threshold=55),\n",
              "                                 [3, 4, 8])])</pre></div></div></div><div class=\"sk-parallel\"><div class=\"sk-parallel-item\"><div class=\"sk-item\"><div class=\"sk-label-container\"><div class=\"sk-label sk-toggleable\"><input class=\"sk-toggleable__control sk-hidden--visually\" id=\"b578e52f-4b25-422f-9ec1-97a09abcfc23\" type=\"checkbox\" ><label for=\"b578e52f-4b25-422f-9ec1-97a09abcfc23\" class=\"sk-toggleable__label sk-toggleable__label-arrow\">powertransformer</label><div class=\"sk-toggleable__content\"><pre>[0, 1]</pre></div></div></div><div class=\"sk-serial\"><div class=\"sk-item\"><div class=\"sk-estimator sk-toggleable\"><input class=\"sk-toggleable__control sk-hidden--visually\" id=\"b90553e4-0a9e-4645-b0e9-aa718f68516c\" type=\"checkbox\" ><label for=\"b90553e4-0a9e-4645-b0e9-aa718f68516c\" class=\"sk-toggleable__label sk-toggleable__label-arrow\">PowerTransformer</label><div class=\"sk-toggleable__content\"><pre>PowerTransformer()</pre></div></div></div></div></div></div><div class=\"sk-parallel-item\"><div class=\"sk-item\"><div class=\"sk-label-container\"><div class=\"sk-label sk-toggleable\"><input class=\"sk-toggleable__control sk-hidden--visually\" id=\"80b80e18-ae34-40bc-a52f-5d71f72747f2\" type=\"checkbox\" ><label for=\"80b80e18-ae34-40bc-a52f-5d71f72747f2\" class=\"sk-toggleable__label sk-toggleable__label-arrow\">kbinsdiscretizer</label><div class=\"sk-toggleable__content\"><pre>[2]</pre></div></div></div><div class=\"sk-serial\"><div class=\"sk-item\"><div class=\"sk-estimator sk-toggleable\"><input class=\"sk-toggleable__control sk-hidden--visually\" id=\"8a37c527-000b-4d81-805b-60f138c18cc1\" type=\"checkbox\" ><label for=\"8a37c527-000b-4d81-805b-60f138c18cc1\" class=\"sk-toggleable__label sk-toggleable__label-arrow\">KBinsDiscretizer</label><div class=\"sk-toggleable__content\"><pre>KBinsDiscretizer()</pre></div></div></div></div></div></div><div class=\"sk-parallel-item\"><div class=\"sk-item\"><div class=\"sk-label-container\"><div class=\"sk-label sk-toggleable\"><input class=\"sk-toggleable__control sk-hidden--visually\" id=\"6e4df41e-c4f8-4cba-871b-0626bb604314\" type=\"checkbox\" ><label for=\"6e4df41e-c4f8-4cba-871b-0626bb604314\" class=\"sk-toggleable__label sk-toggleable__label-arrow\">binarizer</label><div class=\"sk-toggleable__content\"><pre>[3, 4, 8]</pre></div></div></div><div class=\"sk-serial\"><div class=\"sk-item\"><div class=\"sk-estimator sk-toggleable\"><input class=\"sk-toggleable__control sk-hidden--visually\" id=\"d32584a9-3ec3-43ed-8786-d18d0693617c\" type=\"checkbox\" ><label for=\"d32584a9-3ec3-43ed-8786-d18d0693617c\" class=\"sk-toggleable__label sk-toggleable__label-arrow\">Binarizer</label><div class=\"sk-toggleable__content\"><pre>Binarizer(threshold=55)</pre></div></div></div></div></div></div><div class=\"sk-parallel-item\"><div class=\"sk-item\"><div class=\"sk-label-container\"><div class=\"sk-label sk-toggleable\"><input class=\"sk-toggleable__control sk-hidden--visually\" id=\"1848ce46-bffb-44af-be94-b9894092b898\" type=\"checkbox\" ><label for=\"1848ce46-bffb-44af-be94-b9894092b898\" class=\"sk-toggleable__label sk-toggleable__label-arrow\">remainder</label><div class=\"sk-toggleable__content\"><pre>[&#x27;idle_time&#x27;, &#x27;idle_men&#x27;, &#x27;no_of_style_change&#x27;]</pre></div></div></div><div class=\"sk-serial\"><div class=\"sk-item\"><div class=\"sk-estimator sk-toggleable\"><input class=\"sk-toggleable__control sk-hidden--visually\" id=\"c756156f-3608-4e29-a608-54b7a1a80bf0\" type=\"checkbox\" ><label for=\"c756156f-3608-4e29-a608-54b7a1a80bf0\" class=\"sk-toggleable__label sk-toggleable__label-arrow\">passthrough</label><div class=\"sk-toggleable__content\"><pre>passthrough</pre></div></div></div></div></div></div></div></div><div class=\"sk-item sk-dashed-wrapped\"><div class=\"sk-label-container\"><div class=\"sk-label sk-toggleable\"><input class=\"sk-toggleable__control sk-hidden--visually\" id=\"79234859-d3d5-467c-a834-14f90ab2782f\" type=\"checkbox\" ><label for=\"79234859-d3d5-467c-a834-14f90ab2782f\" class=\"sk-toggleable__label sk-toggleable__label-arrow\">baggingregressor: BaggingRegressor</label><div class=\"sk-toggleable__content\"><pre>BaggingRegressor(base_estimator=SVR())</pre></div></div></div><div class=\"sk-parallel\"><div class=\"sk-parallel-item\"><div class=\"sk-item\"><div class=\"sk-serial\"><div class=\"sk-item\"><div class=\"sk-estimator sk-toggleable\"><input class=\"sk-toggleable__control sk-hidden--visually\" id=\"4c750880-706a-47a8-b85b-607547dee0a7\" type=\"checkbox\" ><label for=\"4c750880-706a-47a8-b85b-607547dee0a7\" class=\"sk-toggleable__label sk-toggleable__label-arrow\">SVR</label><div class=\"sk-toggleable__content\"><pre>SVR()</pre></div></div></div></div></div></div></div></div></div></div></div></div>"
            ]
          },
          "metadata": {},
          "execution_count": 128
        }
      ]
    },
    {
      "cell_type": "code",
      "source": [
        "pipe_B.fit(x_train,y_train)"
      ],
      "metadata": {
        "colab": {
          "base_uri": "https://localhost:8080/",
          "height": 288
        },
        "id": "4Lt3KuU89V5q",
        "outputId": "ed5e5c5c-8a4f-4a4d-dfcb-4c10292c7b89"
      },
      "execution_count": null,
      "outputs": [
        {
          "output_type": "stream",
          "name": "stderr",
          "text": [
            "/usr/local/lib/python3.7/dist-packages/sklearn/ensemble/_bagging.py:429: DataConversionWarning: A column-vector y was passed when a 1d array was expected. Please change the shape of y to (n_samples, ), for example using ravel().\n",
            "  return column_or_1d(y, warn=True)\n"
          ]
        },
        {
          "output_type": "execute_result",
          "data": {
            "text/plain": [
              "Pipeline(steps=[('columntransformer',\n",
              "                 ColumnTransformer(remainder='passthrough',\n",
              "                                   transformers=[('powertransformer',\n",
              "                                                  PowerTransformer(), [0, 1]),\n",
              "                                                 ('kbinsdiscretizer',\n",
              "                                                  KBinsDiscretizer(), [2]),\n",
              "                                                 ('binarizer',\n",
              "                                                  Binarizer(threshold=55),\n",
              "                                                  [3, 4, 8])])),\n",
              "                ('baggingregressor', BaggingRegressor(base_estimator=SVR()))])"
            ],
            "text/html": [
              "<style>#sk-3985d118-0023-4d47-8489-1fe0d1b86d7e {color: black;background-color: white;}#sk-3985d118-0023-4d47-8489-1fe0d1b86d7e pre{padding: 0;}#sk-3985d118-0023-4d47-8489-1fe0d1b86d7e div.sk-toggleable {background-color: white;}#sk-3985d118-0023-4d47-8489-1fe0d1b86d7e label.sk-toggleable__label {cursor: pointer;display: block;width: 100%;margin-bottom: 0;padding: 0.3em;box-sizing: border-box;text-align: center;}#sk-3985d118-0023-4d47-8489-1fe0d1b86d7e label.sk-toggleable__label-arrow:before {content: \"▸\";float: left;margin-right: 0.25em;color: #696969;}#sk-3985d118-0023-4d47-8489-1fe0d1b86d7e label.sk-toggleable__label-arrow:hover:before {color: black;}#sk-3985d118-0023-4d47-8489-1fe0d1b86d7e div.sk-estimator:hover label.sk-toggleable__label-arrow:before {color: black;}#sk-3985d118-0023-4d47-8489-1fe0d1b86d7e div.sk-toggleable__content {max-height: 0;max-width: 0;overflow: hidden;text-align: left;background-color: #f0f8ff;}#sk-3985d118-0023-4d47-8489-1fe0d1b86d7e div.sk-toggleable__content pre {margin: 0.2em;color: black;border-radius: 0.25em;background-color: #f0f8ff;}#sk-3985d118-0023-4d47-8489-1fe0d1b86d7e input.sk-toggleable__control:checked~div.sk-toggleable__content {max-height: 200px;max-width: 100%;overflow: auto;}#sk-3985d118-0023-4d47-8489-1fe0d1b86d7e input.sk-toggleable__control:checked~label.sk-toggleable__label-arrow:before {content: \"▾\";}#sk-3985d118-0023-4d47-8489-1fe0d1b86d7e div.sk-estimator input.sk-toggleable__control:checked~label.sk-toggleable__label {background-color: #d4ebff;}#sk-3985d118-0023-4d47-8489-1fe0d1b86d7e div.sk-label input.sk-toggleable__control:checked~label.sk-toggleable__label {background-color: #d4ebff;}#sk-3985d118-0023-4d47-8489-1fe0d1b86d7e input.sk-hidden--visually {border: 0;clip: rect(1px 1px 1px 1px);clip: rect(1px, 1px, 1px, 1px);height: 1px;margin: -1px;overflow: hidden;padding: 0;position: absolute;width: 1px;}#sk-3985d118-0023-4d47-8489-1fe0d1b86d7e div.sk-estimator {font-family: monospace;background-color: #f0f8ff;border: 1px dotted black;border-radius: 0.25em;box-sizing: border-box;margin-bottom: 0.5em;}#sk-3985d118-0023-4d47-8489-1fe0d1b86d7e div.sk-estimator:hover {background-color: #d4ebff;}#sk-3985d118-0023-4d47-8489-1fe0d1b86d7e div.sk-parallel-item::after {content: \"\";width: 100%;border-bottom: 1px solid gray;flex-grow: 1;}#sk-3985d118-0023-4d47-8489-1fe0d1b86d7e div.sk-label:hover label.sk-toggleable__label {background-color: #d4ebff;}#sk-3985d118-0023-4d47-8489-1fe0d1b86d7e div.sk-serial::before {content: \"\";position: absolute;border-left: 1px solid gray;box-sizing: border-box;top: 2em;bottom: 0;left: 50%;}#sk-3985d118-0023-4d47-8489-1fe0d1b86d7e div.sk-serial {display: flex;flex-direction: column;align-items: center;background-color: white;padding-right: 0.2em;padding-left: 0.2em;}#sk-3985d118-0023-4d47-8489-1fe0d1b86d7e div.sk-item {z-index: 1;}#sk-3985d118-0023-4d47-8489-1fe0d1b86d7e div.sk-parallel {display: flex;align-items: stretch;justify-content: center;background-color: white;}#sk-3985d118-0023-4d47-8489-1fe0d1b86d7e div.sk-parallel::before {content: \"\";position: absolute;border-left: 1px solid gray;box-sizing: border-box;top: 2em;bottom: 0;left: 50%;}#sk-3985d118-0023-4d47-8489-1fe0d1b86d7e div.sk-parallel-item {display: flex;flex-direction: column;position: relative;background-color: white;}#sk-3985d118-0023-4d47-8489-1fe0d1b86d7e div.sk-parallel-item:first-child::after {align-self: flex-end;width: 50%;}#sk-3985d118-0023-4d47-8489-1fe0d1b86d7e div.sk-parallel-item:last-child::after {align-self: flex-start;width: 50%;}#sk-3985d118-0023-4d47-8489-1fe0d1b86d7e div.sk-parallel-item:only-child::after {width: 0;}#sk-3985d118-0023-4d47-8489-1fe0d1b86d7e div.sk-dashed-wrapped {border: 1px dashed gray;margin: 0 0.4em 0.5em 0.4em;box-sizing: border-box;padding-bottom: 0.4em;background-color: white;position: relative;}#sk-3985d118-0023-4d47-8489-1fe0d1b86d7e div.sk-label label {font-family: monospace;font-weight: bold;background-color: white;display: inline-block;line-height: 1.2em;}#sk-3985d118-0023-4d47-8489-1fe0d1b86d7e div.sk-label-container {position: relative;z-index: 2;text-align: center;}#sk-3985d118-0023-4d47-8489-1fe0d1b86d7e div.sk-container {/* jupyter's `normalize.less` sets `[hidden] { display: none; }` but bootstrap.min.css set `[hidden] { display: none !important; }` so we also need the `!important` here to be able to override the default hidden behavior on the sphinx rendered scikit-learn.org. See: https://github.com/scikit-learn/scikit-learn/issues/21755 */display: inline-block !important;position: relative;}#sk-3985d118-0023-4d47-8489-1fe0d1b86d7e div.sk-text-repr-fallback {display: none;}</style><div id=\"sk-3985d118-0023-4d47-8489-1fe0d1b86d7e\" class=\"sk-top-container\"><div class=\"sk-text-repr-fallback\"><pre>Pipeline(steps=[(&#x27;columntransformer&#x27;,\n",
              "                 ColumnTransformer(remainder=&#x27;passthrough&#x27;,\n",
              "                                   transformers=[(&#x27;powertransformer&#x27;,\n",
              "                                                  PowerTransformer(), [0, 1]),\n",
              "                                                 (&#x27;kbinsdiscretizer&#x27;,\n",
              "                                                  KBinsDiscretizer(), [2]),\n",
              "                                                 (&#x27;binarizer&#x27;,\n",
              "                                                  Binarizer(threshold=55),\n",
              "                                                  [3, 4, 8])])),\n",
              "                (&#x27;baggingregressor&#x27;, BaggingRegressor(base_estimator=SVR()))])</pre><b>Please rerun this cell to show the HTML repr or trust the notebook.</b></div><div class=\"sk-container\" hidden><div class=\"sk-item sk-dashed-wrapped\"><div class=\"sk-label-container\"><div class=\"sk-label sk-toggleable\"><input class=\"sk-toggleable__control sk-hidden--visually\" id=\"6bee964b-0ac7-4621-8b50-32c2da815a19\" type=\"checkbox\" ><label for=\"6bee964b-0ac7-4621-8b50-32c2da815a19\" class=\"sk-toggleable__label sk-toggleable__label-arrow\">Pipeline</label><div class=\"sk-toggleable__content\"><pre>Pipeline(steps=[(&#x27;columntransformer&#x27;,\n",
              "                 ColumnTransformer(remainder=&#x27;passthrough&#x27;,\n",
              "                                   transformers=[(&#x27;powertransformer&#x27;,\n",
              "                                                  PowerTransformer(), [0, 1]),\n",
              "                                                 (&#x27;kbinsdiscretizer&#x27;,\n",
              "                                                  KBinsDiscretizer(), [2]),\n",
              "                                                 (&#x27;binarizer&#x27;,\n",
              "                                                  Binarizer(threshold=55),\n",
              "                                                  [3, 4, 8])])),\n",
              "                (&#x27;baggingregressor&#x27;, BaggingRegressor(base_estimator=SVR()))])</pre></div></div></div><div class=\"sk-serial\"><div class=\"sk-item sk-dashed-wrapped\"><div class=\"sk-label-container\"><div class=\"sk-label sk-toggleable\"><input class=\"sk-toggleable__control sk-hidden--visually\" id=\"3ef725aa-641b-44e3-97ef-694d56dc49a0\" type=\"checkbox\" ><label for=\"3ef725aa-641b-44e3-97ef-694d56dc49a0\" class=\"sk-toggleable__label sk-toggleable__label-arrow\">columntransformer: ColumnTransformer</label><div class=\"sk-toggleable__content\"><pre>ColumnTransformer(remainder=&#x27;passthrough&#x27;,\n",
              "                  transformers=[(&#x27;powertransformer&#x27;, PowerTransformer(),\n",
              "                                 [0, 1]),\n",
              "                                (&#x27;kbinsdiscretizer&#x27;, KBinsDiscretizer(), [2]),\n",
              "                                (&#x27;binarizer&#x27;, Binarizer(threshold=55),\n",
              "                                 [3, 4, 8])])</pre></div></div></div><div class=\"sk-parallel\"><div class=\"sk-parallel-item\"><div class=\"sk-item\"><div class=\"sk-label-container\"><div class=\"sk-label sk-toggleable\"><input class=\"sk-toggleable__control sk-hidden--visually\" id=\"47778e41-f703-4dc0-9d64-f15aac2f033e\" type=\"checkbox\" ><label for=\"47778e41-f703-4dc0-9d64-f15aac2f033e\" class=\"sk-toggleable__label sk-toggleable__label-arrow\">powertransformer</label><div class=\"sk-toggleable__content\"><pre>[0, 1]</pre></div></div></div><div class=\"sk-serial\"><div class=\"sk-item\"><div class=\"sk-estimator sk-toggleable\"><input class=\"sk-toggleable__control sk-hidden--visually\" id=\"87787e48-f0cd-4dae-8766-9d938d97efda\" type=\"checkbox\" ><label for=\"87787e48-f0cd-4dae-8766-9d938d97efda\" class=\"sk-toggleable__label sk-toggleable__label-arrow\">PowerTransformer</label><div class=\"sk-toggleable__content\"><pre>PowerTransformer()</pre></div></div></div></div></div></div><div class=\"sk-parallel-item\"><div class=\"sk-item\"><div class=\"sk-label-container\"><div class=\"sk-label sk-toggleable\"><input class=\"sk-toggleable__control sk-hidden--visually\" id=\"ad24a92a-5f20-4d87-8920-18aa6b251d39\" type=\"checkbox\" ><label for=\"ad24a92a-5f20-4d87-8920-18aa6b251d39\" class=\"sk-toggleable__label sk-toggleable__label-arrow\">kbinsdiscretizer</label><div class=\"sk-toggleable__content\"><pre>[2]</pre></div></div></div><div class=\"sk-serial\"><div class=\"sk-item\"><div class=\"sk-estimator sk-toggleable\"><input class=\"sk-toggleable__control sk-hidden--visually\" id=\"712a3637-6a91-4f68-9420-a05ca7b6abc1\" type=\"checkbox\" ><label for=\"712a3637-6a91-4f68-9420-a05ca7b6abc1\" class=\"sk-toggleable__label sk-toggleable__label-arrow\">KBinsDiscretizer</label><div class=\"sk-toggleable__content\"><pre>KBinsDiscretizer()</pre></div></div></div></div></div></div><div class=\"sk-parallel-item\"><div class=\"sk-item\"><div class=\"sk-label-container\"><div class=\"sk-label sk-toggleable\"><input class=\"sk-toggleable__control sk-hidden--visually\" id=\"f1213e8d-9e2a-444d-99db-17285753d7c0\" type=\"checkbox\" ><label for=\"f1213e8d-9e2a-444d-99db-17285753d7c0\" class=\"sk-toggleable__label sk-toggleable__label-arrow\">binarizer</label><div class=\"sk-toggleable__content\"><pre>[3, 4, 8]</pre></div></div></div><div class=\"sk-serial\"><div class=\"sk-item\"><div class=\"sk-estimator sk-toggleable\"><input class=\"sk-toggleable__control sk-hidden--visually\" id=\"baef2292-0453-4567-a1a2-a8d1f34b1fb9\" type=\"checkbox\" ><label for=\"baef2292-0453-4567-a1a2-a8d1f34b1fb9\" class=\"sk-toggleable__label sk-toggleable__label-arrow\">Binarizer</label><div class=\"sk-toggleable__content\"><pre>Binarizer(threshold=55)</pre></div></div></div></div></div></div><div class=\"sk-parallel-item\"><div class=\"sk-item\"><div class=\"sk-label-container\"><div class=\"sk-label sk-toggleable\"><input class=\"sk-toggleable__control sk-hidden--visually\" id=\"db1d51da-e790-4fa4-8b22-75a9565857c6\" type=\"checkbox\" ><label for=\"db1d51da-e790-4fa4-8b22-75a9565857c6\" class=\"sk-toggleable__label sk-toggleable__label-arrow\">remainder</label><div class=\"sk-toggleable__content\"><pre>[&#x27;idle_time&#x27;, &#x27;idle_men&#x27;, &#x27;no_of_style_change&#x27;]</pre></div></div></div><div class=\"sk-serial\"><div class=\"sk-item\"><div class=\"sk-estimator sk-toggleable\"><input class=\"sk-toggleable__control sk-hidden--visually\" id=\"9fae6cd2-815c-4ea5-8f0c-9bea143b38d1\" type=\"checkbox\" ><label for=\"9fae6cd2-815c-4ea5-8f0c-9bea143b38d1\" class=\"sk-toggleable__label sk-toggleable__label-arrow\">passthrough</label><div class=\"sk-toggleable__content\"><pre>passthrough</pre></div></div></div></div></div></div></div></div><div class=\"sk-item sk-dashed-wrapped\"><div class=\"sk-label-container\"><div class=\"sk-label sk-toggleable\"><input class=\"sk-toggleable__control sk-hidden--visually\" id=\"1a85561a-81f4-4dc1-8b49-b84213a3b12e\" type=\"checkbox\" ><label for=\"1a85561a-81f4-4dc1-8b49-b84213a3b12e\" class=\"sk-toggleable__label sk-toggleable__label-arrow\">baggingregressor: BaggingRegressor</label><div class=\"sk-toggleable__content\"><pre>BaggingRegressor(base_estimator=SVR())</pre></div></div></div><div class=\"sk-parallel\"><div class=\"sk-parallel-item\"><div class=\"sk-item\"><div class=\"sk-serial\"><div class=\"sk-item\"><div class=\"sk-estimator sk-toggleable\"><input class=\"sk-toggleable__control sk-hidden--visually\" id=\"10290904-36f2-4af0-8849-3c040fc17fec\" type=\"checkbox\" ><label for=\"10290904-36f2-4af0-8849-3c040fc17fec\" class=\"sk-toggleable__label sk-toggleable__label-arrow\">SVR</label><div class=\"sk-toggleable__content\"><pre>SVR()</pre></div></div></div></div></div></div></div></div></div></div></div></div>"
            ]
          },
          "metadata": {},
          "execution_count": 129
        }
      ]
    },
    {
      "cell_type": "code",
      "source": [
        "pred_B = pipe_B.predict(x_test)"
      ],
      "metadata": {
        "id": "v195KutU9anv"
      },
      "execution_count": null,
      "outputs": []
    },
    {
      "cell_type": "code",
      "source": [
        "mean_squared_error(pred_B,y_test)"
      ],
      "metadata": {
        "colab": {
          "base_uri": "https://localhost:8080/"
        },
        "id": "9UTADrxU9avf",
        "outputId": "dfe87ff3-7eea-408e-9ccc-6b426ae5c504"
      },
      "execution_count": null,
      "outputs": [
        {
          "output_type": "execute_result",
          "data": {
            "text/plain": [
              "0.01623450189388459"
            ]
          },
          "metadata": {},
          "execution_count": 131
        }
      ]
    },
    {
      "cell_type": "code",
      "source": [
        "from sklearn.ensemble import RandomForestRegressor\n",
        "algorithm9 = RandomForestRegressor()\n",
        "algorithm10 = SVR()\n",
        "model_vi = VotingRegressor(estimators = [('x9',algorithm9),('x10',algorithm10)],verbose = True)\n",
        "model_vi"
      ],
      "metadata": {
        "colab": {
          "base_uri": "https://localhost:8080/",
          "height": 110
        },
        "id": "IqBWC6iQ9inK",
        "outputId": "d4efafbf-b1d5-4605-b58c-1ec4036e6e64"
      },
      "execution_count": null,
      "outputs": [
        {
          "output_type": "execute_result",
          "data": {
            "text/plain": [
              "VotingRegressor(estimators=[('x9', RandomForestRegressor()), ('x10', SVR())],\n",
              "                verbose=True)"
            ],
            "text/html": [
              "<style>#sk-91569485-b499-4d70-8dd4-c68dc43b2d4d {color: black;background-color: white;}#sk-91569485-b499-4d70-8dd4-c68dc43b2d4d pre{padding: 0;}#sk-91569485-b499-4d70-8dd4-c68dc43b2d4d div.sk-toggleable {background-color: white;}#sk-91569485-b499-4d70-8dd4-c68dc43b2d4d label.sk-toggleable__label {cursor: pointer;display: block;width: 100%;margin-bottom: 0;padding: 0.3em;box-sizing: border-box;text-align: center;}#sk-91569485-b499-4d70-8dd4-c68dc43b2d4d label.sk-toggleable__label-arrow:before {content: \"▸\";float: left;margin-right: 0.25em;color: #696969;}#sk-91569485-b499-4d70-8dd4-c68dc43b2d4d label.sk-toggleable__label-arrow:hover:before {color: black;}#sk-91569485-b499-4d70-8dd4-c68dc43b2d4d div.sk-estimator:hover label.sk-toggleable__label-arrow:before {color: black;}#sk-91569485-b499-4d70-8dd4-c68dc43b2d4d div.sk-toggleable__content {max-height: 0;max-width: 0;overflow: hidden;text-align: left;background-color: #f0f8ff;}#sk-91569485-b499-4d70-8dd4-c68dc43b2d4d div.sk-toggleable__content pre {margin: 0.2em;color: black;border-radius: 0.25em;background-color: #f0f8ff;}#sk-91569485-b499-4d70-8dd4-c68dc43b2d4d input.sk-toggleable__control:checked~div.sk-toggleable__content {max-height: 200px;max-width: 100%;overflow: auto;}#sk-91569485-b499-4d70-8dd4-c68dc43b2d4d input.sk-toggleable__control:checked~label.sk-toggleable__label-arrow:before {content: \"▾\";}#sk-91569485-b499-4d70-8dd4-c68dc43b2d4d div.sk-estimator input.sk-toggleable__control:checked~label.sk-toggleable__label {background-color: #d4ebff;}#sk-91569485-b499-4d70-8dd4-c68dc43b2d4d div.sk-label input.sk-toggleable__control:checked~label.sk-toggleable__label {background-color: #d4ebff;}#sk-91569485-b499-4d70-8dd4-c68dc43b2d4d input.sk-hidden--visually {border: 0;clip: rect(1px 1px 1px 1px);clip: rect(1px, 1px, 1px, 1px);height: 1px;margin: -1px;overflow: hidden;padding: 0;position: absolute;width: 1px;}#sk-91569485-b499-4d70-8dd4-c68dc43b2d4d div.sk-estimator {font-family: monospace;background-color: #f0f8ff;border: 1px dotted black;border-radius: 0.25em;box-sizing: border-box;margin-bottom: 0.5em;}#sk-91569485-b499-4d70-8dd4-c68dc43b2d4d div.sk-estimator:hover {background-color: #d4ebff;}#sk-91569485-b499-4d70-8dd4-c68dc43b2d4d div.sk-parallel-item::after {content: \"\";width: 100%;border-bottom: 1px solid gray;flex-grow: 1;}#sk-91569485-b499-4d70-8dd4-c68dc43b2d4d div.sk-label:hover label.sk-toggleable__label {background-color: #d4ebff;}#sk-91569485-b499-4d70-8dd4-c68dc43b2d4d div.sk-serial::before {content: \"\";position: absolute;border-left: 1px solid gray;box-sizing: border-box;top: 2em;bottom: 0;left: 50%;}#sk-91569485-b499-4d70-8dd4-c68dc43b2d4d div.sk-serial {display: flex;flex-direction: column;align-items: center;background-color: white;padding-right: 0.2em;padding-left: 0.2em;}#sk-91569485-b499-4d70-8dd4-c68dc43b2d4d div.sk-item {z-index: 1;}#sk-91569485-b499-4d70-8dd4-c68dc43b2d4d div.sk-parallel {display: flex;align-items: stretch;justify-content: center;background-color: white;}#sk-91569485-b499-4d70-8dd4-c68dc43b2d4d div.sk-parallel::before {content: \"\";position: absolute;border-left: 1px solid gray;box-sizing: border-box;top: 2em;bottom: 0;left: 50%;}#sk-91569485-b499-4d70-8dd4-c68dc43b2d4d div.sk-parallel-item {display: flex;flex-direction: column;position: relative;background-color: white;}#sk-91569485-b499-4d70-8dd4-c68dc43b2d4d div.sk-parallel-item:first-child::after {align-self: flex-end;width: 50%;}#sk-91569485-b499-4d70-8dd4-c68dc43b2d4d div.sk-parallel-item:last-child::after {align-self: flex-start;width: 50%;}#sk-91569485-b499-4d70-8dd4-c68dc43b2d4d div.sk-parallel-item:only-child::after {width: 0;}#sk-91569485-b499-4d70-8dd4-c68dc43b2d4d div.sk-dashed-wrapped {border: 1px dashed gray;margin: 0 0.4em 0.5em 0.4em;box-sizing: border-box;padding-bottom: 0.4em;background-color: white;position: relative;}#sk-91569485-b499-4d70-8dd4-c68dc43b2d4d div.sk-label label {font-family: monospace;font-weight: bold;background-color: white;display: inline-block;line-height: 1.2em;}#sk-91569485-b499-4d70-8dd4-c68dc43b2d4d div.sk-label-container {position: relative;z-index: 2;text-align: center;}#sk-91569485-b499-4d70-8dd4-c68dc43b2d4d div.sk-container {/* jupyter's `normalize.less` sets `[hidden] { display: none; }` but bootstrap.min.css set `[hidden] { display: none !important; }` so we also need the `!important` here to be able to override the default hidden behavior on the sphinx rendered scikit-learn.org. See: https://github.com/scikit-learn/scikit-learn/issues/21755 */display: inline-block !important;position: relative;}#sk-91569485-b499-4d70-8dd4-c68dc43b2d4d div.sk-text-repr-fallback {display: none;}</style><div id=\"sk-91569485-b499-4d70-8dd4-c68dc43b2d4d\" class=\"sk-top-container\"><div class=\"sk-text-repr-fallback\"><pre>VotingRegressor(estimators=[(&#x27;x9&#x27;, RandomForestRegressor()), (&#x27;x10&#x27;, SVR())],\n",
              "                verbose=True)</pre><b>Please rerun this cell to show the HTML repr or trust the notebook.</b></div><div class=\"sk-container\" hidden><div class=\"sk-item sk-dashed-wrapped\"><div class=\"sk-label-container\"><div class=\"sk-label sk-toggleable\"><input class=\"sk-toggleable__control sk-hidden--visually\" id=\"7bfc5db6-1e20-4040-8056-aaa4aa9adf1e\" type=\"checkbox\" ><label for=\"7bfc5db6-1e20-4040-8056-aaa4aa9adf1e\" class=\"sk-toggleable__label sk-toggleable__label-arrow\">VotingRegressor</label><div class=\"sk-toggleable__content\"><pre>VotingRegressor(estimators=[(&#x27;x9&#x27;, RandomForestRegressor()), (&#x27;x10&#x27;, SVR())],\n",
              "                verbose=True)</pre></div></div></div><div class=\"sk-parallel\"><div class=\"sk-parallel-item\"><div class=\"sk-item\"><div class=\"sk-label-container\"><div class=\"sk-label sk-toggleable\"><label>x9</label></div></div><div class=\"sk-serial\"><div class=\"sk-item\"><div class=\"sk-estimator sk-toggleable\"><input class=\"sk-toggleable__control sk-hidden--visually\" id=\"e54b4a10-2c1a-4cb6-95b3-0b7315a90f4e\" type=\"checkbox\" ><label for=\"e54b4a10-2c1a-4cb6-95b3-0b7315a90f4e\" class=\"sk-toggleable__label sk-toggleable__label-arrow\">RandomForestRegressor</label><div class=\"sk-toggleable__content\"><pre>RandomForestRegressor()</pre></div></div></div></div></div></div><div class=\"sk-parallel-item\"><div class=\"sk-item\"><div class=\"sk-label-container\"><div class=\"sk-label sk-toggleable\"><label>x10</label></div></div><div class=\"sk-serial\"><div class=\"sk-item\"><div class=\"sk-estimator sk-toggleable\"><input class=\"sk-toggleable__control sk-hidden--visually\" id=\"22f6e5d6-0d15-40c4-842b-77eac0f28952\" type=\"checkbox\" ><label for=\"22f6e5d6-0d15-40c4-842b-77eac0f28952\" class=\"sk-toggleable__label sk-toggleable__label-arrow\">SVR</label><div class=\"sk-toggleable__content\"><pre>SVR()</pre></div></div></div></div></div></div></div></div></div></div>"
            ]
          },
          "metadata": {},
          "execution_count": 132
        }
      ]
    },
    {
      "cell_type": "code",
      "source": [
        "pipe_vi = make_pipeline(trans,model_vi)\n",
        "pipe_vi"
      ],
      "metadata": {
        "colab": {
          "base_uri": "https://localhost:8080/",
          "height": 250
        },
        "id": "matIqX8D-Plg",
        "outputId": "cb50b758-80f7-4c21-dbeb-3982868067d1"
      },
      "execution_count": null,
      "outputs": [
        {
          "output_type": "execute_result",
          "data": {
            "text/plain": [
              "Pipeline(steps=[('columntransformer',\n",
              "                 ColumnTransformer(remainder='passthrough',\n",
              "                                   transformers=[('powertransformer',\n",
              "                                                  PowerTransformer(), [0, 1]),\n",
              "                                                 ('kbinsdiscretizer',\n",
              "                                                  KBinsDiscretizer(), [2]),\n",
              "                                                 ('binarizer',\n",
              "                                                  Binarizer(threshold=55),\n",
              "                                                  [3, 4, 8])])),\n",
              "                ('votingregressor',\n",
              "                 VotingRegressor(estimators=[('x9', RandomForestRegressor()),\n",
              "                                             ('x10', SVR())],\n",
              "                                 verbose=True))])"
            ],
            "text/html": [
              "<style>#sk-c16029b2-690a-4e23-b510-5b6b8a632d0f {color: black;background-color: white;}#sk-c16029b2-690a-4e23-b510-5b6b8a632d0f pre{padding: 0;}#sk-c16029b2-690a-4e23-b510-5b6b8a632d0f div.sk-toggleable {background-color: white;}#sk-c16029b2-690a-4e23-b510-5b6b8a632d0f label.sk-toggleable__label {cursor: pointer;display: block;width: 100%;margin-bottom: 0;padding: 0.3em;box-sizing: border-box;text-align: center;}#sk-c16029b2-690a-4e23-b510-5b6b8a632d0f label.sk-toggleable__label-arrow:before {content: \"▸\";float: left;margin-right: 0.25em;color: #696969;}#sk-c16029b2-690a-4e23-b510-5b6b8a632d0f label.sk-toggleable__label-arrow:hover:before {color: black;}#sk-c16029b2-690a-4e23-b510-5b6b8a632d0f div.sk-estimator:hover label.sk-toggleable__label-arrow:before {color: black;}#sk-c16029b2-690a-4e23-b510-5b6b8a632d0f div.sk-toggleable__content {max-height: 0;max-width: 0;overflow: hidden;text-align: left;background-color: #f0f8ff;}#sk-c16029b2-690a-4e23-b510-5b6b8a632d0f div.sk-toggleable__content pre {margin: 0.2em;color: black;border-radius: 0.25em;background-color: #f0f8ff;}#sk-c16029b2-690a-4e23-b510-5b6b8a632d0f input.sk-toggleable__control:checked~div.sk-toggleable__content {max-height: 200px;max-width: 100%;overflow: auto;}#sk-c16029b2-690a-4e23-b510-5b6b8a632d0f input.sk-toggleable__control:checked~label.sk-toggleable__label-arrow:before {content: \"▾\";}#sk-c16029b2-690a-4e23-b510-5b6b8a632d0f div.sk-estimator input.sk-toggleable__control:checked~label.sk-toggleable__label {background-color: #d4ebff;}#sk-c16029b2-690a-4e23-b510-5b6b8a632d0f div.sk-label input.sk-toggleable__control:checked~label.sk-toggleable__label {background-color: #d4ebff;}#sk-c16029b2-690a-4e23-b510-5b6b8a632d0f input.sk-hidden--visually {border: 0;clip: rect(1px 1px 1px 1px);clip: rect(1px, 1px, 1px, 1px);height: 1px;margin: -1px;overflow: hidden;padding: 0;position: absolute;width: 1px;}#sk-c16029b2-690a-4e23-b510-5b6b8a632d0f div.sk-estimator {font-family: monospace;background-color: #f0f8ff;border: 1px dotted black;border-radius: 0.25em;box-sizing: border-box;margin-bottom: 0.5em;}#sk-c16029b2-690a-4e23-b510-5b6b8a632d0f div.sk-estimator:hover {background-color: #d4ebff;}#sk-c16029b2-690a-4e23-b510-5b6b8a632d0f div.sk-parallel-item::after {content: \"\";width: 100%;border-bottom: 1px solid gray;flex-grow: 1;}#sk-c16029b2-690a-4e23-b510-5b6b8a632d0f div.sk-label:hover label.sk-toggleable__label {background-color: #d4ebff;}#sk-c16029b2-690a-4e23-b510-5b6b8a632d0f div.sk-serial::before {content: \"\";position: absolute;border-left: 1px solid gray;box-sizing: border-box;top: 2em;bottom: 0;left: 50%;}#sk-c16029b2-690a-4e23-b510-5b6b8a632d0f div.sk-serial {display: flex;flex-direction: column;align-items: center;background-color: white;padding-right: 0.2em;padding-left: 0.2em;}#sk-c16029b2-690a-4e23-b510-5b6b8a632d0f div.sk-item {z-index: 1;}#sk-c16029b2-690a-4e23-b510-5b6b8a632d0f div.sk-parallel {display: flex;align-items: stretch;justify-content: center;background-color: white;}#sk-c16029b2-690a-4e23-b510-5b6b8a632d0f div.sk-parallel::before {content: \"\";position: absolute;border-left: 1px solid gray;box-sizing: border-box;top: 2em;bottom: 0;left: 50%;}#sk-c16029b2-690a-4e23-b510-5b6b8a632d0f div.sk-parallel-item {display: flex;flex-direction: column;position: relative;background-color: white;}#sk-c16029b2-690a-4e23-b510-5b6b8a632d0f div.sk-parallel-item:first-child::after {align-self: flex-end;width: 50%;}#sk-c16029b2-690a-4e23-b510-5b6b8a632d0f div.sk-parallel-item:last-child::after {align-self: flex-start;width: 50%;}#sk-c16029b2-690a-4e23-b510-5b6b8a632d0f div.sk-parallel-item:only-child::after {width: 0;}#sk-c16029b2-690a-4e23-b510-5b6b8a632d0f div.sk-dashed-wrapped {border: 1px dashed gray;margin: 0 0.4em 0.5em 0.4em;box-sizing: border-box;padding-bottom: 0.4em;background-color: white;position: relative;}#sk-c16029b2-690a-4e23-b510-5b6b8a632d0f div.sk-label label {font-family: monospace;font-weight: bold;background-color: white;display: inline-block;line-height: 1.2em;}#sk-c16029b2-690a-4e23-b510-5b6b8a632d0f div.sk-label-container {position: relative;z-index: 2;text-align: center;}#sk-c16029b2-690a-4e23-b510-5b6b8a632d0f div.sk-container {/* jupyter's `normalize.less` sets `[hidden] { display: none; }` but bootstrap.min.css set `[hidden] { display: none !important; }` so we also need the `!important` here to be able to override the default hidden behavior on the sphinx rendered scikit-learn.org. See: https://github.com/scikit-learn/scikit-learn/issues/21755 */display: inline-block !important;position: relative;}#sk-c16029b2-690a-4e23-b510-5b6b8a632d0f div.sk-text-repr-fallback {display: none;}</style><div id=\"sk-c16029b2-690a-4e23-b510-5b6b8a632d0f\" class=\"sk-top-container\"><div class=\"sk-text-repr-fallback\"><pre>Pipeline(steps=[(&#x27;columntransformer&#x27;,\n",
              "                 ColumnTransformer(remainder=&#x27;passthrough&#x27;,\n",
              "                                   transformers=[(&#x27;powertransformer&#x27;,\n",
              "                                                  PowerTransformer(), [0, 1]),\n",
              "                                                 (&#x27;kbinsdiscretizer&#x27;,\n",
              "                                                  KBinsDiscretizer(), [2]),\n",
              "                                                 (&#x27;binarizer&#x27;,\n",
              "                                                  Binarizer(threshold=55),\n",
              "                                                  [3, 4, 8])])),\n",
              "                (&#x27;votingregressor&#x27;,\n",
              "                 VotingRegressor(estimators=[(&#x27;x9&#x27;, RandomForestRegressor()),\n",
              "                                             (&#x27;x10&#x27;, SVR())],\n",
              "                                 verbose=True))])</pre><b>Please rerun this cell to show the HTML repr or trust the notebook.</b></div><div class=\"sk-container\" hidden><div class=\"sk-item sk-dashed-wrapped\"><div class=\"sk-label-container\"><div class=\"sk-label sk-toggleable\"><input class=\"sk-toggleable__control sk-hidden--visually\" id=\"2f8fa6be-3447-40b5-b2d6-f666032bfbf8\" type=\"checkbox\" ><label for=\"2f8fa6be-3447-40b5-b2d6-f666032bfbf8\" class=\"sk-toggleable__label sk-toggleable__label-arrow\">Pipeline</label><div class=\"sk-toggleable__content\"><pre>Pipeline(steps=[(&#x27;columntransformer&#x27;,\n",
              "                 ColumnTransformer(remainder=&#x27;passthrough&#x27;,\n",
              "                                   transformers=[(&#x27;powertransformer&#x27;,\n",
              "                                                  PowerTransformer(), [0, 1]),\n",
              "                                                 (&#x27;kbinsdiscretizer&#x27;,\n",
              "                                                  KBinsDiscretizer(), [2]),\n",
              "                                                 (&#x27;binarizer&#x27;,\n",
              "                                                  Binarizer(threshold=55),\n",
              "                                                  [3, 4, 8])])),\n",
              "                (&#x27;votingregressor&#x27;,\n",
              "                 VotingRegressor(estimators=[(&#x27;x9&#x27;, RandomForestRegressor()),\n",
              "                                             (&#x27;x10&#x27;, SVR())],\n",
              "                                 verbose=True))])</pre></div></div></div><div class=\"sk-serial\"><div class=\"sk-item sk-dashed-wrapped\"><div class=\"sk-label-container\"><div class=\"sk-label sk-toggleable\"><input class=\"sk-toggleable__control sk-hidden--visually\" id=\"47d33067-9d12-4b16-9d3e-b782a822638e\" type=\"checkbox\" ><label for=\"47d33067-9d12-4b16-9d3e-b782a822638e\" class=\"sk-toggleable__label sk-toggleable__label-arrow\">columntransformer: ColumnTransformer</label><div class=\"sk-toggleable__content\"><pre>ColumnTransformer(remainder=&#x27;passthrough&#x27;,\n",
              "                  transformers=[(&#x27;powertransformer&#x27;, PowerTransformer(),\n",
              "                                 [0, 1]),\n",
              "                                (&#x27;kbinsdiscretizer&#x27;, KBinsDiscretizer(), [2]),\n",
              "                                (&#x27;binarizer&#x27;, Binarizer(threshold=55),\n",
              "                                 [3, 4, 8])])</pre></div></div></div><div class=\"sk-parallel\"><div class=\"sk-parallel-item\"><div class=\"sk-item\"><div class=\"sk-label-container\"><div class=\"sk-label sk-toggleable\"><input class=\"sk-toggleable__control sk-hidden--visually\" id=\"611ae674-4d2b-44d5-a20d-4c8b0199a742\" type=\"checkbox\" ><label for=\"611ae674-4d2b-44d5-a20d-4c8b0199a742\" class=\"sk-toggleable__label sk-toggleable__label-arrow\">powertransformer</label><div class=\"sk-toggleable__content\"><pre>[0, 1]</pre></div></div></div><div class=\"sk-serial\"><div class=\"sk-item\"><div class=\"sk-estimator sk-toggleable\"><input class=\"sk-toggleable__control sk-hidden--visually\" id=\"3da36d75-4753-4e7a-9011-8fdeff9875e2\" type=\"checkbox\" ><label for=\"3da36d75-4753-4e7a-9011-8fdeff9875e2\" class=\"sk-toggleable__label sk-toggleable__label-arrow\">PowerTransformer</label><div class=\"sk-toggleable__content\"><pre>PowerTransformer()</pre></div></div></div></div></div></div><div class=\"sk-parallel-item\"><div class=\"sk-item\"><div class=\"sk-label-container\"><div class=\"sk-label sk-toggleable\"><input class=\"sk-toggleable__control sk-hidden--visually\" id=\"81a1f208-50ca-4ad9-afc3-6d953aada9d1\" type=\"checkbox\" ><label for=\"81a1f208-50ca-4ad9-afc3-6d953aada9d1\" class=\"sk-toggleable__label sk-toggleable__label-arrow\">kbinsdiscretizer</label><div class=\"sk-toggleable__content\"><pre>[2]</pre></div></div></div><div class=\"sk-serial\"><div class=\"sk-item\"><div class=\"sk-estimator sk-toggleable\"><input class=\"sk-toggleable__control sk-hidden--visually\" id=\"2f160951-9cf0-4f6f-b5de-fd22bce22e75\" type=\"checkbox\" ><label for=\"2f160951-9cf0-4f6f-b5de-fd22bce22e75\" class=\"sk-toggleable__label sk-toggleable__label-arrow\">KBinsDiscretizer</label><div class=\"sk-toggleable__content\"><pre>KBinsDiscretizer()</pre></div></div></div></div></div></div><div class=\"sk-parallel-item\"><div class=\"sk-item\"><div class=\"sk-label-container\"><div class=\"sk-label sk-toggleable\"><input class=\"sk-toggleable__control sk-hidden--visually\" id=\"5bfe10e9-64e1-40f7-b8f3-fe3784583c04\" type=\"checkbox\" ><label for=\"5bfe10e9-64e1-40f7-b8f3-fe3784583c04\" class=\"sk-toggleable__label sk-toggleable__label-arrow\">binarizer</label><div class=\"sk-toggleable__content\"><pre>[3, 4, 8]</pre></div></div></div><div class=\"sk-serial\"><div class=\"sk-item\"><div class=\"sk-estimator sk-toggleable\"><input class=\"sk-toggleable__control sk-hidden--visually\" id=\"ca2bef61-d612-424f-994d-6237923139eb\" type=\"checkbox\" ><label for=\"ca2bef61-d612-424f-994d-6237923139eb\" class=\"sk-toggleable__label sk-toggleable__label-arrow\">Binarizer</label><div class=\"sk-toggleable__content\"><pre>Binarizer(threshold=55)</pre></div></div></div></div></div></div><div class=\"sk-parallel-item\"><div class=\"sk-item\"><div class=\"sk-label-container\"><div class=\"sk-label sk-toggleable\"><input class=\"sk-toggleable__control sk-hidden--visually\" id=\"a4f496bc-e1f1-410a-8541-8a88dfa42c60\" type=\"checkbox\" ><label for=\"a4f496bc-e1f1-410a-8541-8a88dfa42c60\" class=\"sk-toggleable__label sk-toggleable__label-arrow\">remainder</label><div class=\"sk-toggleable__content\"><pre>[&#x27;idle_time&#x27;, &#x27;idle_men&#x27;, &#x27;no_of_style_change&#x27;]</pre></div></div></div><div class=\"sk-serial\"><div class=\"sk-item\"><div class=\"sk-estimator sk-toggleable\"><input class=\"sk-toggleable__control sk-hidden--visually\" id=\"32944904-81a8-429b-a0c4-308317f3d694\" type=\"checkbox\" ><label for=\"32944904-81a8-429b-a0c4-308317f3d694\" class=\"sk-toggleable__label sk-toggleable__label-arrow\">passthrough</label><div class=\"sk-toggleable__content\"><pre>passthrough</pre></div></div></div></div></div></div></div></div><div class=\"sk-item sk-dashed-wrapped\"><div class=\"sk-label-container\"><div class=\"sk-label sk-toggleable\"><input class=\"sk-toggleable__control sk-hidden--visually\" id=\"0dc067b3-65e1-4f12-a718-8494374fb166\" type=\"checkbox\" ><label for=\"0dc067b3-65e1-4f12-a718-8494374fb166\" class=\"sk-toggleable__label sk-toggleable__label-arrow\">votingregressor: VotingRegressor</label><div class=\"sk-toggleable__content\"><pre>VotingRegressor(estimators=[(&#x27;x9&#x27;, RandomForestRegressor()), (&#x27;x10&#x27;, SVR())],\n",
              "                verbose=True)</pre></div></div></div><div class=\"sk-parallel\"><div class=\"sk-parallel-item\"><div class=\"sk-item\"><div class=\"sk-label-container\"><div class=\"sk-label sk-toggleable\"><label>x9</label></div></div><div class=\"sk-serial\"><div class=\"sk-item\"><div class=\"sk-estimator sk-toggleable\"><input class=\"sk-toggleable__control sk-hidden--visually\" id=\"118a7a54-791f-4a17-8ba9-8fcf06ebb886\" type=\"checkbox\" ><label for=\"118a7a54-791f-4a17-8ba9-8fcf06ebb886\" class=\"sk-toggleable__label sk-toggleable__label-arrow\">RandomForestRegressor</label><div class=\"sk-toggleable__content\"><pre>RandomForestRegressor()</pre></div></div></div></div></div></div><div class=\"sk-parallel-item\"><div class=\"sk-item\"><div class=\"sk-label-container\"><div class=\"sk-label sk-toggleable\"><label>x10</label></div></div><div class=\"sk-serial\"><div class=\"sk-item\"><div class=\"sk-estimator sk-toggleable\"><input class=\"sk-toggleable__control sk-hidden--visually\" id=\"f2206efa-e3bb-4d72-8df3-be8d4d303cf4\" type=\"checkbox\" ><label for=\"f2206efa-e3bb-4d72-8df3-be8d4d303cf4\" class=\"sk-toggleable__label sk-toggleable__label-arrow\">SVR</label><div class=\"sk-toggleable__content\"><pre>SVR()</pre></div></div></div></div></div></div></div></div></div></div></div></div>"
            ]
          },
          "metadata": {},
          "execution_count": 133
        }
      ]
    },
    {
      "cell_type": "code",
      "source": [
        "pipe_vi.fit(x_train,y_train)"
      ],
      "metadata": {
        "colab": {
          "base_uri": "https://localhost:8080/",
          "height": 340
        },
        "outputId": "7f7b06dc-502e-49e6-9639-82ec41e62569",
        "id": "GkIYzIA2-YoP"
      },
      "execution_count": null,
      "outputs": [
        {
          "output_type": "stream",
          "name": "stderr",
          "text": [
            "/usr/local/lib/python3.7/dist-packages/sklearn/ensemble/_voting.py:528: DataConversionWarning: A column-vector y was passed when a 1d array was expected. Please change the shape of y to (n_samples, ), for example using ravel().\n",
            "  y = column_or_1d(y, warn=True)\n"
          ]
        },
        {
          "output_type": "stream",
          "name": "stdout",
          "text": [
            "[Voting] ....................... (1 of 2) Processing x9, total=   0.2s\n",
            "[Voting] ...................... (2 of 2) Processing x10, total=   0.0s\n"
          ]
        },
        {
          "output_type": "execute_result",
          "data": {
            "text/plain": [
              "Pipeline(steps=[('columntransformer',\n",
              "                 ColumnTransformer(remainder='passthrough',\n",
              "                                   transformers=[('powertransformer',\n",
              "                                                  PowerTransformer(), [0, 1]),\n",
              "                                                 ('kbinsdiscretizer',\n",
              "                                                  KBinsDiscretizer(), [2]),\n",
              "                                                 ('binarizer',\n",
              "                                                  Binarizer(threshold=55),\n",
              "                                                  [3, 4, 8])])),\n",
              "                ('votingregressor',\n",
              "                 VotingRegressor(estimators=[('x9', RandomForestRegressor()),\n",
              "                                             ('x10', SVR())],\n",
              "                                 verbose=True))])"
            ],
            "text/html": [
              "<style>#sk-b3dc623e-8022-4cb8-841d-974f4c68bc9e {color: black;background-color: white;}#sk-b3dc623e-8022-4cb8-841d-974f4c68bc9e pre{padding: 0;}#sk-b3dc623e-8022-4cb8-841d-974f4c68bc9e div.sk-toggleable {background-color: white;}#sk-b3dc623e-8022-4cb8-841d-974f4c68bc9e label.sk-toggleable__label {cursor: pointer;display: block;width: 100%;margin-bottom: 0;padding: 0.3em;box-sizing: border-box;text-align: center;}#sk-b3dc623e-8022-4cb8-841d-974f4c68bc9e label.sk-toggleable__label-arrow:before {content: \"▸\";float: left;margin-right: 0.25em;color: #696969;}#sk-b3dc623e-8022-4cb8-841d-974f4c68bc9e label.sk-toggleable__label-arrow:hover:before {color: black;}#sk-b3dc623e-8022-4cb8-841d-974f4c68bc9e div.sk-estimator:hover label.sk-toggleable__label-arrow:before {color: black;}#sk-b3dc623e-8022-4cb8-841d-974f4c68bc9e div.sk-toggleable__content {max-height: 0;max-width: 0;overflow: hidden;text-align: left;background-color: #f0f8ff;}#sk-b3dc623e-8022-4cb8-841d-974f4c68bc9e div.sk-toggleable__content pre {margin: 0.2em;color: black;border-radius: 0.25em;background-color: #f0f8ff;}#sk-b3dc623e-8022-4cb8-841d-974f4c68bc9e input.sk-toggleable__control:checked~div.sk-toggleable__content {max-height: 200px;max-width: 100%;overflow: auto;}#sk-b3dc623e-8022-4cb8-841d-974f4c68bc9e input.sk-toggleable__control:checked~label.sk-toggleable__label-arrow:before {content: \"▾\";}#sk-b3dc623e-8022-4cb8-841d-974f4c68bc9e div.sk-estimator input.sk-toggleable__control:checked~label.sk-toggleable__label {background-color: #d4ebff;}#sk-b3dc623e-8022-4cb8-841d-974f4c68bc9e div.sk-label input.sk-toggleable__control:checked~label.sk-toggleable__label {background-color: #d4ebff;}#sk-b3dc623e-8022-4cb8-841d-974f4c68bc9e input.sk-hidden--visually {border: 0;clip: rect(1px 1px 1px 1px);clip: rect(1px, 1px, 1px, 1px);height: 1px;margin: -1px;overflow: hidden;padding: 0;position: absolute;width: 1px;}#sk-b3dc623e-8022-4cb8-841d-974f4c68bc9e div.sk-estimator {font-family: monospace;background-color: #f0f8ff;border: 1px dotted black;border-radius: 0.25em;box-sizing: border-box;margin-bottom: 0.5em;}#sk-b3dc623e-8022-4cb8-841d-974f4c68bc9e div.sk-estimator:hover {background-color: #d4ebff;}#sk-b3dc623e-8022-4cb8-841d-974f4c68bc9e div.sk-parallel-item::after {content: \"\";width: 100%;border-bottom: 1px solid gray;flex-grow: 1;}#sk-b3dc623e-8022-4cb8-841d-974f4c68bc9e div.sk-label:hover label.sk-toggleable__label {background-color: #d4ebff;}#sk-b3dc623e-8022-4cb8-841d-974f4c68bc9e div.sk-serial::before {content: \"\";position: absolute;border-left: 1px solid gray;box-sizing: border-box;top: 2em;bottom: 0;left: 50%;}#sk-b3dc623e-8022-4cb8-841d-974f4c68bc9e div.sk-serial {display: flex;flex-direction: column;align-items: center;background-color: white;padding-right: 0.2em;padding-left: 0.2em;}#sk-b3dc623e-8022-4cb8-841d-974f4c68bc9e div.sk-item {z-index: 1;}#sk-b3dc623e-8022-4cb8-841d-974f4c68bc9e div.sk-parallel {display: flex;align-items: stretch;justify-content: center;background-color: white;}#sk-b3dc623e-8022-4cb8-841d-974f4c68bc9e div.sk-parallel::before {content: \"\";position: absolute;border-left: 1px solid gray;box-sizing: border-box;top: 2em;bottom: 0;left: 50%;}#sk-b3dc623e-8022-4cb8-841d-974f4c68bc9e div.sk-parallel-item {display: flex;flex-direction: column;position: relative;background-color: white;}#sk-b3dc623e-8022-4cb8-841d-974f4c68bc9e div.sk-parallel-item:first-child::after {align-self: flex-end;width: 50%;}#sk-b3dc623e-8022-4cb8-841d-974f4c68bc9e div.sk-parallel-item:last-child::after {align-self: flex-start;width: 50%;}#sk-b3dc623e-8022-4cb8-841d-974f4c68bc9e div.sk-parallel-item:only-child::after {width: 0;}#sk-b3dc623e-8022-4cb8-841d-974f4c68bc9e div.sk-dashed-wrapped {border: 1px dashed gray;margin: 0 0.4em 0.5em 0.4em;box-sizing: border-box;padding-bottom: 0.4em;background-color: white;position: relative;}#sk-b3dc623e-8022-4cb8-841d-974f4c68bc9e div.sk-label label {font-family: monospace;font-weight: bold;background-color: white;display: inline-block;line-height: 1.2em;}#sk-b3dc623e-8022-4cb8-841d-974f4c68bc9e div.sk-label-container {position: relative;z-index: 2;text-align: center;}#sk-b3dc623e-8022-4cb8-841d-974f4c68bc9e div.sk-container {/* jupyter's `normalize.less` sets `[hidden] { display: none; }` but bootstrap.min.css set `[hidden] { display: none !important; }` so we also need the `!important` here to be able to override the default hidden behavior on the sphinx rendered scikit-learn.org. See: https://github.com/scikit-learn/scikit-learn/issues/21755 */display: inline-block !important;position: relative;}#sk-b3dc623e-8022-4cb8-841d-974f4c68bc9e div.sk-text-repr-fallback {display: none;}</style><div id=\"sk-b3dc623e-8022-4cb8-841d-974f4c68bc9e\" class=\"sk-top-container\"><div class=\"sk-text-repr-fallback\"><pre>Pipeline(steps=[(&#x27;columntransformer&#x27;,\n",
              "                 ColumnTransformer(remainder=&#x27;passthrough&#x27;,\n",
              "                                   transformers=[(&#x27;powertransformer&#x27;,\n",
              "                                                  PowerTransformer(), [0, 1]),\n",
              "                                                 (&#x27;kbinsdiscretizer&#x27;,\n",
              "                                                  KBinsDiscretizer(), [2]),\n",
              "                                                 (&#x27;binarizer&#x27;,\n",
              "                                                  Binarizer(threshold=55),\n",
              "                                                  [3, 4, 8])])),\n",
              "                (&#x27;votingregressor&#x27;,\n",
              "                 VotingRegressor(estimators=[(&#x27;x9&#x27;, RandomForestRegressor()),\n",
              "                                             (&#x27;x10&#x27;, SVR())],\n",
              "                                 verbose=True))])</pre><b>Please rerun this cell to show the HTML repr or trust the notebook.</b></div><div class=\"sk-container\" hidden><div class=\"sk-item sk-dashed-wrapped\"><div class=\"sk-label-container\"><div class=\"sk-label sk-toggleable\"><input class=\"sk-toggleable__control sk-hidden--visually\" id=\"6cb5a057-8792-43aa-be73-a0ea34193d20\" type=\"checkbox\" ><label for=\"6cb5a057-8792-43aa-be73-a0ea34193d20\" class=\"sk-toggleable__label sk-toggleable__label-arrow\">Pipeline</label><div class=\"sk-toggleable__content\"><pre>Pipeline(steps=[(&#x27;columntransformer&#x27;,\n",
              "                 ColumnTransformer(remainder=&#x27;passthrough&#x27;,\n",
              "                                   transformers=[(&#x27;powertransformer&#x27;,\n",
              "                                                  PowerTransformer(), [0, 1]),\n",
              "                                                 (&#x27;kbinsdiscretizer&#x27;,\n",
              "                                                  KBinsDiscretizer(), [2]),\n",
              "                                                 (&#x27;binarizer&#x27;,\n",
              "                                                  Binarizer(threshold=55),\n",
              "                                                  [3, 4, 8])])),\n",
              "                (&#x27;votingregressor&#x27;,\n",
              "                 VotingRegressor(estimators=[(&#x27;x9&#x27;, RandomForestRegressor()),\n",
              "                                             (&#x27;x10&#x27;, SVR())],\n",
              "                                 verbose=True))])</pre></div></div></div><div class=\"sk-serial\"><div class=\"sk-item sk-dashed-wrapped\"><div class=\"sk-label-container\"><div class=\"sk-label sk-toggleable\"><input class=\"sk-toggleable__control sk-hidden--visually\" id=\"fd765cfc-1a7d-4a5c-a60e-59d5e630bfb7\" type=\"checkbox\" ><label for=\"fd765cfc-1a7d-4a5c-a60e-59d5e630bfb7\" class=\"sk-toggleable__label sk-toggleable__label-arrow\">columntransformer: ColumnTransformer</label><div class=\"sk-toggleable__content\"><pre>ColumnTransformer(remainder=&#x27;passthrough&#x27;,\n",
              "                  transformers=[(&#x27;powertransformer&#x27;, PowerTransformer(),\n",
              "                                 [0, 1]),\n",
              "                                (&#x27;kbinsdiscretizer&#x27;, KBinsDiscretizer(), [2]),\n",
              "                                (&#x27;binarizer&#x27;, Binarizer(threshold=55),\n",
              "                                 [3, 4, 8])])</pre></div></div></div><div class=\"sk-parallel\"><div class=\"sk-parallel-item\"><div class=\"sk-item\"><div class=\"sk-label-container\"><div class=\"sk-label sk-toggleable\"><input class=\"sk-toggleable__control sk-hidden--visually\" id=\"25298d2f-fb82-406b-b4c3-4d3e5fc046d5\" type=\"checkbox\" ><label for=\"25298d2f-fb82-406b-b4c3-4d3e5fc046d5\" class=\"sk-toggleable__label sk-toggleable__label-arrow\">powertransformer</label><div class=\"sk-toggleable__content\"><pre>[0, 1]</pre></div></div></div><div class=\"sk-serial\"><div class=\"sk-item\"><div class=\"sk-estimator sk-toggleable\"><input class=\"sk-toggleable__control sk-hidden--visually\" id=\"cb24e3e6-0234-4adf-b380-a910123c9d73\" type=\"checkbox\" ><label for=\"cb24e3e6-0234-4adf-b380-a910123c9d73\" class=\"sk-toggleable__label sk-toggleable__label-arrow\">PowerTransformer</label><div class=\"sk-toggleable__content\"><pre>PowerTransformer()</pre></div></div></div></div></div></div><div class=\"sk-parallel-item\"><div class=\"sk-item\"><div class=\"sk-label-container\"><div class=\"sk-label sk-toggleable\"><input class=\"sk-toggleable__control sk-hidden--visually\" id=\"4b8ad687-318f-4077-bcfa-df73fdc84c12\" type=\"checkbox\" ><label for=\"4b8ad687-318f-4077-bcfa-df73fdc84c12\" class=\"sk-toggleable__label sk-toggleable__label-arrow\">kbinsdiscretizer</label><div class=\"sk-toggleable__content\"><pre>[2]</pre></div></div></div><div class=\"sk-serial\"><div class=\"sk-item\"><div class=\"sk-estimator sk-toggleable\"><input class=\"sk-toggleable__control sk-hidden--visually\" id=\"a94e181d-31a1-479b-8b4f-20bd1647cc5a\" type=\"checkbox\" ><label for=\"a94e181d-31a1-479b-8b4f-20bd1647cc5a\" class=\"sk-toggleable__label sk-toggleable__label-arrow\">KBinsDiscretizer</label><div class=\"sk-toggleable__content\"><pre>KBinsDiscretizer()</pre></div></div></div></div></div></div><div class=\"sk-parallel-item\"><div class=\"sk-item\"><div class=\"sk-label-container\"><div class=\"sk-label sk-toggleable\"><input class=\"sk-toggleable__control sk-hidden--visually\" id=\"69f7ed8e-62ee-4c5d-b656-2954f1b3eb04\" type=\"checkbox\" ><label for=\"69f7ed8e-62ee-4c5d-b656-2954f1b3eb04\" class=\"sk-toggleable__label sk-toggleable__label-arrow\">binarizer</label><div class=\"sk-toggleable__content\"><pre>[3, 4, 8]</pre></div></div></div><div class=\"sk-serial\"><div class=\"sk-item\"><div class=\"sk-estimator sk-toggleable\"><input class=\"sk-toggleable__control sk-hidden--visually\" id=\"bcaa9c4c-cc22-4828-bd8f-7836b576ab41\" type=\"checkbox\" ><label for=\"bcaa9c4c-cc22-4828-bd8f-7836b576ab41\" class=\"sk-toggleable__label sk-toggleable__label-arrow\">Binarizer</label><div class=\"sk-toggleable__content\"><pre>Binarizer(threshold=55)</pre></div></div></div></div></div></div><div class=\"sk-parallel-item\"><div class=\"sk-item\"><div class=\"sk-label-container\"><div class=\"sk-label sk-toggleable\"><input class=\"sk-toggleable__control sk-hidden--visually\" id=\"ecc79748-3a63-41a7-a2cc-0f6fbed97210\" type=\"checkbox\" ><label for=\"ecc79748-3a63-41a7-a2cc-0f6fbed97210\" class=\"sk-toggleable__label sk-toggleable__label-arrow\">remainder</label><div class=\"sk-toggleable__content\"><pre>[&#x27;idle_time&#x27;, &#x27;idle_men&#x27;, &#x27;no_of_style_change&#x27;]</pre></div></div></div><div class=\"sk-serial\"><div class=\"sk-item\"><div class=\"sk-estimator sk-toggleable\"><input class=\"sk-toggleable__control sk-hidden--visually\" id=\"7eb8e618-2f66-4822-9e89-44cde7a3c95f\" type=\"checkbox\" ><label for=\"7eb8e618-2f66-4822-9e89-44cde7a3c95f\" class=\"sk-toggleable__label sk-toggleable__label-arrow\">passthrough</label><div class=\"sk-toggleable__content\"><pre>passthrough</pre></div></div></div></div></div></div></div></div><div class=\"sk-item sk-dashed-wrapped\"><div class=\"sk-label-container\"><div class=\"sk-label sk-toggleable\"><input class=\"sk-toggleable__control sk-hidden--visually\" id=\"353de2ca-54d7-4481-84f3-8c6620f04651\" type=\"checkbox\" ><label for=\"353de2ca-54d7-4481-84f3-8c6620f04651\" class=\"sk-toggleable__label sk-toggleable__label-arrow\">votingregressor: VotingRegressor</label><div class=\"sk-toggleable__content\"><pre>VotingRegressor(estimators=[(&#x27;x9&#x27;, RandomForestRegressor()), (&#x27;x10&#x27;, SVR())],\n",
              "                verbose=True)</pre></div></div></div><div class=\"sk-parallel\"><div class=\"sk-parallel-item\"><div class=\"sk-item\"><div class=\"sk-label-container\"><div class=\"sk-label sk-toggleable\"><label>x9</label></div></div><div class=\"sk-serial\"><div class=\"sk-item\"><div class=\"sk-estimator sk-toggleable\"><input class=\"sk-toggleable__control sk-hidden--visually\" id=\"b45bdf4f-2011-45ab-b4c2-1fc1730370f8\" type=\"checkbox\" ><label for=\"b45bdf4f-2011-45ab-b4c2-1fc1730370f8\" class=\"sk-toggleable__label sk-toggleable__label-arrow\">RandomForestRegressor</label><div class=\"sk-toggleable__content\"><pre>RandomForestRegressor()</pre></div></div></div></div></div></div><div class=\"sk-parallel-item\"><div class=\"sk-item\"><div class=\"sk-label-container\"><div class=\"sk-label sk-toggleable\"><label>x10</label></div></div><div class=\"sk-serial\"><div class=\"sk-item\"><div class=\"sk-estimator sk-toggleable\"><input class=\"sk-toggleable__control sk-hidden--visually\" id=\"cb56f31a-283a-4df1-bd93-aa71380f7111\" type=\"checkbox\" ><label for=\"cb56f31a-283a-4df1-bd93-aa71380f7111\" class=\"sk-toggleable__label sk-toggleable__label-arrow\">SVR</label><div class=\"sk-toggleable__content\"><pre>SVR()</pre></div></div></div></div></div></div></div></div></div></div></div></div>"
            ]
          },
          "metadata": {},
          "execution_count": 134
        }
      ]
    },
    {
      "cell_type": "code",
      "source": [
        "pred_vi = pipe_vi.predict(x_test)"
      ],
      "metadata": {
        "id": "0cuJ-Uqk-YoR"
      },
      "execution_count": null,
      "outputs": []
    },
    {
      "cell_type": "code",
      "source": [
        "mean_squared_error(pred_vi,y_test)"
      ],
      "metadata": {
        "colab": {
          "base_uri": "https://localhost:8080/"
        },
        "outputId": "ca5f4903-5fe6-48c0-ea84-1edd8bdd85c9",
        "id": "x5jO5zFh-YoR"
      },
      "execution_count": null,
      "outputs": [
        {
          "output_type": "execute_result",
          "data": {
            "text/plain": [
              "0.015503370240228518"
            ]
          },
          "metadata": {},
          "execution_count": 136
        }
      ]
    },
    {
      "cell_type": "code",
      "source": [],
      "metadata": {
        "id": "E7VKIcFU_5a7"
      },
      "execution_count": null,
      "outputs": []
    }
  ]
}